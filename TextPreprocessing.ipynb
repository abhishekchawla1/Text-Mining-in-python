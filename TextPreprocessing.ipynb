{
 "cells": [
  {
   "cell_type": "code",
   "execution_count": 1,
   "id": "20382e79",
   "metadata": {},
   "outputs": [],
   "source": [
    "import pandas as pd\n",
    "import numpy as np"
   ]
  },
  {
   "cell_type": "code",
   "execution_count": 2,
   "id": "47b3b886",
   "metadata": {},
   "outputs": [],
   "source": [
    "text1='Ethics are built right into the ideals and objectives of the United Nations'"
   ]
  },
  {
   "cell_type": "code",
   "execution_count": 3,
   "id": "2bcef361",
   "metadata": {},
   "outputs": [
    {
     "name": "stdout",
     "output_type": "stream",
     "text": [
      "75\n"
     ]
    }
   ],
   "source": [
    "#No of characters\n",
    "print(len(text1))"
   ]
  },
  {
   "cell_type": "code",
   "execution_count": 4,
   "id": "55af8754",
   "metadata": {},
   "outputs": [
    {
     "name": "stdout",
     "output_type": "stream",
     "text": [
      "13\n"
     ]
    }
   ],
   "source": [
    "#No of words\n",
    "print(len(text1.split(' ')))"
   ]
  },
  {
   "cell_type": "code",
   "execution_count": 5,
   "id": "48bb26ca",
   "metadata": {},
   "outputs": [],
   "source": [
    "text2=text1.split(' ')"
   ]
  },
  {
   "cell_type": "code",
   "execution_count": 6,
   "id": "c7e0ebfb",
   "metadata": {},
   "outputs": [
    {
     "data": {
      "text/plain": [
       "['Ethics',\n",
       " 'are',\n",
       " 'built',\n",
       " 'right',\n",
       " 'into',\n",
       " 'the',\n",
       " 'ideals',\n",
       " 'and',\n",
       " 'objectives',\n",
       " 'of',\n",
       " 'the',\n",
       " 'United',\n",
       " 'Nations']"
      ]
     },
     "execution_count": 6,
     "metadata": {},
     "output_type": "execute_result"
    }
   ],
   "source": [
    "text2"
   ]
  },
  {
   "cell_type": "code",
   "execution_count": 7,
   "id": "4c34d36e",
   "metadata": {},
   "outputs": [],
   "source": [
    "#No of words with length>3\n",
    "text3=[word for word in text2 if len(word)>3]"
   ]
  },
  {
   "cell_type": "code",
   "execution_count": 8,
   "id": "729d4a2c",
   "metadata": {},
   "outputs": [
    {
     "data": {
      "text/plain": [
       "['Ethics',\n",
       " 'built',\n",
       " 'right',\n",
       " 'into',\n",
       " 'ideals',\n",
       " 'objectives',\n",
       " 'United',\n",
       " 'Nations']"
      ]
     },
     "execution_count": 8,
     "metadata": {},
     "output_type": "execute_result"
    }
   ],
   "source": [
    "text3"
   ]
  },
  {
   "cell_type": "code",
   "execution_count": 9,
   "id": "c2278975",
   "metadata": {},
   "outputs": [],
   "source": [
    "#No of Tite words\n",
    "text4=[word for word in text2 if word.istitle()]"
   ]
  },
  {
   "cell_type": "code",
   "execution_count": 10,
   "id": "a06d3084",
   "metadata": {},
   "outputs": [
    {
     "data": {
      "text/plain": [
       "['Ethics', 'United', 'Nations']"
      ]
     },
     "execution_count": 10,
     "metadata": {},
     "output_type": "execute_result"
    }
   ],
   "source": [
    "text4"
   ]
  },
  {
   "cell_type": "code",
   "execution_count": 11,
   "id": "09014870",
   "metadata": {},
   "outputs": [],
   "source": [
    "#No of words ending with the character s\n",
    "text5=[word for word in text2 if word.endswith('s')]"
   ]
  },
  {
   "cell_type": "code",
   "execution_count": 12,
   "id": "fda2c3dd",
   "metadata": {},
   "outputs": [
    {
     "data": {
      "text/plain": [
       "['Ethics', 'ideals', 'objectives', 'Nations']"
      ]
     },
     "execution_count": 12,
     "metadata": {},
     "output_type": "execute_result"
    }
   ],
   "source": [
    "text5"
   ]
  },
  {
   "cell_type": "code",
   "execution_count": 13,
   "id": "cef38ead",
   "metadata": {},
   "outputs": [
    {
     "name": "stdout",
     "output_type": "stream",
     "text": [
      "['To', 'be', 'or', 'not', 'to', 'be']\n"
     ]
    }
   ],
   "source": [
    "#Unique word count\n",
    "text6='To be or not to be'\n",
    "print(text6.split(' '))"
   ]
  },
  {
   "cell_type": "code",
   "execution_count": 14,
   "id": "9c646445",
   "metadata": {},
   "outputs": [
    {
     "name": "stdout",
     "output_type": "stream",
     "text": [
      "{'or', 'be', 'to', 'not', 'To'}\n"
     ]
    }
   ],
   "source": [
    " print(set(text6.split(' ')))"
   ]
  },
  {
   "cell_type": "code",
   "execution_count": 15,
   "id": "e6e92ec6",
   "metadata": {},
   "outputs": [
    {
     "name": "stdout",
     "output_type": "stream",
     "text": [
      "{'or', 'be', 'to', 'not'}\n"
     ]
    }
   ],
   "source": [
    "print(set(text6.lower().split(' ')))"
   ]
  },
  {
   "cell_type": "code",
   "execution_count": 16,
   "id": "cabe7281",
   "metadata": {},
   "outputs": [],
   "source": [
    "text7=' ouagadougou'"
   ]
  },
  {
   "cell_type": "code",
   "execution_count": 17,
   "id": "12efb525",
   "metadata": {},
   "outputs": [],
   "source": [
    "text8=text7.split('ou')"
   ]
  },
  {
   "cell_type": "code",
   "execution_count": 18,
   "id": "255baf15",
   "metadata": {},
   "outputs": [],
   "source": [
    "text7=text7.strip()"
   ]
  },
  {
   "cell_type": "code",
   "execution_count": 19,
   "id": "1d3b310d",
   "metadata": {},
   "outputs": [
    {
     "data": {
      "text/plain": [
       "'ouagadougou'"
      ]
     },
     "execution_count": 19,
     "metadata": {},
     "output_type": "execute_result"
    }
   ],
   "source": [
    "text7"
   ]
  },
  {
   "cell_type": "code",
   "execution_count": 20,
   "id": "54a23a57",
   "metadata": {},
   "outputs": [
    {
     "data": {
      "text/plain": [
       "[' ', 'agad', 'g', '']"
      ]
     },
     "execution_count": 20,
     "metadata": {},
     "output_type": "execute_result"
    }
   ],
   "source": [
    "text8"
   ]
  },
  {
   "cell_type": "code",
   "execution_count": 21,
   "id": "bdd04b36",
   "metadata": {},
   "outputs": [
    {
     "data": {
      "text/plain": [
       "' ouagadougou'"
      ]
     },
     "execution_count": 21,
     "metadata": {},
     "output_type": "execute_result"
    }
   ],
   "source": [
    "'ou'.join(text8)"
   ]
  },
  {
   "cell_type": "code",
   "execution_count": 22,
   "id": "d017550f",
   "metadata": {},
   "outputs": [
    {
     "data": {
      "text/plain": [
       "0"
      ]
     },
     "execution_count": 22,
     "metadata": {},
     "output_type": "execute_result"
    }
   ],
   "source": [
    "text7.find('o')"
   ]
  },
  {
   "cell_type": "code",
   "execution_count": 23,
   "id": "9bbade60",
   "metadata": {},
   "outputs": [
    {
     "data": {
      "text/plain": [
       "9"
      ]
     },
     "execution_count": 23,
     "metadata": {},
     "output_type": "execute_result"
    }
   ],
   "source": [
    "text7.rfind('o')"
   ]
  },
  {
   "cell_type": "code",
   "execution_count": 24,
   "id": "70bc2dbf",
   "metadata": {},
   "outputs": [],
   "source": [
    "text9='. #UNSG @NY Society for Ethical culture bit.ly/2guVelr @UN @UN_Women'\n",
    "text10=text1+text9"
   ]
  },
  {
   "cell_type": "code",
   "execution_count": 25,
   "id": "a8fdc1f3",
   "metadata": {},
   "outputs": [
    {
     "data": {
      "text/plain": [
       "'Ethics are built right into the ideals and objectives of the United Nations. #UNSG @NY Society for Ethical culture bit.ly/2guVelr @UN @UN_Women'"
      ]
     },
     "execution_count": 25,
     "metadata": {},
     "output_type": "execute_result"
    }
   ],
   "source": [
    "text10"
   ]
  },
  {
   "cell_type": "code",
   "execution_count": 26,
   "id": "5bf1f626",
   "metadata": {},
   "outputs": [],
   "source": [
    "#Number of hashtags along with hashtags"
   ]
  },
  {
   "cell_type": "code",
   "execution_count": 27,
   "id": "408cbe0a",
   "metadata": {},
   "outputs": [],
   "source": [
    "import re\n",
    "pattern_hash=re.compile('#\\w*')"
   ]
  },
  {
   "cell_type": "code",
   "execution_count": 28,
   "id": "d83c1f44",
   "metadata": {},
   "outputs": [],
   "source": [
    "x=re.findall(pattern_hash,text10)"
   ]
  },
  {
   "cell_type": "code",
   "execution_count": 29,
   "id": "3727caa3",
   "metadata": {},
   "outputs": [
    {
     "data": {
      "text/plain": [
       "1"
      ]
     },
     "execution_count": 29,
     "metadata": {},
     "output_type": "execute_result"
    }
   ],
   "source": [
    "len(x)"
   ]
  },
  {
   "cell_type": "code",
   "execution_count": 30,
   "id": "b1595655",
   "metadata": {},
   "outputs": [
    {
     "data": {
      "text/plain": [
       "['#UNSG']"
      ]
     },
     "execution_count": 30,
     "metadata": {},
     "output_type": "execute_result"
    }
   ],
   "source": [
    "x"
   ]
  },
  {
   "cell_type": "code",
   "execution_count": 31,
   "id": "8cbf393e",
   "metadata": {},
   "outputs": [],
   "source": [
    "#Number of @ along with the @"
   ]
  },
  {
   "cell_type": "code",
   "execution_count": 32,
   "id": "399e6bf5",
   "metadata": {},
   "outputs": [],
   "source": [
    "pattern_at=re.compile('@[A-Za-z0-9_]+')"
   ]
  },
  {
   "cell_type": "code",
   "execution_count": 33,
   "id": "21accc13",
   "metadata": {},
   "outputs": [],
   "source": [
    "y=re.findall(pattern_at,text10)"
   ]
  },
  {
   "cell_type": "code",
   "execution_count": 34,
   "id": "088f7b81",
   "metadata": {},
   "outputs": [
    {
     "data": {
      "text/plain": [
       "['@NY', '@UN', '@UN_Women']"
      ]
     },
     "execution_count": 34,
     "metadata": {},
     "output_type": "execute_result"
    }
   ],
   "source": [
    "y"
   ]
  },
  {
   "cell_type": "code",
   "execution_count": 35,
   "id": "05cde483",
   "metadata": {},
   "outputs": [
    {
     "data": {
      "text/plain": [
       "3"
      ]
     },
     "execution_count": 35,
     "metadata": {},
     "output_type": "execute_result"
    }
   ],
   "source": [
    "len(y)"
   ]
  },
  {
   "cell_type": "code",
   "execution_count": 36,
   "id": "9001ab02",
   "metadata": {},
   "outputs": [],
   "source": [
    "time_sentences = [\"Monday: The doctor's appointment is at 2:45pm.\", \n",
    "                  \"Tuesday: The dentist's appointment is at 11:30 am.\",\n",
    "                  \"Wednesday: At 7:00pm, there is a basketball game!\",\n",
    "                  \"Thursday: Be back home by 11:15 pm at the latest.\",\n",
    "                  \"Friday: Take the train at 08:10 am, arrive at 09:00am.\"]"
   ]
  },
  {
   "cell_type": "code",
   "execution_count": 37,
   "id": "7da037d1",
   "metadata": {},
   "outputs": [],
   "source": [
    "df=pd.DataFrame(time_sentences,columns=['text'])"
   ]
  },
  {
   "cell_type": "code",
   "execution_count": 38,
   "id": "8b4161b7",
   "metadata": {},
   "outputs": [
    {
     "data": {
      "text/html": [
       "<div>\n",
       "<style scoped>\n",
       "    .dataframe tbody tr th:only-of-type {\n",
       "        vertical-align: middle;\n",
       "    }\n",
       "\n",
       "    .dataframe tbody tr th {\n",
       "        vertical-align: top;\n",
       "    }\n",
       "\n",
       "    .dataframe thead th {\n",
       "        text-align: right;\n",
       "    }\n",
       "</style>\n",
       "<table border=\"1\" class=\"dataframe\">\n",
       "  <thead>\n",
       "    <tr style=\"text-align: right;\">\n",
       "      <th></th>\n",
       "      <th>text</th>\n",
       "    </tr>\n",
       "  </thead>\n",
       "  <tbody>\n",
       "    <tr>\n",
       "      <th>0</th>\n",
       "      <td>Monday: The doctor's appointment is at 2:45pm.</td>\n",
       "    </tr>\n",
       "    <tr>\n",
       "      <th>1</th>\n",
       "      <td>Tuesday: The dentist's appointment is at 11:30...</td>\n",
       "    </tr>\n",
       "    <tr>\n",
       "      <th>2</th>\n",
       "      <td>Wednesday: At 7:00pm, there is a basketball game!</td>\n",
       "    </tr>\n",
       "    <tr>\n",
       "      <th>3</th>\n",
       "      <td>Thursday: Be back home by 11:15 pm at the latest.</td>\n",
       "    </tr>\n",
       "    <tr>\n",
       "      <th>4</th>\n",
       "      <td>Friday: Take the train at 08:10 am, arrive at ...</td>\n",
       "    </tr>\n",
       "  </tbody>\n",
       "</table>\n",
       "</div>"
      ],
      "text/plain": [
       "                                                text\n",
       "0     Monday: The doctor's appointment is at 2:45pm.\n",
       "1  Tuesday: The dentist's appointment is at 11:30...\n",
       "2  Wednesday: At 7:00pm, there is a basketball game!\n",
       "3  Thursday: Be back home by 11:15 pm at the latest.\n",
       "4  Friday: Take the train at 08:10 am, arrive at ..."
      ]
     },
     "execution_count": 38,
     "metadata": {},
     "output_type": "execute_result"
    }
   ],
   "source": [
    "df"
   ]
  },
  {
   "cell_type": "code",
   "execution_count": 39,
   "id": "f435285f",
   "metadata": {},
   "outputs": [],
   "source": [
    "#Number of characters for each string"
   ]
  },
  {
   "cell_type": "code",
   "execution_count": 40,
   "id": "b11ca2dc",
   "metadata": {},
   "outputs": [
    {
     "data": {
      "text/plain": [
       "0    46\n",
       "1    50\n",
       "2    49\n",
       "3    49\n",
       "4    54\n",
       "Name: text, dtype: int64"
      ]
     },
     "execution_count": 40,
     "metadata": {},
     "output_type": "execute_result"
    }
   ],
   "source": [
    "df['text'].str.len()"
   ]
  },
  {
   "cell_type": "code",
   "execution_count": 41,
   "id": "6e837c65",
   "metadata": {},
   "outputs": [],
   "source": [
    "#Number of tokens for each string"
   ]
  },
  {
   "cell_type": "code",
   "execution_count": 42,
   "id": "318d4df6",
   "metadata": {},
   "outputs": [
    {
     "data": {
      "text/plain": [
       "0     7\n",
       "1     8\n",
       "2     8\n",
       "3    10\n",
       "4    10\n",
       "Name: text, dtype: int64"
      ]
     },
     "execution_count": 42,
     "metadata": {},
     "output_type": "execute_result"
    }
   ],
   "source": [
    "df['text'].str.split(' ').str.len()"
   ]
  },
  {
   "cell_type": "code",
   "execution_count": 43,
   "id": "f05684e0",
   "metadata": {},
   "outputs": [],
   "source": [
    "#df containing entries which contains the word appointment"
   ]
  },
  {
   "cell_type": "code",
   "execution_count": 44,
   "id": "e54b7c4f",
   "metadata": {},
   "outputs": [],
   "source": [
    "new_df=df[df['text'].str.contains('appointment')]"
   ]
  },
  {
   "cell_type": "code",
   "execution_count": 45,
   "id": "e4581a06",
   "metadata": {},
   "outputs": [
    {
     "data": {
      "text/html": [
       "<div>\n",
       "<style scoped>\n",
       "    .dataframe tbody tr th:only-of-type {\n",
       "        vertical-align: middle;\n",
       "    }\n",
       "\n",
       "    .dataframe tbody tr th {\n",
       "        vertical-align: top;\n",
       "    }\n",
       "\n",
       "    .dataframe thead th {\n",
       "        text-align: right;\n",
       "    }\n",
       "</style>\n",
       "<table border=\"1\" class=\"dataframe\">\n",
       "  <thead>\n",
       "    <tr style=\"text-align: right;\">\n",
       "      <th></th>\n",
       "      <th>text</th>\n",
       "    </tr>\n",
       "  </thead>\n",
       "  <tbody>\n",
       "    <tr>\n",
       "      <th>0</th>\n",
       "      <td>Monday: The doctor's appointment is at 2:45pm.</td>\n",
       "    </tr>\n",
       "    <tr>\n",
       "      <th>1</th>\n",
       "      <td>Tuesday: The dentist's appointment is at 11:30...</td>\n",
       "    </tr>\n",
       "  </tbody>\n",
       "</table>\n",
       "</div>"
      ],
      "text/plain": [
       "                                                text\n",
       "0     Monday: The doctor's appointment is at 2:45pm.\n",
       "1  Tuesday: The dentist's appointment is at 11:30..."
      ]
     },
     "execution_count": 45,
     "metadata": {},
     "output_type": "execute_result"
    }
   ],
   "source": [
    "new_df"
   ]
  },
  {
   "cell_type": "code",
   "execution_count": 46,
   "id": "ac501c50",
   "metadata": {},
   "outputs": [],
   "source": [
    "#Occourance of a digit"
   ]
  },
  {
   "cell_type": "code",
   "execution_count": 47,
   "id": "32eec801",
   "metadata": {},
   "outputs": [
    {
     "data": {
      "text/plain": [
       "0    3\n",
       "1    4\n",
       "2    3\n",
       "3    4\n",
       "4    8\n",
       "Name: text, dtype: int64"
      ]
     },
     "execution_count": 47,
     "metadata": {},
     "output_type": "execute_result"
    }
   ],
   "source": [
    "df['text'].str.count(r'\\d')"
   ]
  },
  {
   "cell_type": "code",
   "execution_count": 48,
   "id": "4bed6be6",
   "metadata": {},
   "outputs": [],
   "source": [
    "#Grouping of hours and minutes"
   ]
  },
  {
   "cell_type": "code",
   "execution_count": 49,
   "id": "72f215b6",
   "metadata": {},
   "outputs": [
    {
     "data": {
      "text/plain": [
       "0               [(2, 45)]\n",
       "1              [(11, 30)]\n",
       "2               [(7, 00)]\n",
       "3              [(11, 15)]\n",
       "4    [(08, 10), (09, 00)]\n",
       "Name: text, dtype: object"
      ]
     },
     "execution_count": 49,
     "metadata": {},
     "output_type": "execute_result"
    }
   ],
   "source": [
    "df['text'].str.findall(r'(\\d?\\d):(\\d\\d)')"
   ]
  },
  {
   "cell_type": "code",
   "execution_count": 50,
   "id": "adbd049b",
   "metadata": {},
   "outputs": [],
   "source": [
    "#replacing weekdays with 3 letter names"
   ]
  },
  {
   "cell_type": "code",
   "execution_count": 51,
   "id": "8d4a04b9",
   "metadata": {},
   "outputs": [
    {
     "data": {
      "text/plain": [
       "0          Mon: The doctor's appointment is at 2:45pm.\n",
       "1       Tue: The dentist's appointment is at 11:30 am.\n",
       "2          Wed: At 7:00pm, there is a basketball game!\n",
       "3         Thu: Be back home by 11:15 pm at the latest.\n",
       "4    Fri: Take the train at 08:10 am, arrive at 09:...\n",
       "Name: text, dtype: object"
      ]
     },
     "execution_count": 51,
     "metadata": {},
     "output_type": "execute_result"
    }
   ],
   "source": [
    "df['text'].replace({'Monday':'Mon','Tuesday':'Tue','Wednesday':'Wed','Thursday':'Thu','Friday':'Fri','Saturday':'Sat','Sunday':'Sun'},regex=True)"
   ]
  },
  {
   "cell_type": "code",
   "execution_count": 52,
   "id": "6a60517e",
   "metadata": {},
   "outputs": [
    {
     "name": "stderr",
     "output_type": "stream",
     "text": [
      "C:\\Users\\ASUS\\AppData\\Local\\Temp\\ipykernel_13704\\1847534634.py:2: FutureWarning: The default value of regex will change from True to False in a future version.\n",
      "  df['text'].str.replace(pattern3,'???')\n"
     ]
    },
    {
     "data": {
      "text/plain": [
       "0          ??? The doctor's appointment is at ???45pm.\n",
       "1        ??? The dentist's appointment is at ???30 am.\n",
       "2          ??? At ???00pm, there is a basketball game!\n",
       "3          ??? Be back home by ???15 pm at the latest.\n",
       "4    ??? Take the train at ???10 am, arrive at ???0...\n",
       "Name: text, dtype: object"
      ]
     },
     "execution_count": 52,
     "metadata": {},
     "output_type": "execute_result"
    }
   ],
   "source": [
    "pattern3='\\w+:'\n",
    "df['text'].str.replace(pattern3,'???')"
   ]
  },
  {
   "cell_type": "code",
   "execution_count": 53,
   "id": "9ebc334e",
   "metadata": {},
   "outputs": [
    {
     "data": {
      "text/html": [
       "<div>\n",
       "<style scoped>\n",
       "    .dataframe tbody tr th:only-of-type {\n",
       "        vertical-align: middle;\n",
       "    }\n",
       "\n",
       "    .dataframe tbody tr th {\n",
       "        vertical-align: top;\n",
       "    }\n",
       "\n",
       "    .dataframe thead th {\n",
       "        text-align: right;\n",
       "    }\n",
       "</style>\n",
       "<table border=\"1\" class=\"dataframe\">\n",
       "  <thead>\n",
       "    <tr style=\"text-align: right;\">\n",
       "      <th></th>\n",
       "      <th></th>\n",
       "      <th>time</th>\n",
       "      <th>hour</th>\n",
       "      <th>minute</th>\n",
       "      <th>period</th>\n",
       "    </tr>\n",
       "    <tr>\n",
       "      <th></th>\n",
       "      <th>match</th>\n",
       "      <th></th>\n",
       "      <th></th>\n",
       "      <th></th>\n",
       "      <th></th>\n",
       "    </tr>\n",
       "  </thead>\n",
       "  <tbody>\n",
       "    <tr>\n",
       "      <th>0</th>\n",
       "      <th>0</th>\n",
       "      <td>2:45pm</td>\n",
       "      <td>2</td>\n",
       "      <td>45</td>\n",
       "      <td>pm</td>\n",
       "    </tr>\n",
       "    <tr>\n",
       "      <th>1</th>\n",
       "      <th>0</th>\n",
       "      <td>11:30 am</td>\n",
       "      <td>11</td>\n",
       "      <td>30</td>\n",
       "      <td>am</td>\n",
       "    </tr>\n",
       "    <tr>\n",
       "      <th>2</th>\n",
       "      <th>0</th>\n",
       "      <td>7:00pm</td>\n",
       "      <td>7</td>\n",
       "      <td>00</td>\n",
       "      <td>pm</td>\n",
       "    </tr>\n",
       "    <tr>\n",
       "      <th>3</th>\n",
       "      <th>0</th>\n",
       "      <td>11:15 pm</td>\n",
       "      <td>11</td>\n",
       "      <td>15</td>\n",
       "      <td>pm</td>\n",
       "    </tr>\n",
       "    <tr>\n",
       "      <th rowspan=\"2\" valign=\"top\">4</th>\n",
       "      <th>0</th>\n",
       "      <td>08:10 am</td>\n",
       "      <td>08</td>\n",
       "      <td>10</td>\n",
       "      <td>am</td>\n",
       "    </tr>\n",
       "    <tr>\n",
       "      <th>1</th>\n",
       "      <td>09:00am</td>\n",
       "      <td>09</td>\n",
       "      <td>00</td>\n",
       "      <td>am</td>\n",
       "    </tr>\n",
       "  </tbody>\n",
       "</table>\n",
       "</div>"
      ],
      "text/plain": [
       "             time hour minute period\n",
       "  match                             \n",
       "0 0        2:45pm    2     45     pm\n",
       "1 0      11:30 am   11     30     am\n",
       "2 0        7:00pm    7     00     pm\n",
       "3 0      11:15 pm   11     15     pm\n",
       "4 0      08:10 am   08     10     am\n",
       "  1       09:00am   09     00     am"
      ]
     },
     "execution_count": 53,
     "metadata": {},
     "output_type": "execute_result"
    }
   ],
   "source": [
    "df['text'].str.extractall(r'(?P<time>(?P<hour>\\d?\\d):(?P<minute>\\d\\d) ?(?P<period>[ap]m))')"
   ]
  },
  {
   "cell_type": "code",
   "execution_count": 54,
   "id": "0dec1388",
   "metadata": {},
   "outputs": [],
   "source": [
    "from nltk.corpus import stopwords\n",
    "from nltk.tokenize import word_tokenize,sent_tokenize\n",
    "from nltk.stem import PorterStemmer\n",
    "from nltk.stem import WordNetLemmatizer"
   ]
  },
  {
   "cell_type": "code",
   "execution_count": 55,
   "id": "b3b54cbe",
   "metadata": {},
   "outputs": [],
   "source": [
    "import string"
   ]
  },
  {
   "cell_type": "code",
   "execution_count": 56,
   "id": "f59eb8a3",
   "metadata": {},
   "outputs": [],
   "source": [
    "punc=string.punctuation"
   ]
  },
  {
   "cell_type": "code",
   "execution_count": 57,
   "id": "99c296f6",
   "metadata": {},
   "outputs": [
    {
     "data": {
      "text/plain": [
       "'!\"#$%&\\'()*+,-./:;<=>?@[\\\\]^_`{|}~'"
      ]
     },
     "execution_count": 57,
     "metadata": {},
     "output_type": "execute_result"
    }
   ],
   "source": [
    "punc"
   ]
  },
  {
   "cell_type": "code",
   "execution_count": 58,
   "id": "8b8bafea",
   "metadata": {},
   "outputs": [],
   "source": [
    "stop_words=stopwords.words('english')"
   ]
  },
  {
   "cell_type": "code",
   "execution_count": 59,
   "id": "8f32ed7c",
   "metadata": {},
   "outputs": [
    {
     "data": {
      "text/plain": [
       "['i',\n",
       " 'me',\n",
       " 'my',\n",
       " 'myself',\n",
       " 'we',\n",
       " 'our',\n",
       " 'ours',\n",
       " 'ourselves',\n",
       " 'you',\n",
       " \"you're\",\n",
       " \"you've\",\n",
       " \"you'll\",\n",
       " \"you'd\",\n",
       " 'your',\n",
       " 'yours',\n",
       " 'yourself',\n",
       " 'yourselves',\n",
       " 'he',\n",
       " 'him',\n",
       " 'his',\n",
       " 'himself',\n",
       " 'she',\n",
       " \"she's\",\n",
       " 'her',\n",
       " 'hers',\n",
       " 'herself',\n",
       " 'it',\n",
       " \"it's\",\n",
       " 'its',\n",
       " 'itself',\n",
       " 'they',\n",
       " 'them',\n",
       " 'their',\n",
       " 'theirs',\n",
       " 'themselves',\n",
       " 'what',\n",
       " 'which',\n",
       " 'who',\n",
       " 'whom',\n",
       " 'this',\n",
       " 'that',\n",
       " \"that'll\",\n",
       " 'these',\n",
       " 'those',\n",
       " 'am',\n",
       " 'is',\n",
       " 'are',\n",
       " 'was',\n",
       " 'were',\n",
       " 'be',\n",
       " 'been',\n",
       " 'being',\n",
       " 'have',\n",
       " 'has',\n",
       " 'had',\n",
       " 'having',\n",
       " 'do',\n",
       " 'does',\n",
       " 'did',\n",
       " 'doing',\n",
       " 'a',\n",
       " 'an',\n",
       " 'the',\n",
       " 'and',\n",
       " 'but',\n",
       " 'if',\n",
       " 'or',\n",
       " 'because',\n",
       " 'as',\n",
       " 'until',\n",
       " 'while',\n",
       " 'of',\n",
       " 'at',\n",
       " 'by',\n",
       " 'for',\n",
       " 'with',\n",
       " 'about',\n",
       " 'against',\n",
       " 'between',\n",
       " 'into',\n",
       " 'through',\n",
       " 'during',\n",
       " 'before',\n",
       " 'after',\n",
       " 'above',\n",
       " 'below',\n",
       " 'to',\n",
       " 'from',\n",
       " 'up',\n",
       " 'down',\n",
       " 'in',\n",
       " 'out',\n",
       " 'on',\n",
       " 'off',\n",
       " 'over',\n",
       " 'under',\n",
       " 'again',\n",
       " 'further',\n",
       " 'then',\n",
       " 'once',\n",
       " 'here',\n",
       " 'there',\n",
       " 'when',\n",
       " 'where',\n",
       " 'why',\n",
       " 'how',\n",
       " 'all',\n",
       " 'any',\n",
       " 'both',\n",
       " 'each',\n",
       " 'few',\n",
       " 'more',\n",
       " 'most',\n",
       " 'other',\n",
       " 'some',\n",
       " 'such',\n",
       " 'no',\n",
       " 'nor',\n",
       " 'not',\n",
       " 'only',\n",
       " 'own',\n",
       " 'same',\n",
       " 'so',\n",
       " 'than',\n",
       " 'too',\n",
       " 'very',\n",
       " 's',\n",
       " 't',\n",
       " 'can',\n",
       " 'will',\n",
       " 'just',\n",
       " 'don',\n",
       " \"don't\",\n",
       " 'should',\n",
       " \"should've\",\n",
       " 'now',\n",
       " 'd',\n",
       " 'll',\n",
       " 'm',\n",
       " 'o',\n",
       " 're',\n",
       " 've',\n",
       " 'y',\n",
       " 'ain',\n",
       " 'aren',\n",
       " \"aren't\",\n",
       " 'couldn',\n",
       " \"couldn't\",\n",
       " 'didn',\n",
       " \"didn't\",\n",
       " 'doesn',\n",
       " \"doesn't\",\n",
       " 'hadn',\n",
       " \"hadn't\",\n",
       " 'hasn',\n",
       " \"hasn't\",\n",
       " 'haven',\n",
       " \"haven't\",\n",
       " 'isn',\n",
       " \"isn't\",\n",
       " 'ma',\n",
       " 'mightn',\n",
       " \"mightn't\",\n",
       " 'mustn',\n",
       " \"mustn't\",\n",
       " 'needn',\n",
       " \"needn't\",\n",
       " 'shan',\n",
       " \"shan't\",\n",
       " 'shouldn',\n",
       " \"shouldn't\",\n",
       " 'wasn',\n",
       " \"wasn't\",\n",
       " 'weren',\n",
       " \"weren't\",\n",
       " 'won',\n",
       " \"won't\",\n",
       " 'wouldn',\n",
       " \"wouldn't\"]"
      ]
     },
     "execution_count": 59,
     "metadata": {},
     "output_type": "execute_result"
    }
   ],
   "source": [
    "stop_words"
   ]
  },
  {
   "cell_type": "code",
   "execution_count": 60,
   "id": "0cb5bd58",
   "metadata": {},
   "outputs": [],
   "source": [
    "def rem_url(text):\n",
    "    pattern=re.compile('https?://\\S+|www.\\S+')\n",
    "    return pattern.sub('',text)"
   ]
  },
  {
   "cell_type": "code",
   "execution_count": 61,
   "id": "a1e439f0",
   "metadata": {},
   "outputs": [],
   "source": [
    "from html.parser import HTMLParser"
   ]
  },
  {
   "cell_type": "code",
   "execution_count": 62,
   "id": "2a85e27a",
   "metadata": {},
   "outputs": [],
   "source": [
    "h=HTMLParser()"
   ]
  },
  {
   "cell_type": "code",
   "execution_count": 73,
   "id": "6ec036f2",
   "metadata": {},
   "outputs": [],
   "source": [
    "def rem_tags(text):\n",
    "    pattern2=re.compile('<.*?>')\n",
    "    return (pattern2.sub('',text))"
   ]
  },
  {
   "cell_type": "code",
   "execution_count": 76,
   "id": "723808d8",
   "metadata": {},
   "outputs": [],
   "source": [
    "def rem_punc(text):\n",
    "    str=''\n",
    "    for char in text:\n",
    "        if char not in punc:\n",
    "            str=str+char\n",
    "    return str.strip()       "
   ]
  },
  {
   "cell_type": "code",
   "execution_count": 67,
   "id": "ea582dd4",
   "metadata": {},
   "outputs": [],
   "source": [
    "def token(text):\n",
    "    return word_tokenize(text)\n",
    "def sentences(text):\n",
    "    return sent_tokenize(text)"
   ]
  },
  {
   "cell_type": "code",
   "execution_count": 68,
   "id": "2da7425d",
   "metadata": {},
   "outputs": [],
   "source": [
    "def rem_sw(text):\n",
    "    new_text=[]\n",
    "    for word in text:\n",
    "        if word not in stop_words:\n",
    "            new_text.append(word)\n",
    "    return new_text"
   ]
  },
  {
   "cell_type": "code",
   "execution_count": 69,
   "id": "2ab4df7f",
   "metadata": {},
   "outputs": [],
   "source": [
    "def s_and_l(text):\n",
    "    s=PorterStemmer()\n",
    "    l=WordNetLemmatizer()\n",
    "    stem_list=[]\n",
    "    lem_list=[]\n",
    "    for word in text:\n",
    "        stem_list.append(s.stem(word))\n",
    "    for word in stem_list:\n",
    "        lem_list.append(l.lemmatize(word))\n",
    "    return lem_list"
   ]
  },
  {
   "cell_type": "code",
   "execution_count": 87,
   "id": "edb152c7",
   "metadata": {},
   "outputs": [],
   "source": [
    "def text_preprocessing(text):\n",
    "    return s_and_l(rem_sw(token(rem_punc(rem_tags(rem_url(text))))))"
   ]
  },
  {
   "cell_type": "code",
   "execution_count": 64,
   "id": "e56e58aa",
   "metadata": {},
   "outputs": [
    {
     "data": {
      "text/plain": [
       "'Hello My name is ,,,, <html.class>  Abhishek and i am loving it with all the love in the kicking of footballs, in the soccer <htlm> ground'"
      ]
     },
     "execution_count": 64,
     "metadata": {},
     "output_type": "execute_result"
    }
   ],
   "source": [
    "rem_url('Hello My name is ,,,, <html.class> http://www.game.com Abhishek and i am loving it with all the love in the kicking of footballs, in the soccer <htlm> ground')"
   ]
  },
  {
   "cell_type": "code",
   "execution_count": 74,
   "id": "b1b40737",
   "metadata": {},
   "outputs": [
    {
     "data": {
      "text/plain": [
       "'Hello My name is ,,,,   Abhishek and i am loving it with all the love in the kicking of footballs, in the soccer  ground'"
      ]
     },
     "execution_count": 74,
     "metadata": {},
     "output_type": "execute_result"
    }
   ],
   "source": [
    "rem_tags('Hello My name is ,,,, <html.class>  Abhishek and i am loving it with all the love in the kicking of footballs, in the soccer <htlm> ground')"
   ]
  },
  {
   "cell_type": "code",
   "execution_count": 77,
   "id": "42783fef",
   "metadata": {},
   "outputs": [
    {
     "data": {
      "text/plain": [
       "'Hello My name is    Abhishek and i am loving it with all the love in the kicking of footballs in the soccer  ground'"
      ]
     },
     "execution_count": 77,
     "metadata": {},
     "output_type": "execute_result"
    }
   ],
   "source": [
    "rem_punc('Hello My name is ,,,,   Abhishek and i am loving it with all the love in the kicking of footballs, in the soccer  ground')"
   ]
  },
  {
   "cell_type": "code",
   "execution_count": 78,
   "id": "7be71b5a",
   "metadata": {},
   "outputs": [
    {
     "data": {
      "text/plain": [
       "['Hello',\n",
       " 'My',\n",
       " 'name',\n",
       " 'is',\n",
       " 'Abhishek',\n",
       " 'and',\n",
       " 'i',\n",
       " 'am',\n",
       " 'loving',\n",
       " 'it',\n",
       " 'with',\n",
       " 'all',\n",
       " 'the',\n",
       " 'love',\n",
       " 'in',\n",
       " 'the',\n",
       " 'kicking',\n",
       " 'of',\n",
       " 'footballs',\n",
       " 'in',\n",
       " 'the',\n",
       " 'soccer',\n",
       " 'ground']"
      ]
     },
     "execution_count": 78,
     "metadata": {},
     "output_type": "execute_result"
    }
   ],
   "source": [
    "token('Hello My name is    Abhishek and i am loving it with all the love in the kicking of footballs in the soccer  ground')"
   ]
  },
  {
   "cell_type": "code",
   "execution_count": 79,
   "id": "479a2b9f",
   "metadata": {},
   "outputs": [
    {
     "data": {
      "text/plain": [
       "['Hello',\n",
       " 'My',\n",
       " 'name',\n",
       " 'Abhishek',\n",
       " 'loving',\n",
       " 'love',\n",
       " 'kicking',\n",
       " 'footballs',\n",
       " 'soccer',\n",
       " 'ground']"
      ]
     },
     "execution_count": 79,
     "metadata": {},
     "output_type": "execute_result"
    }
   ],
   "source": [
    "rem_sw(['Hello',\n",
    " 'My',\n",
    " 'name',\n",
    " 'is',\n",
    " 'Abhishek',\n",
    " 'and',\n",
    " 'i',\n",
    " 'am',\n",
    " 'loving',\n",
    " 'it',\n",
    " 'with',\n",
    " 'all',\n",
    " 'the',\n",
    " 'love',\n",
    " 'in',\n",
    " 'the',\n",
    " 'kicking',\n",
    " 'of',\n",
    " 'footballs',\n",
    " 'in',\n",
    " 'the',\n",
    " 'soccer',\n",
    " 'ground'])"
   ]
  },
  {
   "cell_type": "code",
   "execution_count": 80,
   "id": "e22a8eba",
   "metadata": {},
   "outputs": [
    {
     "data": {
      "text/plain": [
       "['hello',\n",
       " 'my',\n",
       " 'name',\n",
       " 'abhishek',\n",
       " 'love',\n",
       " 'love',\n",
       " 'kick',\n",
       " 'footbal',\n",
       " 'soccer',\n",
       " 'ground']"
      ]
     },
     "execution_count": 80,
     "metadata": {},
     "output_type": "execute_result"
    }
   ],
   "source": [
    "s_and_l(['Hello',\n",
    " 'My',\n",
    " 'name',\n",
    " 'Abhishek',\n",
    " 'loving',\n",
    " 'love',\n",
    " 'kicking',\n",
    " 'footballs',\n",
    " 'soccer',\n",
    " 'ground'])"
   ]
  },
  {
   "cell_type": "code",
   "execution_count": 84,
   "id": "cdfb1d63",
   "metadata": {},
   "outputs": [
    {
     "name": "stderr",
     "output_type": "stream",
     "text": [
      "[nltk_data] Downloading package averaged_perceptron_tagger to\n",
      "[nltk_data]     C:\\Users\\ASUS\\AppData\\Roaming\\nltk_data...\n",
      "[nltk_data]   Unzipping taggers\\averaged_perceptron_tagger.zip.\n"
     ]
    },
    {
     "data": {
      "text/plain": [
       "True"
      ]
     },
     "execution_count": 84,
     "metadata": {},
     "output_type": "execute_result"
    }
   ],
   "source": [
    "from nltk import pos_tag\n",
    "import nltk\n",
    "nltk.download('averaged_perceptron_tagger')"
   ]
  },
  {
   "cell_type": "code",
   "execution_count": 85,
   "id": "2ed7118c",
   "metadata": {},
   "outputs": [
    {
     "data": {
      "text/plain": [
       "[('hello', 'NN'),\n",
       " ('my', 'PRP$'),\n",
       " ('name', 'NN'),\n",
       " ('abhishek', 'RB'),\n",
       " ('love', 'VB'),\n",
       " ('love', 'NN'),\n",
       " ('kick', 'NN'),\n",
       " ('footbal', 'JJ'),\n",
       " ('soccer', 'NN'),\n",
       " ('ground', 'NN')]"
      ]
     },
     "execution_count": 85,
     "metadata": {},
     "output_type": "execute_result"
    }
   ],
   "source": [
    "pos_tag(['hello',\n",
    " 'my',\n",
    " 'name',\n",
    " 'abhishek',\n",
    " 'love',\n",
    " 'love',\n",
    " 'kick',\n",
    " 'footbal',\n",
    " 'soccer',\n",
    " 'ground'])"
   ]
  },
  {
   "cell_type": "code",
   "execution_count": 88,
   "id": "29247682",
   "metadata": {},
   "outputs": [
    {
     "data": {
      "text/plain": [
       "['hello',\n",
       " 'my',\n",
       " 'name',\n",
       " 'abhishek',\n",
       " 'love',\n",
       " 'love',\n",
       " 'kick',\n",
       " 'footbal',\n",
       " 'soccer',\n",
       " 'ground']"
      ]
     },
     "execution_count": 88,
     "metadata": {},
     "output_type": "execute_result"
    }
   ],
   "source": [
    "text_preprocessing('Hello My name is ,,,, <html.class> http://www.game.com Abhishek and i am loving it with all the love in the kicking of footballs, in the soccer <htlm> ground')"
   ]
  },
  {
   "cell_type": "code",
   "execution_count": 89,
   "id": "9addc1a2",
   "metadata": {},
   "outputs": [],
   "source": [
    "sample='<html><head><title>Sample Page</title></head><body>This is a sample text for testing preprocessing. It contains various elements such as punctuation, numbers like 123, and stopwords like the, is, and for. The text also includes different verb forms, including jumped, jumping, and jumps. Additionally, it has different cases like uppercase and lowercase. Finally, it mentions days of the week like Monday, Tuesday, and Wednesday. You can visit our website at http://www.example.com for more information.</body></html>'"
   ]
  },
  {
   "cell_type": "code",
   "execution_count": 90,
   "id": "de83b8ef",
   "metadata": {},
   "outputs": [
    {
     "data": {
      "text/plain": [
       "['sampl',\n",
       " 'pagethi',\n",
       " 'sampl',\n",
       " 'text',\n",
       " 'test',\n",
       " 'preprocess',\n",
       " 'it',\n",
       " 'contain',\n",
       " 'variou',\n",
       " 'element',\n",
       " 'punctuat',\n",
       " 'number',\n",
       " 'like',\n",
       " '123',\n",
       " 'stopword',\n",
       " 'like',\n",
       " 'the',\n",
       " 'text',\n",
       " 'also',\n",
       " 'includ',\n",
       " 'differ',\n",
       " 'verb',\n",
       " 'form',\n",
       " 'includ',\n",
       " 'jump',\n",
       " 'jump',\n",
       " 'jump',\n",
       " 'addit',\n",
       " 'differ',\n",
       " 'case',\n",
       " 'like',\n",
       " 'uppercas',\n",
       " 'lowercas',\n",
       " 'final',\n",
       " 'mention',\n",
       " 'day',\n",
       " 'week',\n",
       " 'like',\n",
       " 'monday',\n",
       " 'tuesday',\n",
       " 'wednesday',\n",
       " 'you',\n",
       " 'visit',\n",
       " 'websit',\n",
       " 'inform']"
      ]
     },
     "execution_count": 90,
     "metadata": {},
     "output_type": "execute_result"
    }
   ],
   "source": [
    "text_preprocessing(sample)"
   ]
  },
  {
   "cell_type": "code",
   "execution_count": 91,
   "id": "72e424ee",
   "metadata": {},
   "outputs": [],
   "source": [
    "import matplotlib.pyplot as plt"
   ]
  },
  {
   "cell_type": "code",
   "execution_count": 93,
   "id": "8ca07dee",
   "metadata": {},
   "outputs": [],
   "source": [
    "from wordcloud import WordCloud"
   ]
  },
  {
   "cell_type": "code",
   "execution_count": 94,
   "id": "eff51569",
   "metadata": {},
   "outputs": [
    {
     "data": {
      "text/plain": [
       "<Figure size 2000x1000 with 0 Axes>"
      ]
     },
     "metadata": {},
     "output_type": "display_data"
    }
   ],
   "source": [
    "plt.figure(figsize=(20,10))\n",
    "wc=WordCloud(height=500,width=500,background_color='white')"
   ]
  },
  {
   "cell_type": "code",
   "execution_count": 98,
   "id": "dc5fd76e",
   "metadata": {},
   "outputs": [
    {
     "data": {
      "text/plain": [
       "<matplotlib.image.AxesImage at 0x14bfe1e0550>"
      ]
     },
     "execution_count": 98,
     "metadata": {},
     "output_type": "execute_result"
    },
    {
     "data": {
      "image/png": "[encoded data removed]",
      "text/plain": [
       "<Figure size 640x480 with 1 Axes>"
      ]
     },
     "metadata": {},
     "output_type": "display_data"
    }
   ],
   "source": [
    "plt.imshow(wc.generate(' '.join(text_preprocessing(sample))))"
   ]
  },
  {
   "cell_type": "code",
   "execution_count": null,
   "id": "63baae1e",
   "metadata": {},
   "outputs": [],
   "source": []
  }
 ],
 "metadata": {
  "kernelspec": {
   "display_name": "Python 3 (ipykernel)",
   "language": "python",
   "name": "python3"
  },
  "language_info": {
   "codemirror_mode": {
    "name": "ipython",
    "version": 3
   },
   "file_extension": ".py",
   "mimetype": "text/x-python",
   "name": "python",
   "nbconvert_exporter": "python",
   "pygments_lexer": "ipython3",
   "version": "3.10.9"
  }
 },
 "nbformat": 4,
 "nbformat_minor": 5
}
