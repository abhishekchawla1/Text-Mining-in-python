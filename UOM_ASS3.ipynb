{
 "cells": [
  {
   "cell_type": "code",
   "execution_count": 1,
   "id": "0ec402f2",
   "metadata": {},
   "outputs": [],
   "source": [
    "import pandas as pd\n",
    "import numpy as np\n",
    "import matplotlib.pyplot as plt"
   ]
  },
  {
   "cell_type": "code",
   "execution_count": 2,
   "id": "85c5e311",
   "metadata": {},
   "outputs": [],
   "source": [
    "df=pd.read_csv(r\"C:\\Users\\ASUS\\Downloads\\spam.csv\")"
   ]
  },
  {
   "cell_type": "code",
   "execution_count": 3,
   "id": "f9b1821f",
   "metadata": {},
   "outputs": [
    {
     "data": {
      "text/html": [
       "<div>\n",
       "<style scoped>\n",
       "    .dataframe tbody tr th:only-of-type {\n",
       "        vertical-align: middle;\n",
       "    }\n",
       "\n",
       "    .dataframe tbody tr th {\n",
       "        vertical-align: top;\n",
       "    }\n",
       "\n",
       "    .dataframe thead th {\n",
       "        text-align: right;\n",
       "    }\n",
       "</style>\n",
       "<table border=\"1\" class=\"dataframe\">\n",
       "  <thead>\n",
       "    <tr style=\"text-align: right;\">\n",
       "      <th></th>\n",
       "      <th>text</th>\n",
       "      <th>target</th>\n",
       "    </tr>\n",
       "  </thead>\n",
       "  <tbody>\n",
       "    <tr>\n",
       "      <th>0</th>\n",
       "      <td>Go until jurong point, crazy.. Available only ...</td>\n",
       "      <td>ham</td>\n",
       "    </tr>\n",
       "    <tr>\n",
       "      <th>1</th>\n",
       "      <td>Ok lar... Joking wif u oni...</td>\n",
       "      <td>ham</td>\n",
       "    </tr>\n",
       "    <tr>\n",
       "      <th>2</th>\n",
       "      <td>Free entry in 2 a wkly comp to win FA Cup fina...</td>\n",
       "      <td>spam</td>\n",
       "    </tr>\n",
       "    <tr>\n",
       "      <th>3</th>\n",
       "      <td>U dun say so early hor... U c already then say...</td>\n",
       "      <td>ham</td>\n",
       "    </tr>\n",
       "    <tr>\n",
       "      <th>4</th>\n",
       "      <td>Nah I don't think he goes to usf, he lives aro...</td>\n",
       "      <td>ham</td>\n",
       "    </tr>\n",
       "    <tr>\n",
       "      <th>...</th>\n",
       "      <td>...</td>\n",
       "      <td>...</td>\n",
       "    </tr>\n",
       "    <tr>\n",
       "      <th>5567</th>\n",
       "      <td>This is the 2nd time we have tried 2 contact u...</td>\n",
       "      <td>spam</td>\n",
       "    </tr>\n",
       "    <tr>\n",
       "      <th>5568</th>\n",
       "      <td>Will Ì_ b going to esplanade fr home?</td>\n",
       "      <td>ham</td>\n",
       "    </tr>\n",
       "    <tr>\n",
       "      <th>5569</th>\n",
       "      <td>Pity, * was in mood for that. So...any other s...</td>\n",
       "      <td>ham</td>\n",
       "    </tr>\n",
       "    <tr>\n",
       "      <th>5570</th>\n",
       "      <td>The guy did some bitching but I acted like i'd...</td>\n",
       "      <td>ham</td>\n",
       "    </tr>\n",
       "    <tr>\n",
       "      <th>5571</th>\n",
       "      <td>Rofl. Its true to its name</td>\n",
       "      <td>ham</td>\n",
       "    </tr>\n",
       "  </tbody>\n",
       "</table>\n",
       "<p>5572 rows × 2 columns</p>\n",
       "</div>"
      ],
      "text/plain": [
       "                                                   text target\n",
       "0     Go until jurong point, crazy.. Available only ...    ham\n",
       "1                         Ok lar... Joking wif u oni...    ham\n",
       "2     Free entry in 2 a wkly comp to win FA Cup fina...   spam\n",
       "3     U dun say so early hor... U c already then say...    ham\n",
       "4     Nah I don't think he goes to usf, he lives aro...    ham\n",
       "...                                                 ...    ...\n",
       "5567  This is the 2nd time we have tried 2 contact u...   spam\n",
       "5568              Will Ì_ b going to esplanade fr home?    ham\n",
       "5569  Pity, * was in mood for that. So...any other s...    ham\n",
       "5570  The guy did some bitching but I acted like i'd...    ham\n",
       "5571                         Rofl. Its true to its name    ham\n",
       "\n",
       "[5572 rows x 2 columns]"
      ]
     },
     "execution_count": 3,
     "metadata": {},
     "output_type": "execute_result"
    }
   ],
   "source": [
    "df"
   ]
  },
  {
   "cell_type": "code",
   "execution_count": 4,
   "id": "5a76c51d",
   "metadata": {},
   "outputs": [
    {
     "data": {
      "text/plain": [
       "ham     4825\n",
       "spam     747\n",
       "Name: target, dtype: int64"
      ]
     },
     "execution_count": 4,
     "metadata": {},
     "output_type": "execute_result"
    }
   ],
   "source": [
    "df['target'].value_counts()"
   ]
  },
  {
   "cell_type": "code",
   "execution_count": 5,
   "id": "1cb1cbcb",
   "metadata": {},
   "outputs": [],
   "source": [
    "from sklearn.preprocessing import LabelEncoder"
   ]
  },
  {
   "cell_type": "code",
   "execution_count": 6,
   "id": "cd819377",
   "metadata": {},
   "outputs": [],
   "source": [
    "l=LabelEncoder()\n",
    "df['target']=l.fit_transform(df['target'])"
   ]
  },
  {
   "cell_type": "code",
   "execution_count": 7,
   "id": "2113393b",
   "metadata": {},
   "outputs": [
    {
     "data": {
      "text/html": [
       "<div>\n",
       "<style scoped>\n",
       "    .dataframe tbody tr th:only-of-type {\n",
       "        vertical-align: middle;\n",
       "    }\n",
       "\n",
       "    .dataframe tbody tr th {\n",
       "        vertical-align: top;\n",
       "    }\n",
       "\n",
       "    .dataframe thead th {\n",
       "        text-align: right;\n",
       "    }\n",
       "</style>\n",
       "<table border=\"1\" class=\"dataframe\">\n",
       "  <thead>\n",
       "    <tr style=\"text-align: right;\">\n",
       "      <th></th>\n",
       "      <th>text</th>\n",
       "      <th>target</th>\n",
       "    </tr>\n",
       "  </thead>\n",
       "  <tbody>\n",
       "    <tr>\n",
       "      <th>0</th>\n",
       "      <td>Go until jurong point, crazy.. Available only ...</td>\n",
       "      <td>0</td>\n",
       "    </tr>\n",
       "    <tr>\n",
       "      <th>1</th>\n",
       "      <td>Ok lar... Joking wif u oni...</td>\n",
       "      <td>0</td>\n",
       "    </tr>\n",
       "    <tr>\n",
       "      <th>2</th>\n",
       "      <td>Free entry in 2 a wkly comp to win FA Cup fina...</td>\n",
       "      <td>1</td>\n",
       "    </tr>\n",
       "    <tr>\n",
       "      <th>3</th>\n",
       "      <td>U dun say so early hor... U c already then say...</td>\n",
       "      <td>0</td>\n",
       "    </tr>\n",
       "    <tr>\n",
       "      <th>4</th>\n",
       "      <td>Nah I don't think he goes to usf, he lives aro...</td>\n",
       "      <td>0</td>\n",
       "    </tr>\n",
       "    <tr>\n",
       "      <th>...</th>\n",
       "      <td>...</td>\n",
       "      <td>...</td>\n",
       "    </tr>\n",
       "    <tr>\n",
       "      <th>5567</th>\n",
       "      <td>This is the 2nd time we have tried 2 contact u...</td>\n",
       "      <td>1</td>\n",
       "    </tr>\n",
       "    <tr>\n",
       "      <th>5568</th>\n",
       "      <td>Will Ì_ b going to esplanade fr home?</td>\n",
       "      <td>0</td>\n",
       "    </tr>\n",
       "    <tr>\n",
       "      <th>5569</th>\n",
       "      <td>Pity, * was in mood for that. So...any other s...</td>\n",
       "      <td>0</td>\n",
       "    </tr>\n",
       "    <tr>\n",
       "      <th>5570</th>\n",
       "      <td>The guy did some bitching but I acted like i'd...</td>\n",
       "      <td>0</td>\n",
       "    </tr>\n",
       "    <tr>\n",
       "      <th>5571</th>\n",
       "      <td>Rofl. Its true to its name</td>\n",
       "      <td>0</td>\n",
       "    </tr>\n",
       "  </tbody>\n",
       "</table>\n",
       "<p>5572 rows × 2 columns</p>\n",
       "</div>"
      ],
      "text/plain": [
       "                                                   text  target\n",
       "0     Go until jurong point, crazy.. Available only ...       0\n",
       "1                         Ok lar... Joking wif u oni...       0\n",
       "2     Free entry in 2 a wkly comp to win FA Cup fina...       1\n",
       "3     U dun say so early hor... U c already then say...       0\n",
       "4     Nah I don't think he goes to usf, he lives aro...       0\n",
       "...                                                 ...     ...\n",
       "5567  This is the 2nd time we have tried 2 contact u...       1\n",
       "5568              Will Ì_ b going to esplanade fr home?       0\n",
       "5569  Pity, * was in mood for that. So...any other s...       0\n",
       "5570  The guy did some bitching but I acted like i'd...       0\n",
       "5571                         Rofl. Its true to its name       0\n",
       "\n",
       "[5572 rows x 2 columns]"
      ]
     },
     "execution_count": 7,
     "metadata": {},
     "output_type": "execute_result"
    }
   ],
   "source": [
    "df"
   ]
  },
  {
   "cell_type": "code",
   "execution_count": 8,
   "id": "507c91e4",
   "metadata": {},
   "outputs": [],
   "source": [
    "from sklearn.model_selection import train_test_split"
   ]
  },
  {
   "cell_type": "code",
   "execution_count": 9,
   "id": "cc6fc1bd",
   "metadata": {},
   "outputs": [],
   "source": [
    "X_train,X_test,y_train,y_test=train_test_split(df['text'],df['target'],test_size=0.2,random_state=0)"
   ]
  },
  {
   "cell_type": "code",
   "execution_count": 10,
   "id": "a06595ec",
   "metadata": {},
   "outputs": [
    {
     "data": {
      "text/plain": [
       "(4457,)"
      ]
     },
     "execution_count": 10,
     "metadata": {},
     "output_type": "execute_result"
    }
   ],
   "source": [
    "X_train.shape"
   ]
  },
  {
   "cell_type": "code",
   "execution_count": 11,
   "id": "eaf2dad3",
   "metadata": {},
   "outputs": [
    {
     "data": {
      "text/plain": [
       "(1115,)"
      ]
     },
     "execution_count": 11,
     "metadata": {},
     "output_type": "execute_result"
    }
   ],
   "source": [
    "y_test.shape"
   ]
  },
  {
   "cell_type": "code",
   "execution_count": 12,
   "id": "a46c6ad1",
   "metadata": {},
   "outputs": [
    {
     "data": {
      "text/plain": [
       "<Axes: >"
      ]
     },
     "execution_count": 12,
     "metadata": {},
     "output_type": "execute_result"
    },
    {
     "data": {
      "image/png": "[encoded data removed]",
      "text/plain": [
       "<Figure size 640x480 with 1 Axes>"
      ]
     },
     "metadata": {},
     "output_type": "display_data"
    }
   ],
   "source": [
    "(df['target'].value_counts()/len(df)*100).plot(kind='bar')"
   ]
  },
  {
   "cell_type": "code",
   "execution_count": 13,
   "id": "4d9dcc3a",
   "metadata": {},
   "outputs": [
    {
     "data": {
      "text/plain": [
       "747"
      ]
     },
     "execution_count": 13,
     "metadata": {},
     "output_type": "execute_result"
    }
   ],
   "source": [
    "len(df[df['target']==1])"
   ]
  },
  {
   "cell_type": "code",
   "execution_count": 14,
   "id": "69c0016e",
   "metadata": {},
   "outputs": [
    {
     "data": {
      "text/plain": [
       "5572"
      ]
     },
     "execution_count": 14,
     "metadata": {},
     "output_type": "execute_result"
    }
   ],
   "source": [
    "len(df)"
   ]
  },
  {
   "cell_type": "code",
   "execution_count": 15,
   "id": "0a579078",
   "metadata": {},
   "outputs": [
    {
     "data": {
      "text/plain": [
       "13.406317300789663"
      ]
     },
     "execution_count": 15,
     "metadata": {},
     "output_type": "execute_result"
    }
   ],
   "source": [
    "len(df[df['target']==1])/len(df)*100"
   ]
  },
  {
   "cell_type": "code",
   "execution_count": 16,
   "id": "22cd97af",
   "metadata": {},
   "outputs": [],
   "source": [
    "from sklearn.feature_extraction.text import CountVectorizer"
   ]
  },
  {
   "cell_type": "code",
   "execution_count": 17,
   "id": "192524ad",
   "metadata": {},
   "outputs": [],
   "source": [
    "cv=CountVectorizer()"
   ]
  },
  {
   "cell_type": "code",
   "execution_count": 18,
   "id": "117a1e26",
   "metadata": {},
   "outputs": [],
   "source": [
    "X_train1=cv.fit_transform(X_train)"
   ]
  },
  {
   "cell_type": "code",
   "execution_count": 19,
   "id": "314208d0",
   "metadata": {},
   "outputs": [
    {
     "data": {
      "text/plain": [
       "<4457x7612 sparse matrix of type '<class 'numpy.int64'>'\n",
       "\twith 58826 stored elements in Compressed Sparse Row format>"
      ]
     },
     "execution_count": 19,
     "metadata": {},
     "output_type": "execute_result"
    }
   ],
   "source": [
    "X_train1"
   ]
  },
  {
   "cell_type": "code",
   "execution_count": 20,
   "id": "02e18bc2",
   "metadata": {},
   "outputs": [
    {
     "data": {
      "text/html": [
       "<style>#sk-container-id-1 {color: black;background-color: white;}#sk-container-id-1 pre{padding: 0;}#sk-container-id-1 div.sk-toggleable {background-color: white;}#sk-container-id-1 label.sk-toggleable__label {cursor: pointer;display: block;width: 100%;margin-bottom: 0;padding: 0.3em;box-sizing: border-box;text-align: center;}#sk-container-id-1 label.sk-toggleable__label-arrow:before {content: \"▸\";float: left;margin-right: 0.25em;color: #696969;}#sk-container-id-1 label.sk-toggleable__label-arrow:hover:before {color: black;}#sk-container-id-1 div.sk-estimator:hover label.sk-toggleable__label-arrow:before {color: black;}#sk-container-id-1 div.sk-toggleable__content {max-height: 0;max-width: 0;overflow: hidden;text-align: left;background-color: #f0f8ff;}#sk-container-id-1 div.sk-toggleable__content pre {margin: 0.2em;color: black;border-radius: 0.25em;background-color: #f0f8ff;}#sk-container-id-1 input.sk-toggleable__control:checked~div.sk-toggleable__content {max-height: 200px;max-width: 100%;overflow: auto;}#sk-container-id-1 input.sk-toggleable__control:checked~label.sk-toggleable__label-arrow:before {content: \"▾\";}#sk-container-id-1 div.sk-estimator input.sk-toggleable__control:checked~label.sk-toggleable__label {background-color: #d4ebff;}#sk-container-id-1 div.sk-label input.sk-toggleable__control:checked~label.sk-toggleable__label {background-color: #d4ebff;}#sk-container-id-1 input.sk-hidden--visually {border: 0;clip: rect(1px 1px 1px 1px);clip: rect(1px, 1px, 1px, 1px);height: 1px;margin: -1px;overflow: hidden;padding: 0;position: absolute;width: 1px;}#sk-container-id-1 div.sk-estimator {font-family: monospace;background-color: #f0f8ff;border: 1px dotted black;border-radius: 0.25em;box-sizing: border-box;margin-bottom: 0.5em;}#sk-container-id-1 div.sk-estimator:hover {background-color: #d4ebff;}#sk-container-id-1 div.sk-parallel-item::after {content: \"\";width: 100%;border-bottom: 1px solid gray;flex-grow: 1;}#sk-container-id-1 div.sk-label:hover label.sk-toggleable__label {background-color: #d4ebff;}#sk-container-id-1 div.sk-serial::before {content: \"\";position: absolute;border-left: 1px solid gray;box-sizing: border-box;top: 0;bottom: 0;left: 50%;z-index: 0;}#sk-container-id-1 div.sk-serial {display: flex;flex-direction: column;align-items: center;background-color: white;padding-right: 0.2em;padding-left: 0.2em;position: relative;}#sk-container-id-1 div.sk-item {position: relative;z-index: 1;}#sk-container-id-1 div.sk-parallel {display: flex;align-items: stretch;justify-content: center;background-color: white;position: relative;}#sk-container-id-1 div.sk-item::before, #sk-container-id-1 div.sk-parallel-item::before {content: \"\";position: absolute;border-left: 1px solid gray;box-sizing: border-box;top: 0;bottom: 0;left: 50%;z-index: -1;}#sk-container-id-1 div.sk-parallel-item {display: flex;flex-direction: column;z-index: 1;position: relative;background-color: white;}#sk-container-id-1 div.sk-parallel-item:first-child::after {align-self: flex-end;width: 50%;}#sk-container-id-1 div.sk-parallel-item:last-child::after {align-self: flex-start;width: 50%;}#sk-container-id-1 div.sk-parallel-item:only-child::after {width: 0;}#sk-container-id-1 div.sk-dashed-wrapped {border: 1px dashed gray;margin: 0 0.4em 0.5em 0.4em;box-sizing: border-box;padding-bottom: 0.4em;background-color: white;}#sk-container-id-1 div.sk-label label {font-family: monospace;font-weight: bold;display: inline-block;line-height: 1.2em;}#sk-container-id-1 div.sk-label-container {text-align: center;}#sk-container-id-1 div.sk-container {/* jupyter's `normalize.less` sets `[hidden] { display: none; }` but bootstrap.min.css set `[hidden] { display: none !important; }` so we also need the `!important` here to be able to override the default hidden behavior on the sphinx rendered scikit-learn.org. See: https://github.com/scikit-learn/scikit-learn/issues/21755 */display: inline-block !important;position: relative;}#sk-container-id-1 div.sk-text-repr-fallback {display: none;}</style><div id=\"sk-container-id-1\" class=\"sk-top-container\"><div class=\"sk-text-repr-fallback\"><pre>CountVectorizer()</pre><b>In a Jupyter environment, please rerun this cell to show the HTML representation or trust the notebook. <br />On GitHub, the HTML representation is unable to render, please try loading this page with nbviewer.org.</b></div><div class=\"sk-container\" hidden><div class=\"sk-item\"><div class=\"sk-estimator sk-toggleable\"><input class=\"sk-toggleable__control sk-hidden--visually\" id=\"sk-estimator-id-1\" type=\"checkbox\" checked><label for=\"sk-estimator-id-1\" class=\"sk-toggleable__label sk-toggleable__label-arrow\">CountVectorizer</label><div class=\"sk-toggleable__content\"><pre>CountVectorizer()</pre></div></div></div></div></div>"
      ],
      "text/plain": [
       "CountVectorizer()"
      ]
     },
     "execution_count": 20,
     "metadata": {},
     "output_type": "execute_result"
    }
   ],
   "source": [
    "cv"
   ]
  },
  {
   "cell_type": "code",
   "execution_count": 21,
   "id": "cb55fb75",
   "metadata": {},
   "outputs": [
    {
     "data": {
      "text/plain": [
       "{'no': 4700,\n",
       " 'this': 6717,\n",
       " 'is': 3682,\n",
       " 'kallis': 3818,\n",
       " 'home': 3415,\n",
       " 'ground': 3197,\n",
       " 'amla': 905,\n",
       " 'town': 6866,\n",
       " 'durban': 2459,\n",
       " 'am': 897,\n",
       " 'in': 3575,\n",
       " 'escape': 2599,\n",
       " 'theatre': 6683,\n",
       " 'now': 4750,\n",
       " 'going': 3117,\n",
       " 'to': 6799,\n",
       " 'watch': 7254,\n",
       " 'kavalan': 3830,\n",
       " 'few': 2769,\n",
       " 'minutes': 4418,\n",
       " 'we': 7274,\n",
       " 'walked': 7218,\n",
       " 'from': 2967,\n",
       " 'my': 4576,\n",
       " 'moms': 4477,\n",
       " 'right': 5673,\n",
       " 'on': 4841,\n",
       " 'stagwood': 6309,\n",
       " 'pass': 5006,\n",
       " 'winterstone': 7392,\n",
       " 'left': 3991,\n",
       " 'victors': 7137,\n",
       " 'hill': 3371,\n",
       " 'address': 780,\n",
       " 'lt': 4170,\n",
       " 'gt': 3204,\n",
       " 'dunno': 2458,\n",
       " 'they': 6701,\n",
       " 'close': 1815,\n",
       " 'oredi': 4890,\n",
       " 'not': 4737,\n",
       " 'ìï': 7604,\n",
       " 'ma': 4211,\n",
       " 'fan': 2719,\n",
       " 'yo': 7557,\n",
       " 'im': 3549,\n",
       " 'by': 1552,\n",
       " 'work': 7450,\n",
       " 'its': 3698,\n",
       " 'ur': 7063,\n",
       " 'luck': 4175,\n",
       " 'love': 4150,\n",
       " 'someone': 6179,\n",
       " 'fortune': 2907,\n",
       " 'the': 6681,\n",
       " 'one': 4845,\n",
       " 'who': 7354,\n",
       " 'loves': 4158,\n",
       " 'but': 1538,\n",
       " 'he': 3306,\n",
       " 'also': 889,\n",
       " 'knows': 3886,\n",
       " 'about': 723,\n",
       " 'lunch': 4182,\n",
       " 'menu': 4367,\n",
       " 'only': 4851,\n",
       " 'da': 2120,\n",
       " 'know': 3883,\n",
       " 'oh': 4817,\n",
       " 'yeah': 7535,\n",
       " 'and': 923,\n",
       " 'diet': 2281,\n",
       " 'just': 3806,\n",
       " 'flew': 2839,\n",
       " 'out': 4914,\n",
       " 'window': 7381,\n",
       " 'nah': 4588,\n",
       " 'it': 3692,\n",
       " 'straight': 6387,\n",
       " 'if': 3537,\n",
       " 'you': 7562,\n",
       " 'can': 1594,\n",
       " 'bring': 1473,\n",
       " 'bud': 1508,\n",
       " 'or': 4879,\n",
       " 'drinks': 2424,\n",
       " 'something': 6185,\n",
       " 'that': 6675,\n",
       " 'actually': 771,\n",
       " 'little': 4078,\n",
       " 'more': 4495,\n",
       " 'useful': 7081,\n",
       " 'than': 6665,\n",
       " 'cash': 1640,\n",
       " 'splashmobile': 6270,\n",
       " 'choose': 1771,\n",
       " '1000s': 245,\n",
       " 'of': 4797,\n",
       " 'gr8': 3158,\n",
       " 'tones': 6826,\n",
       " 'each': 2470,\n",
       " 'wk': 7413,\n",
       " 'subscrition': 6443,\n",
       " 'service': 5918,\n",
       " 'with': 7405,\n",
       " 'weekly': 7298,\n",
       " 'costing': 1995,\n",
       " '300p': 412,\n",
       " 'have': 3296,\n",
       " 'credit': 2042,\n",
       " 'kick': 3853,\n",
       " 'back': 1159,\n",
       " 'enjoy': 2562,\n",
       " 'fighting': 2785,\n",
       " 'world': 7456,\n",
       " 'easy': 2486,\n",
       " 'either': 2521,\n",
       " 'win': 7379,\n",
       " 'lose': 4131,\n",
       " 'bt': 1504,\n",
       " 'fightng': 2786,\n",
       " 'some1': 6176,\n",
       " 'dificult': 2289,\n",
       " 'still': 6362,\n",
       " 'cos': 1991,\n",
       " 'lar': 3940,\n",
       " 'so': 6162,\n",
       " 'ba': 1146,\n",
       " 'dao': 2137,\n",
       " 'ok': 4822,\n",
       " 'pm': 5173,\n",
       " 'lor': 4129,\n",
       " 'never': 4660,\n",
       " 'ask': 1056,\n",
       " 'where': 7342,\n",
       " 'go': 3105,\n",
       " 'ah': 832,\n",
       " 'said': 5770,\n",
       " 'would': 7469,\n",
       " 'fri': 2947,\n",
       " 'will': 7376,\n",
       " 'today': 6806,\n",
       " 'hey': 3360,\n",
       " 'around': 1033,\n",
       " 've': 7119,\n",
       " 'got': 3145,\n",
       " 'enough': 2567,\n",
       " 'for': 2888,\n",
       " 'half': 3246,\n",
       " 'ten': 6634,\n",
       " 'owe': 4941,\n",
       " 'asked': 1058,\n",
       " 'how': 3459,\n",
       " 'anthony': 950,\n",
       " 'dad': 2124,\n",
       " 'your': 7567,\n",
       " 'bf': 1302,\n",
       " 'sent': 5906,\n",
       " 'latest': 3954,\n",
       " 'version': 7127,\n",
       " 'project': 5339,\n",
       " 'be': 1235,\n",
       " 'place': 5136,\n",
       " 'man': 4260,\n",
       " 'gd': 3041,\n",
       " 'exams': 2647,\n",
       " 'burger': 1525,\n",
       " 'king': 3868,\n",
       " 'wanna': 7230,\n",
       " 'play': 5150,\n",
       " 'footy': 2887,\n",
       " 'at': 1077,\n",
       " 'top': 6845,\n",
       " 'stadium': 6307,\n",
       " 'get': 3062,\n",
       " 'before': 1260,\n",
       " '1st': 317,\n",
       " 'sept': 5911,\n",
       " 'large': 3943,\n",
       " 'super': 6482,\n",
       " 'coca': 1841,\n",
       " 'cola': 1854,\n",
       " 'walk': 7216,\n",
       " 'winner': 7389,\n",
       " 'all': 874,\n",
       " 'best': 1289,\n",
       " 'exam': 2646,\n",
       " 'later': 3953,\n",
       " '5p': 530,\n",
       " 'alfie': 867,\n",
       " 'moon': 4493,\n",
       " 'children': 1752,\n",
       " 'need': 4635,\n",
       " 'song': 6194,\n",
       " 'mob': 4454,\n",
       " 'tell': 6624,\n",
       " 'm8s': 4209,\n",
       " 'txt': 6961,\n",
       " 'tone': 6825,\n",
       " 'charity': 1699,\n",
       " '8007': 606,\n",
       " 'nokias': 4713,\n",
       " 'poly': 5200,\n",
       " 'polys': 5206,\n",
       " 'zed': 7591,\n",
       " '08701417012': 71,\n",
       " 'profit': 5336,\n",
       " 'reverse': 5660,\n",
       " 'cheating': 1715,\n",
       " 'mathematics': 4304,\n",
       " 'û_': 7606,\n",
       " 'don': 2378,\n",
       " 'worry': 7461,\n",
       " 'll': 4087,\n",
       " 'finished': 2810,\n",
       " 'march': 4278,\n",
       " 'ish': 3684,\n",
       " 'come': 1877,\n",
       " 'over': 4931,\n",
       " 'carlos': 1630,\n",
       " 'here': 3351,\n",
       " 'soon': 6199,\n",
       " 'should': 6005,\n",
       " 'are': 1009,\n",
       " 'bringing': 1474,\n",
       " 'money': 4481,\n",
       " 'school': 5827,\n",
       " 'fees': 2758,\n",
       " 'pay': 5026,\n",
       " 'rent': 5594,\n",
       " 'stuff': 6418,\n",
       " 'like': 4035,\n",
       " 'thats': 6678,\n",
       " 'why': 7361,\n",
       " 'help': 3338,\n",
       " 'friend': 2950,\n",
       " 'me': 4326,\n",
       " 'whos': 7358,\n",
       " 'pls': 5166,\n",
       " 'released': 5569,\n",
       " 'another': 940,\n",
       " 'italian': 3693,\n",
       " 'has': 3285,\n",
       " 'cosign': 1992,\n",
       " 'option': 4877,\n",
       " 'once': 4844,\n",
       " 'then': 6692,\n",
       " 'after': 813,\n",
       " 'ill': 3546,\n",
       " 'obey': 4785,\n",
       " 'yours': 7571,\n",
       " 'okmail': 4829,\n",
       " 'dear': 2168,\n",
       " 'dave': 2156,\n",
       " 'final': 2800,\n",
       " 'notice': 4742,\n",
       " 'collect': 1861,\n",
       " 'tenerife': 6636,\n",
       " 'holiday': 3410,\n",
       " '5000': 507,\n",
       " 'award': 1129,\n",
       " 'call': 1571,\n",
       " '09061743806': 187,\n",
       " 'landline': 3929,\n",
       " 'tcs': 6600,\n",
       " 'sae': 5763,\n",
       " 'box326': 1420,\n",
       " 'cw25wx': 2115,\n",
       " '150ppm': 291,\n",
       " 'fyi': 3003,\n",
       " 'usf': 7085,\n",
       " 'swing': 6531,\n",
       " 'room': 5707,\n",
       " 'whenever': 7339,\n",
       " 'raji': 5449,\n",
       " 'do': 2346,\n",
       " 'favour': 2744,\n",
       " 'convey': 1971,\n",
       " 'birthday': 1331,\n",
       " 'wishes': 7399,\n",
       " 'nimya': 4691,\n",
       " 'her': 3350,\n",
       " 'whats': 7333,\n",
       " 'todays': 6807,\n",
       " 'plan': 5141,\n",
       " 'job': 3759,\n",
       " 'up': 7048,\n",
       " 'send': 5897,\n",
       " 'logo': 4104,\n",
       " 'lover': 4155,\n",
       " 'names': 4597,\n",
       " 'joined': 3768,\n",
       " 'heart': 3320,\n",
       " 'name1': 4594,\n",
       " 'name2': 4595,\n",
       " 'mobno': 4460,\n",
       " 'eg': 2511,\n",
       " 'adam': 773,\n",
       " 'eve': 2615,\n",
       " '07123456789': 23,\n",
       " '87077': 655,\n",
       " 'yahoo': 7524,\n",
       " 'pobox36504w45wq': 5180,\n",
       " 'txtno': 6968,\n",
       " 'ads': 791,\n",
       " '150p': 287,\n",
       " 'had': 3236,\n",
       " 'mobile': 4456,\n",
       " '11': 256,\n",
       " 'months': 4491,\n",
       " 'entitled': 2573,\n",
       " 'update': 7053,\n",
       " 'colour': 1868,\n",
       " 'mobiles': 4457,\n",
       " 'camera': 1591,\n",
       " 'free': 2930,\n",
       " 'co': 1838,\n",
       " '08002986030': 51,\n",
       " 'thought': 6728,\n",
       " 'didn': 2274,\n",
       " 'see': 5870,\n",
       " 'miss': 4426,\n",
       " 'vday': 7118,\n",
       " 'parachute': 4981,\n",
       " 'double': 2394,\n",
       " 'coins': 1853,\n",
       " 'must': 4567,\n",
       " 'very': 7128,\n",
       " 'well': 7308,\n",
       " 'mine': 4405,\n",
       " 'lookin': 4121,\n",
       " 'pick': 5108,\n",
       " 'tonight': 6832,\n",
       " 'currently': 2097,\n",
       " 'message': 4374,\n",
       " 'awaiting': 1127,\n",
       " 'collection': 1864,\n",
       " '08718723815': 129,\n",
       " 'thanks': 6669,\n",
       " 'subscription': 6440,\n",
       " 'ringtone': 5681,\n",
       " 'uk': 6989,\n",
       " 'charged': 1697,\n",
       " 'month': 4488,\n",
       " 'please': 5159,\n",
       " 'confirm': 1931,\n",
       " 'replying': 5606,\n",
       " 'yes': 7547,\n",
       " 'reply': 5605,\n",
       " 'guess': 3211,\n",
       " 'spent': 6258,\n",
       " 'last': 3947,\n",
       " 'night': 4682,\n",
       " 'phasing': 5086,\n",
       " 'fourth': 2915,\n",
       " 'dimension': 2296,\n",
       " 'jade': 3717,\n",
       " 'paul': 5023,\n",
       " 'didnåõt': 2277,\n",
       " 'remember': 5577,\n",
       " 'barmed': 1197,\n",
       " 'want': 7232,\n",
       " 'talk': 6567,\n",
       " 'nw': 4773,\n",
       " 'came': 1590,\n",
       " 'hme': 3391,\n",
       " 'might': 4392,\n",
       " 'class': 1796,\n",
       " 'lets': 4009,\n",
       " 'early': 2475,\n",
       " 'reassuring': 5509,\n",
       " 'crazy': 2036,\n",
       " 'ì_': 7602,\n",
       " 'online': 4849,\n",
       " 'formatting': 2905,\n",
       " 'friends': 2951,\n",
       " 'already': 886,\n",
       " 'asking': 1060,\n",
       " 'working': 7454,\n",
       " 'weekend': 7296,\n",
       " 'unintentionally': 7027,\n",
       " 'bad': 1162,\n",
       " 'timing': 6770,\n",
       " 'great': 3179,\n",
       " 'fingers': 2808,\n",
       " 'trains': 6879,\n",
       " 'along': 884,\n",
       " 'give': 3089,\n",
       " 'fifteen': 2781,\n",
       " 'min': 4401,\n",
       " 'warning': 7243,\n",
       " 'joy': 3785,\n",
       " 'father': 2736,\n",
       " 'john': 3765,\n",
       " '____': 705,\n",
       " 'ans': 941,\n",
       " 'ths': 6745,\n",
       " 'hav': 3295,\n",
       " 'iq': 3673,\n",
       " 'tis': 6778,\n",
       " 'ias': 3510,\n",
       " 'question': 5419,\n",
       " 'try': 6926,\n",
       " 'answer': 943,\n",
       " 'when': 7338,\n",
       " 'chance': 1686,\n",
       " 'wanted': 7234,\n",
       " 'big': 1312,\n",
       " 'order': 4887,\n",
       " 'getting': 3070,\n",
       " 'touch': 6861,\n",
       " 'folks': 2869,\n",
       " 'waiting': 7212,\n",
       " 'company': 1894,\n",
       " 'name': 4593,\n",
       " 'age': 822,\n",
       " 'opt': 4874,\n",
       " 'community': 1889,\n",
       " 'sms': 6143,\n",
       " '2mrw': 388,\n",
       " 'ninish': 4692,\n",
       " 'icky': 3523,\n",
       " 'american': 902,\n",
       " 'freek': 2935,\n",
       " 'wont': 7440,\n",
       " 'stop': 6371,\n",
       " 'callin': 1582,\n",
       " 'jen': 3742,\n",
       " 'eh': 2516,\n",
       " 'happened': 3270,\n",
       " 'while': 7349,\n",
       " 'were': 7316,\n",
       " 'adventuring': 797,\n",
       " 'umma': 6994,\n",
       " 'life': 4023,\n",
       " 'vava': 7116,\n",
       " 'lot': 4137,\n",
       " 'xmas': 7510,\n",
       " 'radio': 5437,\n",
       " 'times': 6767,\n",
       " 'depends': 2229,\n",
       " 'treated': 6900,\n",
       " 'number': 4763,\n",
       " 'vivek': 7167,\n",
       " 'did': 2272,\n",
       " 'say': 5815,\n",
       " 'fantastic': 2724,\n",
       " 'any': 952,\n",
       " 'anything': 960,\n",
       " 'bigger': 1313,\n",
       " 'lift': 4028,\n",
       " 'as': 1049,\n",
       " 'losing': 4134,\n",
       " 'live': 4079,\n",
       " 'think': 6708,\n",
       " 'first': 2819,\n",
       " 'person': 5068,\n",
       " 'die': 2278,\n",
       " 'buy': 1543,\n",
       " 'mum': 4550,\n",
       " 'present': 5288,\n",
       " 'ar': 1003,\n",
       " 'able': 721,\n",
       " 'sleep': 6099,\n",
       " 'family': 2718,\n",
       " 'responding': 5633,\n",
       " 'went': 7313,\n",
       " 'diwali': 2339,\n",
       " 'called': 1577,\n",
       " 'coming': 1883,\n",
       " 'makes': 4251,\n",
       " 'feel': 2753,\n",
       " 'died': 2279,\n",
       " 'she': 5962,\n",
       " 'wants': 7236,\n",
       " 'won': 7433,\n",
       " '000': 1,\n",
       " 'prize': 5316,\n",
       " 'claim': 1788,\n",
       " 'call09050000327': 1572,\n",
       " 'rstm': 5726,\n",
       " 'sw7': 6511,\n",
       " '3ss': 450,\n",
       " 'our': 4911,\n",
       " 'dating': 2154,\n",
       " 'been': 1254,\n",
       " 'contact': 1953,\n",
       " 'shy': 6028,\n",
       " '09058091870': 163,\n",
       " 'revealed': 5658,\n",
       " 'pobox84': 5183,\n",
       " 'm26': 4203,\n",
       " '3uz': 451,\n",
       " 'probably': 5322,\n",
       " 'pretty': 5296,\n",
       " 'pussy': 5398,\n",
       " 'really': 5501,\n",
       " 'what': 7331,\n",
       " 'masters': 4296,\n",
       " 'moji': 4470,\n",
       " 'informed': 3609,\n",
       " 'saved': 5811,\n",
       " 'lives': 4083,\n",
       " 'aiyah': 849,\n",
       " 'nydc': 4777,\n",
       " 'wheellock': 7337,\n",
       " 'bored': 1397,\n",
       " 'speed': 6250,\n",
       " 'speedchat': 6251,\n",
       " '80155': 610,\n",
       " 'em': 2535,\n",
       " 'swap': 6515,\n",
       " 'new': 4663,\n",
       " 'chatter': 1710,\n",
       " 'chat80155': 1708,\n",
       " 'msg': 4527,\n",
       " 'rcd': 5475,\n",
       " '16': 298,\n",
       " 'reference': 5542,\n",
       " 'x29': 7502,\n",
       " '50': 505,\n",
       " 'arrive': 1039,\n",
       " 'customer': 2103,\n",
       " 'services': 5919,\n",
       " '09065989180': 209,\n",
       " 'yup': 7586,\n",
       " 'ummmmmaah': 6997,\n",
       " 'many': 4273,\n",
       " 'happy': 3276,\n",
       " 'returns': 5655,\n",
       " 'day': 2158,\n",
       " 'sweet': 6523,\n",
       " 'understanding': 7013,\n",
       " 'trying': 6928,\n",
       " 'sura': 6495,\n",
       " 'late': 3950,\n",
       " 'meet': 4343,\n",
       " '945': 690,\n",
       " 'auction': 1100,\n",
       " 'brand': 1443,\n",
       " 'nokia': 4710,\n",
       " '7250': 581,\n",
       " 'join': 3767,\n",
       " 'take': 6559,\n",
       " 'part': 4995,\n",
       " '86021': 648,\n",
       " 'hg': 3362,\n",
       " 'suite342': 6461,\n",
       " '2lands': 381,\n",
       " 'row': 5718,\n",
       " 'w1j6hl': 7193,\n",
       " 'running': 5746,\n",
       " 'managed': 4263,\n",
       " 'needed': 4637,\n",
       " 'oxygen': 4948,\n",
       " 'resort': 5628,\n",
       " 'roller': 5703,\n",
       " 'yar': 7529,\n",
       " 'tot': 6857,\n",
       " 'knew': 3880,\n",
       " 'dis': 2311,\n",
       " 'happen': 3268,\n",
       " 'long': 4115,\n",
       " 'ago': 830,\n",
       " 'fact': 2696,\n",
       " 'an': 918,\n",
       " 'hour': 3452,\n",
       " 'much': 4543,\n",
       " 'everybody': 2625,\n",
       " 'done': 2379,\n",
       " 'voda': 7169,\n",
       " 'numbers': 4764,\n",
       " 'ending': 2551,\n",
       " '7634': 590,\n",
       " 'selected': 5883,\n",
       " 'receive': 5516,\n",
       " '350': 427,\n",
       " 'reward': 5663,\n",
       " 'match': 4298,\n",
       " '08712300220': 93,\n",
       " 'quoting': 5432,\n",
       " 'code': 1847,\n",
       " '7684': 591,\n",
       " 'standard': 6315,\n",
       " 'rates': 5467,\n",
       " 'apply': 983,\n",
       " 'ride': 5672,\n",
       " 'equally': 2586,\n",
       " 'uneventful': 7018,\n",
       " 'too': 6836,\n",
       " 'those': 6725,\n",
       " 'pesky': 5077,\n",
       " 'cyclists': 2117,\n",
       " 'time': 6766,\n",
       " 'aunty': 1108,\n",
       " 'prolly': 5340,\n",
       " 'good': 3129,\n",
       " 'morning': 4498,\n",
       " 'princess': 5306,\n",
       " 'haven': 3297,\n",
       " 'heard': 3318,\n",
       " 'answering': 946,\n",
       " 'texts': 6663,\n",
       " 'guessing': 3214,\n",
       " 'flaked': 2832,\n",
       " 'jb': 3735,\n",
       " 'congrats': 1937,\n",
       " 'mins': 4414,\n",
       " 'look': 4119,\n",
       " 'askd': 1057,\n",
       " 'some': 6175,\n",
       " 'hours': 3454,\n",
       " 'house': 3455,\n",
       " 'maid': 4242,\n",
       " 'murderer': 4560,\n",
       " 'coz': 2020,\n",
       " 'was': 7246,\n",
       " 'murdered': 4559,\n",
       " 'th': 6664,\n",
       " 'january': 3725,\n",
       " 'public': 5379,\n",
       " 'govt': 3155,\n",
       " 'instituitions': 3634,\n",
       " 'closed': 1817,\n",
       " 'including': 3584,\n",
       " 'post': 5235,\n",
       " 'office': 4807,\n",
       " 'gep': 3059,\n",
       " 'could': 2003,\n",
       " 'text': 6655,\n",
       " 'bus': 1532,\n",
       " 'ugh': 6984,\n",
       " 'apologize': 973,\n",
       " 'admit': 787,\n",
       " 'wrong': 7485,\n",
       " 'congratulation': 1938,\n",
       " 'says': 5818,\n",
       " 'deny': 2224,\n",
       " 'chat': 1707,\n",
       " '86688': 650,\n",
       " 'let': 4008,\n",
       " 'find': 2804,\n",
       " 'other': 4905,\n",
       " 'rcvd': 5478,\n",
       " 'ldn': 3972,\n",
       " '18': 302,\n",
       " 'years': 7537,\n",
       " 'until': 7046,\n",
       " '545': 525,\n",
       " 'ya': 7522,\n",
       " 'dinner': 2302,\n",
       " 'together': 6810,\n",
       " 'hmm': 3392,\n",
       " 'news': 4667,\n",
       " 'hype': 3507,\n",
       " 'park': 4992,\n",
       " 'plaza': 5157,\n",
       " '700': 579,\n",
       " 'studio': 6415,\n",
       " 'taken': 6561,\n",
       " 'bedrm': 1251,\n",
       " '900': 684,\n",
       " 'ended': 2550,\n",
       " 'special': 6243,\n",
       " 'way': 7269,\n",
       " 'may': 4318,\n",
       " 'smile': 6133,\n",
       " 'sunny': 6476,\n",
       " 'rays': 5473,\n",
       " 'leaves': 3986,\n",
       " 'worries': 7460,\n",
       " 'blue': 1367,\n",
       " 'bay': 1218,\n",
       " 'bought': 1409,\n",
       " 'eggs': 2514,\n",
       " 'brother': 1489,\n",
       " 'transfered': 6885,\n",
       " 'pa': 4952,\n",
       " 'shit': 5981,\n",
       " 'babe': 1150,\n",
       " 'thasa': 6674,\n",
       " 'bit': 1333,\n",
       " 'messed': 4378,\n",
       " 'yeh': 7539,\n",
       " 'protect': 5361,\n",
       " 'yourself': 7572,\n",
       " 'threats': 6733,\n",
       " 'sib': 6031,\n",
       " 'asks': 1061,\n",
       " 'sensitive': 5905,\n",
       " 'information': 3608,\n",
       " 'passwords': 5013,\n",
       " 'atm': 1084,\n",
       " 'pin': 5125,\n",
       " 'thru': 6744,\n",
       " 'email': 2536,\n",
       " 'share': 5955,\n",
       " 'password': 5012,\n",
       " 'anybody': 953,\n",
       " 'hello': 3336,\n",
       " 'alright': 887,\n",
       " 'jolt': 3776,\n",
       " 'remind': 5582,\n",
       " 'hear': 3317,\n",
       " 'screamed': 5842,\n",
       " 'across': 760,\n",
       " 'sea': 5852,\n",
       " 'ahmad': 836,\n",
       " 'al': 856,\n",
       " 'hallaq': 3249,\n",
       " 'loved': 4151,\n",
       " 'owned': 4945,\n",
       " 'possessive': 5231,\n",
       " 'passionate': 5010,\n",
       " 'kiss': 3872,\n",
       " 'anyway': 963,\n",
       " 'holla': 3411,\n",
       " 're': 5481,\n",
       " 'because': 1244,\n",
       " 'excuse': 2653,\n",
       " 'creep': 2045,\n",
       " 'people': 5050,\n",
       " 'sarasota': 5794,\n",
       " 'thing': 6706,\n",
       " 'thanx': 6673,\n",
       " 'ive': 3703,\n",
       " 'revision': 5662,\n",
       " 'fran': 2922,\n",
       " 'boyf': 1434,\n",
       " 'gotta': 3151,\n",
       " 'interviw': 3649,\n",
       " 'exeter': 2658,\n",
       " 'worried': 7459,\n",
       " 'checked': 1719,\n",
       " 'sure': 6496,\n",
       " 'show': 6012,\n",
       " 'fuck': 2974,\n",
       " 'gonna': 3127,\n",
       " 'woman': 7430,\n",
       " 'likes': 4038,\n",
       " 'dislikes': 2326,\n",
       " 'bed': 1250,\n",
       " 'does': 2355,\n",
       " 'uncle': 7003,\n",
       " 'timi': 6768,\n",
       " 'clearing': 1807,\n",
       " 'cars': 1637,\n",
       " 'chinese': 1761,\n",
       " 'food': 2878,\n",
       " 'fat': 2734,\n",
       " 'paying': 5029,\n",
       " 'lipo': 4064,\n",
       " 'shopping': 5993,\n",
       " 'own': 4944,\n",
       " 'sis': 6068,\n",
       " 'yet': 7550,\n",
       " 'dun': 2457,\n",
       " 'disturb': 2332,\n",
       " 'liao': 4014,\n",
       " 'mm': 4445,\n",
       " 'kind': 3865,\n",
       " 'took': 6837,\n",
       " 'garage': 3021,\n",
       " 'centre': 1674,\n",
       " 'exhaust': 2659,\n",
       " 'needs': 4639,\n",
       " 'replacing': 5603,\n",
       " 'ordered': 4888,\n",
       " 'taking': 6564,\n",
       " 'fixed': 2827,\n",
       " 'tomo': 6821,\n",
       " 'saying': 5817,\n",
       " 'slippers': 6110,\n",
       " 'returning': 5654,\n",
       " 'preferably': 5275,\n",
       " 'pap': 4977,\n",
       " 'slowly': 6118,\n",
       " 'loads': 4092,\n",
       " 'sugar': 6456,\n",
       " 'water': 7260,\n",
       " 'bhaji': 1305,\n",
       " 'told': 6814,\n",
       " 'cricketer': 2050,\n",
       " 'sachin': 5758,\n",
       " 'tough': 6863,\n",
       " 'boy': 1432,\n",
       " 'gal': 3008,\n",
       " 'propsd': 5358,\n",
       " 'didnt': 2275,\n",
       " 'mind': 4403,\n",
       " 'gv': 3226,\n",
       " 'lv': 4192,\n",
       " 'lttrs': 4173,\n",
       " 'frnds': 2959,\n",
       " 'threw': 6735,\n",
       " 'thm': 6720,\n",
       " 'again': 819,\n",
       " 'decided': 2179,\n",
       " 'aproach': 999,\n",
       " 'dt': 2445,\n",
       " 'truck': 6917,\n",
       " 'speeding': 6252,\n",
       " 'towards': 6865,\n",
       " 'wn': 7422,\n",
       " 'hit': 3383,\n",
       " 'girl': 3083,\n",
       " 'ran': 5457,\n",
       " 'hell': 3334,\n",
       " 'hw': 3505,\n",
       " 'cn': 1834,\n",
       " 'run': 5745,\n",
       " 'fast': 2731,\n",
       " 'replied': 5604,\n",
       " 'boost': 1393,\n",
       " 'secret': 5860,\n",
       " 'energy': 2556,\n",
       " 'instantly': 3632,\n",
       " 'shouted': 6008,\n",
       " 'thy': 6753,\n",
       " 'lived': 4080,\n",
       " 'happily': 3274,\n",
       " '2gthr': 378,\n",
       " 'drinking': 2423,\n",
       " 'evrydy': 2641,\n",
       " 'moral': 4494,\n",
       " 'story': 6384,\n",
       " 'hv': 3502,\n",
       " 'msgs': 4532,\n",
       " 'gud': 3207,\n",
       " 'ni8': 4673,\n",
       " 'ph': 5084,\n",
       " 'there': 6695,\n",
       " 'snow': 6158,\n",
       " 'weather': 7281,\n",
       " 'brings': 1475,\n",
       " 'ppl': 5253,\n",
       " 'friendships': 2954,\n",
       " 'grow': 3199,\n",
       " 'wun': 7498,\n",
       " 'believe': 1271,\n",
       " 'wat': 7253,\n",
       " 'neva': 4659,\n",
       " 'shuhui': 6025,\n",
       " 'orchard': 4886,\n",
       " 'sam': 5781,\n",
       " 'eachother': 2471,\n",
       " 'fffff': 2771,\n",
       " 'kadeem': 3814,\n",
       " 'far': 2726,\n",
       " 'gone': 3125,\n",
       " 'sister': 6069,\n",
       " 'kids': 3859,\n",
       " 'oi': 4818,\n",
       " 'ami': 903,\n",
       " 'parchi': 4986,\n",
       " 'na': 4584,\n",
       " 'kicchu': 3852,\n",
       " 'kaaj': 3813,\n",
       " 'korte': 3895,\n",
       " 'iccha': 3519,\n",
       " 'korche': 3893,\n",
       " 'phone': 5095,\n",
       " 'ta': 6545,\n",
       " 'tul': 6942,\n",
       " 'plz': 5172,\n",
       " 'lmao': 4088,\n",
       " 'pic': 5107,\n",
       " 'somewhr': 6191,\n",
       " 'surely': 6497,\n",
       " 'made': 4228,\n",
       " 'god': 3111,\n",
       " 'perfect': 5056,\n",
       " 'make': 4250,\n",
       " 'dat': 2149,\n",
       " 'till': 6765,\n",
       " 'den': 2218,\n",
       " 'crushes': 2063,\n",
       " 'wow': 7473,\n",
       " 'gay': 3033,\n",
       " 'firmware': 2818,\n",
       " 'okie': 4827,\n",
       " 'sat': 5801,\n",
       " 'others': 4906,\n",
       " 'marry': 4289,\n",
       " 'them': 6688,\n",
       " 'receiving': 5519,\n",
       " 'week': 7294,\n",
       " 'triple': 6909,\n",
       " 'echo': 2492,\n",
       " 'shortly': 6001,\n",
       " 'wednesday': 7290,\n",
       " 'cry': 2064,\n",
       " 'happens': 3272,\n",
       " 'everything': 2629,\n",
       " 'else': 2533,\n",
       " 'pushes': 5397,\n",
       " 'edge': 2496,\n",
       " 'underdtand': 7011,\n",
       " 'often': 4814,\n",
       " 'sorry': 6206,\n",
       " 'us': 7076,\n",
       " 'reach': 5482,\n",
       " 'bloody': 1363,\n",
       " 'cant': 1606,\n",
       " 'forgot': 2899,\n",
       " 'surname': 6502,\n",
       " 'mr': 4522,\n",
       " 'clue': 1830,\n",
       " 'spanish': 6235,\n",
       " 'begins': 1265,\n",
       " 'planning': 5146,\n",
       " 'usually': 7089,\n",
       " 'stops': 6378,\n",
       " 'hella': 3335,\n",
       " 'weed': 7293,\n",
       " 'spoil': 6274,\n",
       " 'management': 4264,\n",
       " 'puzzeles': 5403,\n",
       " 'tour': 6864,\n",
       " 'doing': 2369,\n",
       " 'sofa': 6166,\n",
       " 'curious': 2095,\n",
       " 'yan': 7528,\n",
       " 'jiu': 3757,\n",
       " 'bugis': 1515,\n",
       " 'vill': 7147,\n",
       " 'frm': 2957,\n",
       " '10': 241,\n",
       " 'hop': 3429,\n",
       " 'parco': 4987,\n",
       " 'nb': 4620,\n",
       " 'sun': 6472,\n",
       " 'cine': 1783,\n",
       " '1030': 250,\n",
       " 'orc': 4885,\n",
       " 'mrt': 4525,\n",
       " 'hip': 3378,\n",
       " 'hmmm': 3393,\n",
       " 'hi': 3363,\n",
       " 'textbuddy': 6657,\n",
       " 'horny': 3438,\n",
       " 'guys': 3225,\n",
       " 'area': 1010,\n",
       " '25p': 357,\n",
       " 'search': 5853,\n",
       " 'postcode': 5238,\n",
       " 'gaytextbuddy': 3036,\n",
       " 'com': 1871,\n",
       " '89693': 676,\n",
       " 'keep': 3836,\n",
       " 'through': 6738,\n",
       " 'intention': 3639,\n",
       " 'rather': 5468,\n",
       " 'clean': 1802,\n",
       " 'visitors': 7163,\n",
       " 'maybe': 4320,\n",
       " 'choice': 1769,\n",
       " 'embarassed': 2537,\n",
       " 'drop': 2431,\n",
       " 'tried': 6907,\n",
       " 'point': 5192,\n",
       " 'iron': 3676,\n",
       " 'yijue': 7555,\n",
       " 'jus': 3805,\n",
       " 'saw': 5814,\n",
       " 'mail': 4243,\n",
       " 'case': 1639,\n",
       " 'huiming': 3482,\n",
       " 'havent': 3298,\n",
       " 'num': 4762,\n",
       " 'lobby': 4095,\n",
       " 'dude': 2451,\n",
       " 'sup': 6481,\n",
       " 'dentist': 2222,\n",
       " 'dont': 2381,\n",
       " 'philosophy': 5092,\n",
       " 'err': 2591,\n",
       " 'cud': 2082,\n",
       " '8pm': 681,\n",
       " 'him': 3374,\n",
       " 'guaranteed': 3205,\n",
       " '1000': 243,\n",
       " '2000': 330,\n",
       " 'yr': 7579,\n",
       " 'representative': 5610,\n",
       " '08714712394': 111,\n",
       " 'between': 1297,\n",
       " '10am': 251,\n",
       " '7pm': 600,\n",
       " 'lastest': 3948,\n",
       " 'stereophonics': 6352,\n",
       " 'marley': 4285,\n",
       " 'dizzee': 2340,\n",
       " 'racal': 5434,\n",
       " 'libertines': 4016,\n",
       " 'strokes': 6403,\n",
       " 'nookii': 4719,\n",
       " 'games': 3014,\n",
       " 'flirt': 2846,\n",
       " 'click': 1810,\n",
       " ...}"
      ]
     },
     "execution_count": 21,
     "metadata": {},
     "output_type": "execute_result"
    }
   ],
   "source": [
    "cv.vocabulary_"
   ]
  },
  {
   "cell_type": "code",
   "execution_count": 22,
   "id": "86ba675e",
   "metadata": {},
   "outputs": [],
   "source": [
    "m=max(cv.vocabulary_,key=len)"
   ]
  },
  {
   "cell_type": "code",
   "execution_count": 23,
   "id": "76da4199",
   "metadata": {},
   "outputs": [
    {
     "data": {
      "text/plain": [
       "'com1win150ppmx3age16subscription'"
      ]
     },
     "execution_count": 23,
     "metadata": {},
     "output_type": "execute_result"
    }
   ],
   "source": [
    "m"
   ]
  },
  {
   "cell_type": "code",
   "execution_count": 24,
   "id": "c77d5577",
   "metadata": {},
   "outputs": [],
   "source": [
    "from sklearn.naive_bayes import MultinomialNB"
   ]
  },
  {
   "cell_type": "code",
   "execution_count": 25,
   "id": "494debc2",
   "metadata": {},
   "outputs": [],
   "source": [
    "mnb=MultinomialNB(alpha=0.1)"
   ]
  },
  {
   "cell_type": "code",
   "execution_count": 26,
   "id": "cec206e4",
   "metadata": {},
   "outputs": [
    {
     "data": {
      "text/html": [
       "<style>#sk-container-id-2 {color: black;background-color: white;}#sk-container-id-2 pre{padding: 0;}#sk-container-id-2 div.sk-toggleable {background-color: white;}#sk-container-id-2 label.sk-toggleable__label {cursor: pointer;display: block;width: 100%;margin-bottom: 0;padding: 0.3em;box-sizing: border-box;text-align: center;}#sk-container-id-2 label.sk-toggleable__label-arrow:before {content: \"▸\";float: left;margin-right: 0.25em;color: #696969;}#sk-container-id-2 label.sk-toggleable__label-arrow:hover:before {color: black;}#sk-container-id-2 div.sk-estimator:hover label.sk-toggleable__label-arrow:before {color: black;}#sk-container-id-2 div.sk-toggleable__content {max-height: 0;max-width: 0;overflow: hidden;text-align: left;background-color: #f0f8ff;}#sk-container-id-2 div.sk-toggleable__content pre {margin: 0.2em;color: black;border-radius: 0.25em;background-color: #f0f8ff;}#sk-container-id-2 input.sk-toggleable__control:checked~div.sk-toggleable__content {max-height: 200px;max-width: 100%;overflow: auto;}#sk-container-id-2 input.sk-toggleable__control:checked~label.sk-toggleable__label-arrow:before {content: \"▾\";}#sk-container-id-2 div.sk-estimator input.sk-toggleable__control:checked~label.sk-toggleable__label {background-color: #d4ebff;}#sk-container-id-2 div.sk-label input.sk-toggleable__control:checked~label.sk-toggleable__label {background-color: #d4ebff;}#sk-container-id-2 input.sk-hidden--visually {border: 0;clip: rect(1px 1px 1px 1px);clip: rect(1px, 1px, 1px, 1px);height: 1px;margin: -1px;overflow: hidden;padding: 0;position: absolute;width: 1px;}#sk-container-id-2 div.sk-estimator {font-family: monospace;background-color: #f0f8ff;border: 1px dotted black;border-radius: 0.25em;box-sizing: border-box;margin-bottom: 0.5em;}#sk-container-id-2 div.sk-estimator:hover {background-color: #d4ebff;}#sk-container-id-2 div.sk-parallel-item::after {content: \"\";width: 100%;border-bottom: 1px solid gray;flex-grow: 1;}#sk-container-id-2 div.sk-label:hover label.sk-toggleable__label {background-color: #d4ebff;}#sk-container-id-2 div.sk-serial::before {content: \"\";position: absolute;border-left: 1px solid gray;box-sizing: border-box;top: 0;bottom: 0;left: 50%;z-index: 0;}#sk-container-id-2 div.sk-serial {display: flex;flex-direction: column;align-items: center;background-color: white;padding-right: 0.2em;padding-left: 0.2em;position: relative;}#sk-container-id-2 div.sk-item {position: relative;z-index: 1;}#sk-container-id-2 div.sk-parallel {display: flex;align-items: stretch;justify-content: center;background-color: white;position: relative;}#sk-container-id-2 div.sk-item::before, #sk-container-id-2 div.sk-parallel-item::before {content: \"\";position: absolute;border-left: 1px solid gray;box-sizing: border-box;top: 0;bottom: 0;left: 50%;z-index: -1;}#sk-container-id-2 div.sk-parallel-item {display: flex;flex-direction: column;z-index: 1;position: relative;background-color: white;}#sk-container-id-2 div.sk-parallel-item:first-child::after {align-self: flex-end;width: 50%;}#sk-container-id-2 div.sk-parallel-item:last-child::after {align-self: flex-start;width: 50%;}#sk-container-id-2 div.sk-parallel-item:only-child::after {width: 0;}#sk-container-id-2 div.sk-dashed-wrapped {border: 1px dashed gray;margin: 0 0.4em 0.5em 0.4em;box-sizing: border-box;padding-bottom: 0.4em;background-color: white;}#sk-container-id-2 div.sk-label label {font-family: monospace;font-weight: bold;display: inline-block;line-height: 1.2em;}#sk-container-id-2 div.sk-label-container {text-align: center;}#sk-container-id-2 div.sk-container {/* jupyter's `normalize.less` sets `[hidden] { display: none; }` but bootstrap.min.css set `[hidden] { display: none !important; }` so we also need the `!important` here to be able to override the default hidden behavior on the sphinx rendered scikit-learn.org. See: https://github.com/scikit-learn/scikit-learn/issues/21755 */display: inline-block !important;position: relative;}#sk-container-id-2 div.sk-text-repr-fallback {display: none;}</style><div id=\"sk-container-id-2\" class=\"sk-top-container\"><div class=\"sk-text-repr-fallback\"><pre>MultinomialNB(alpha=0.1)</pre><b>In a Jupyter environment, please rerun this cell to show the HTML representation or trust the notebook. <br />On GitHub, the HTML representation is unable to render, please try loading this page with nbviewer.org.</b></div><div class=\"sk-container\" hidden><div class=\"sk-item\"><div class=\"sk-estimator sk-toggleable\"><input class=\"sk-toggleable__control sk-hidden--visually\" id=\"sk-estimator-id-2\" type=\"checkbox\" checked><label for=\"sk-estimator-id-2\" class=\"sk-toggleable__label sk-toggleable__label-arrow\">MultinomialNB</label><div class=\"sk-toggleable__content\"><pre>MultinomialNB(alpha=0.1)</pre></div></div></div></div></div>"
      ],
      "text/plain": [
       "MultinomialNB(alpha=0.1)"
      ]
     },
     "execution_count": 26,
     "metadata": {},
     "output_type": "execute_result"
    }
   ],
   "source": [
    "mnb.fit(X_train1,y_train)"
   ]
  },
  {
   "cell_type": "code",
   "execution_count": 27,
   "id": "bfc4c33d",
   "metadata": {},
   "outputs": [],
   "source": [
    "from sklearn.metrics import roc_auc_score"
   ]
  },
  {
   "cell_type": "code",
   "execution_count": 28,
   "id": "440fde61",
   "metadata": {},
   "outputs": [],
   "source": [
    "X_test1=cv.transform(X_test)"
   ]
  },
  {
   "cell_type": "code",
   "execution_count": 29,
   "id": "5d6c52a3",
   "metadata": {},
   "outputs": [],
   "source": [
    "y_pred=mnb.predict(X_test1)"
   ]
  },
  {
   "cell_type": "code",
   "execution_count": 30,
   "id": "10cdab71",
   "metadata": {},
   "outputs": [
    {
     "data": {
      "text/plain": [
       "0.9723646958751762"
      ]
     },
     "execution_count": 30,
     "metadata": {},
     "output_type": "execute_result"
    }
   ],
   "source": [
    "roc_auc_score(y_test,y_pred)"
   ]
  },
  {
   "cell_type": "code",
   "execution_count": 31,
   "id": "a6bee9fc",
   "metadata": {},
   "outputs": [],
   "source": [
    "from sklearn.feature_extraction.text import TfidfVectorizer"
   ]
  },
  {
   "cell_type": "code",
   "execution_count": 32,
   "id": "f5b92239",
   "metadata": {},
   "outputs": [],
   "source": [
    "t=TfidfVectorizer()"
   ]
  },
  {
   "cell_type": "code",
   "execution_count": 33,
   "id": "b0ec013f",
   "metadata": {},
   "outputs": [],
   "source": [
    "X_train2=t.fit_transform(X_train)\n",
    "X_test2=t.transform(X_test)"
   ]
  },
  {
   "cell_type": "code",
   "execution_count": 34,
   "id": "049cf904",
   "metadata": {},
   "outputs": [
    {
     "data": {
      "text/plain": [
       "{'no': 4700,\n",
       " 'this': 6717,\n",
       " 'is': 3682,\n",
       " 'kallis': 3818,\n",
       " 'home': 3415,\n",
       " 'ground': 3197,\n",
       " 'amla': 905,\n",
       " 'town': 6866,\n",
       " 'durban': 2459,\n",
       " 'am': 897,\n",
       " 'in': 3575,\n",
       " 'escape': 2599,\n",
       " 'theatre': 6683,\n",
       " 'now': 4750,\n",
       " 'going': 3117,\n",
       " 'to': 6799,\n",
       " 'watch': 7254,\n",
       " 'kavalan': 3830,\n",
       " 'few': 2769,\n",
       " 'minutes': 4418,\n",
       " 'we': 7274,\n",
       " 'walked': 7218,\n",
       " 'from': 2967,\n",
       " 'my': 4576,\n",
       " 'moms': 4477,\n",
       " 'right': 5673,\n",
       " 'on': 4841,\n",
       " 'stagwood': 6309,\n",
       " 'pass': 5006,\n",
       " 'winterstone': 7392,\n",
       " 'left': 3991,\n",
       " 'victors': 7137,\n",
       " 'hill': 3371,\n",
       " 'address': 780,\n",
       " 'lt': 4170,\n",
       " 'gt': 3204,\n",
       " 'dunno': 2458,\n",
       " 'they': 6701,\n",
       " 'close': 1815,\n",
       " 'oredi': 4890,\n",
       " 'not': 4737,\n",
       " 'ìï': 7604,\n",
       " 'ma': 4211,\n",
       " 'fan': 2719,\n",
       " 'yo': 7557,\n",
       " 'im': 3549,\n",
       " 'by': 1552,\n",
       " 'work': 7450,\n",
       " 'its': 3698,\n",
       " 'ur': 7063,\n",
       " 'luck': 4175,\n",
       " 'love': 4150,\n",
       " 'someone': 6179,\n",
       " 'fortune': 2907,\n",
       " 'the': 6681,\n",
       " 'one': 4845,\n",
       " 'who': 7354,\n",
       " 'loves': 4158,\n",
       " 'but': 1538,\n",
       " 'he': 3306,\n",
       " 'also': 889,\n",
       " 'knows': 3886,\n",
       " 'about': 723,\n",
       " 'lunch': 4182,\n",
       " 'menu': 4367,\n",
       " 'only': 4851,\n",
       " 'da': 2120,\n",
       " 'know': 3883,\n",
       " 'oh': 4817,\n",
       " 'yeah': 7535,\n",
       " 'and': 923,\n",
       " 'diet': 2281,\n",
       " 'just': 3806,\n",
       " 'flew': 2839,\n",
       " 'out': 4914,\n",
       " 'window': 7381,\n",
       " 'nah': 4588,\n",
       " 'it': 3692,\n",
       " 'straight': 6387,\n",
       " 'if': 3537,\n",
       " 'you': 7562,\n",
       " 'can': 1594,\n",
       " 'bring': 1473,\n",
       " 'bud': 1508,\n",
       " 'or': 4879,\n",
       " 'drinks': 2424,\n",
       " 'something': 6185,\n",
       " 'that': 6675,\n",
       " 'actually': 771,\n",
       " 'little': 4078,\n",
       " 'more': 4495,\n",
       " 'useful': 7081,\n",
       " 'than': 6665,\n",
       " 'cash': 1640,\n",
       " 'splashmobile': 6270,\n",
       " 'choose': 1771,\n",
       " '1000s': 245,\n",
       " 'of': 4797,\n",
       " 'gr8': 3158,\n",
       " 'tones': 6826,\n",
       " 'each': 2470,\n",
       " 'wk': 7413,\n",
       " 'subscrition': 6443,\n",
       " 'service': 5918,\n",
       " 'with': 7405,\n",
       " 'weekly': 7298,\n",
       " 'costing': 1995,\n",
       " '300p': 412,\n",
       " 'have': 3296,\n",
       " 'credit': 2042,\n",
       " 'kick': 3853,\n",
       " 'back': 1159,\n",
       " 'enjoy': 2562,\n",
       " 'fighting': 2785,\n",
       " 'world': 7456,\n",
       " 'easy': 2486,\n",
       " 'either': 2521,\n",
       " 'win': 7379,\n",
       " 'lose': 4131,\n",
       " 'bt': 1504,\n",
       " 'fightng': 2786,\n",
       " 'some1': 6176,\n",
       " 'dificult': 2289,\n",
       " 'still': 6362,\n",
       " 'cos': 1991,\n",
       " 'lar': 3940,\n",
       " 'so': 6162,\n",
       " 'ba': 1146,\n",
       " 'dao': 2137,\n",
       " 'ok': 4822,\n",
       " 'pm': 5173,\n",
       " 'lor': 4129,\n",
       " 'never': 4660,\n",
       " 'ask': 1056,\n",
       " 'where': 7342,\n",
       " 'go': 3105,\n",
       " 'ah': 832,\n",
       " 'said': 5770,\n",
       " 'would': 7469,\n",
       " 'fri': 2947,\n",
       " 'will': 7376,\n",
       " 'today': 6806,\n",
       " 'hey': 3360,\n",
       " 'around': 1033,\n",
       " 've': 7119,\n",
       " 'got': 3145,\n",
       " 'enough': 2567,\n",
       " 'for': 2888,\n",
       " 'half': 3246,\n",
       " 'ten': 6634,\n",
       " 'owe': 4941,\n",
       " 'asked': 1058,\n",
       " 'how': 3459,\n",
       " 'anthony': 950,\n",
       " 'dad': 2124,\n",
       " 'your': 7567,\n",
       " 'bf': 1302,\n",
       " 'sent': 5906,\n",
       " 'latest': 3954,\n",
       " 'version': 7127,\n",
       " 'project': 5339,\n",
       " 'be': 1235,\n",
       " 'place': 5136,\n",
       " 'man': 4260,\n",
       " 'gd': 3041,\n",
       " 'exams': 2647,\n",
       " 'burger': 1525,\n",
       " 'king': 3868,\n",
       " 'wanna': 7230,\n",
       " 'play': 5150,\n",
       " 'footy': 2887,\n",
       " 'at': 1077,\n",
       " 'top': 6845,\n",
       " 'stadium': 6307,\n",
       " 'get': 3062,\n",
       " 'before': 1260,\n",
       " '1st': 317,\n",
       " 'sept': 5911,\n",
       " 'large': 3943,\n",
       " 'super': 6482,\n",
       " 'coca': 1841,\n",
       " 'cola': 1854,\n",
       " 'walk': 7216,\n",
       " 'winner': 7389,\n",
       " 'all': 874,\n",
       " 'best': 1289,\n",
       " 'exam': 2646,\n",
       " 'later': 3953,\n",
       " '5p': 530,\n",
       " 'alfie': 867,\n",
       " 'moon': 4493,\n",
       " 'children': 1752,\n",
       " 'need': 4635,\n",
       " 'song': 6194,\n",
       " 'mob': 4454,\n",
       " 'tell': 6624,\n",
       " 'm8s': 4209,\n",
       " 'txt': 6961,\n",
       " 'tone': 6825,\n",
       " 'charity': 1699,\n",
       " '8007': 606,\n",
       " 'nokias': 4713,\n",
       " 'poly': 5200,\n",
       " 'polys': 5206,\n",
       " 'zed': 7591,\n",
       " '08701417012': 71,\n",
       " 'profit': 5336,\n",
       " 'reverse': 5660,\n",
       " 'cheating': 1715,\n",
       " 'mathematics': 4304,\n",
       " 'û_': 7606,\n",
       " 'don': 2378,\n",
       " 'worry': 7461,\n",
       " 'll': 4087,\n",
       " 'finished': 2810,\n",
       " 'march': 4278,\n",
       " 'ish': 3684,\n",
       " 'come': 1877,\n",
       " 'over': 4931,\n",
       " 'carlos': 1630,\n",
       " 'here': 3351,\n",
       " 'soon': 6199,\n",
       " 'should': 6005,\n",
       " 'are': 1009,\n",
       " 'bringing': 1474,\n",
       " 'money': 4481,\n",
       " 'school': 5827,\n",
       " 'fees': 2758,\n",
       " 'pay': 5026,\n",
       " 'rent': 5594,\n",
       " 'stuff': 6418,\n",
       " 'like': 4035,\n",
       " 'thats': 6678,\n",
       " 'why': 7361,\n",
       " 'help': 3338,\n",
       " 'friend': 2950,\n",
       " 'me': 4326,\n",
       " 'whos': 7358,\n",
       " 'pls': 5166,\n",
       " 'released': 5569,\n",
       " 'another': 940,\n",
       " 'italian': 3693,\n",
       " 'has': 3285,\n",
       " 'cosign': 1992,\n",
       " 'option': 4877,\n",
       " 'once': 4844,\n",
       " 'then': 6692,\n",
       " 'after': 813,\n",
       " 'ill': 3546,\n",
       " 'obey': 4785,\n",
       " 'yours': 7571,\n",
       " 'okmail': 4829,\n",
       " 'dear': 2168,\n",
       " 'dave': 2156,\n",
       " 'final': 2800,\n",
       " 'notice': 4742,\n",
       " 'collect': 1861,\n",
       " 'tenerife': 6636,\n",
       " 'holiday': 3410,\n",
       " '5000': 507,\n",
       " 'award': 1129,\n",
       " 'call': 1571,\n",
       " '09061743806': 187,\n",
       " 'landline': 3929,\n",
       " 'tcs': 6600,\n",
       " 'sae': 5763,\n",
       " 'box326': 1420,\n",
       " 'cw25wx': 2115,\n",
       " '150ppm': 291,\n",
       " 'fyi': 3003,\n",
       " 'usf': 7085,\n",
       " 'swing': 6531,\n",
       " 'room': 5707,\n",
       " 'whenever': 7339,\n",
       " 'raji': 5449,\n",
       " 'do': 2346,\n",
       " 'favour': 2744,\n",
       " 'convey': 1971,\n",
       " 'birthday': 1331,\n",
       " 'wishes': 7399,\n",
       " 'nimya': 4691,\n",
       " 'her': 3350,\n",
       " 'whats': 7333,\n",
       " 'todays': 6807,\n",
       " 'plan': 5141,\n",
       " 'job': 3759,\n",
       " 'up': 7048,\n",
       " 'send': 5897,\n",
       " 'logo': 4104,\n",
       " 'lover': 4155,\n",
       " 'names': 4597,\n",
       " 'joined': 3768,\n",
       " 'heart': 3320,\n",
       " 'name1': 4594,\n",
       " 'name2': 4595,\n",
       " 'mobno': 4460,\n",
       " 'eg': 2511,\n",
       " 'adam': 773,\n",
       " 'eve': 2615,\n",
       " '07123456789': 23,\n",
       " '87077': 655,\n",
       " 'yahoo': 7524,\n",
       " 'pobox36504w45wq': 5180,\n",
       " 'txtno': 6968,\n",
       " 'ads': 791,\n",
       " '150p': 287,\n",
       " 'had': 3236,\n",
       " 'mobile': 4456,\n",
       " '11': 256,\n",
       " 'months': 4491,\n",
       " 'entitled': 2573,\n",
       " 'update': 7053,\n",
       " 'colour': 1868,\n",
       " 'mobiles': 4457,\n",
       " 'camera': 1591,\n",
       " 'free': 2930,\n",
       " 'co': 1838,\n",
       " '08002986030': 51,\n",
       " 'thought': 6728,\n",
       " 'didn': 2274,\n",
       " 'see': 5870,\n",
       " 'miss': 4426,\n",
       " 'vday': 7118,\n",
       " 'parachute': 4981,\n",
       " 'double': 2394,\n",
       " 'coins': 1853,\n",
       " 'must': 4567,\n",
       " 'very': 7128,\n",
       " 'well': 7308,\n",
       " 'mine': 4405,\n",
       " 'lookin': 4121,\n",
       " 'pick': 5108,\n",
       " 'tonight': 6832,\n",
       " 'currently': 2097,\n",
       " 'message': 4374,\n",
       " 'awaiting': 1127,\n",
       " 'collection': 1864,\n",
       " '08718723815': 129,\n",
       " 'thanks': 6669,\n",
       " 'subscription': 6440,\n",
       " 'ringtone': 5681,\n",
       " 'uk': 6989,\n",
       " 'charged': 1697,\n",
       " 'month': 4488,\n",
       " 'please': 5159,\n",
       " 'confirm': 1931,\n",
       " 'replying': 5606,\n",
       " 'yes': 7547,\n",
       " 'reply': 5605,\n",
       " 'guess': 3211,\n",
       " 'spent': 6258,\n",
       " 'last': 3947,\n",
       " 'night': 4682,\n",
       " 'phasing': 5086,\n",
       " 'fourth': 2915,\n",
       " 'dimension': 2296,\n",
       " 'jade': 3717,\n",
       " 'paul': 5023,\n",
       " 'didnåõt': 2277,\n",
       " 'remember': 5577,\n",
       " 'barmed': 1197,\n",
       " 'want': 7232,\n",
       " 'talk': 6567,\n",
       " 'nw': 4773,\n",
       " 'came': 1590,\n",
       " 'hme': 3391,\n",
       " 'might': 4392,\n",
       " 'class': 1796,\n",
       " 'lets': 4009,\n",
       " 'early': 2475,\n",
       " 'reassuring': 5509,\n",
       " 'crazy': 2036,\n",
       " 'ì_': 7602,\n",
       " 'online': 4849,\n",
       " 'formatting': 2905,\n",
       " 'friends': 2951,\n",
       " 'already': 886,\n",
       " 'asking': 1060,\n",
       " 'working': 7454,\n",
       " 'weekend': 7296,\n",
       " 'unintentionally': 7027,\n",
       " 'bad': 1162,\n",
       " 'timing': 6770,\n",
       " 'great': 3179,\n",
       " 'fingers': 2808,\n",
       " 'trains': 6879,\n",
       " 'along': 884,\n",
       " 'give': 3089,\n",
       " 'fifteen': 2781,\n",
       " 'min': 4401,\n",
       " 'warning': 7243,\n",
       " 'joy': 3785,\n",
       " 'father': 2736,\n",
       " 'john': 3765,\n",
       " '____': 705,\n",
       " 'ans': 941,\n",
       " 'ths': 6745,\n",
       " 'hav': 3295,\n",
       " 'iq': 3673,\n",
       " 'tis': 6778,\n",
       " 'ias': 3510,\n",
       " 'question': 5419,\n",
       " 'try': 6926,\n",
       " 'answer': 943,\n",
       " 'when': 7338,\n",
       " 'chance': 1686,\n",
       " 'wanted': 7234,\n",
       " 'big': 1312,\n",
       " 'order': 4887,\n",
       " 'getting': 3070,\n",
       " 'touch': 6861,\n",
       " 'folks': 2869,\n",
       " 'waiting': 7212,\n",
       " 'company': 1894,\n",
       " 'name': 4593,\n",
       " 'age': 822,\n",
       " 'opt': 4874,\n",
       " 'community': 1889,\n",
       " 'sms': 6143,\n",
       " '2mrw': 388,\n",
       " 'ninish': 4692,\n",
       " 'icky': 3523,\n",
       " 'american': 902,\n",
       " 'freek': 2935,\n",
       " 'wont': 7440,\n",
       " 'stop': 6371,\n",
       " 'callin': 1582,\n",
       " 'jen': 3742,\n",
       " 'eh': 2516,\n",
       " 'happened': 3270,\n",
       " 'while': 7349,\n",
       " 'were': 7316,\n",
       " 'adventuring': 797,\n",
       " 'umma': 6994,\n",
       " 'life': 4023,\n",
       " 'vava': 7116,\n",
       " 'lot': 4137,\n",
       " 'xmas': 7510,\n",
       " 'radio': 5437,\n",
       " 'times': 6767,\n",
       " 'depends': 2229,\n",
       " 'treated': 6900,\n",
       " 'number': 4763,\n",
       " 'vivek': 7167,\n",
       " 'did': 2272,\n",
       " 'say': 5815,\n",
       " 'fantastic': 2724,\n",
       " 'any': 952,\n",
       " 'anything': 960,\n",
       " 'bigger': 1313,\n",
       " 'lift': 4028,\n",
       " 'as': 1049,\n",
       " 'losing': 4134,\n",
       " 'live': 4079,\n",
       " 'think': 6708,\n",
       " 'first': 2819,\n",
       " 'person': 5068,\n",
       " 'die': 2278,\n",
       " 'buy': 1543,\n",
       " 'mum': 4550,\n",
       " 'present': 5288,\n",
       " 'ar': 1003,\n",
       " 'able': 721,\n",
       " 'sleep': 6099,\n",
       " 'family': 2718,\n",
       " 'responding': 5633,\n",
       " 'went': 7313,\n",
       " 'diwali': 2339,\n",
       " 'called': 1577,\n",
       " 'coming': 1883,\n",
       " 'makes': 4251,\n",
       " 'feel': 2753,\n",
       " 'died': 2279,\n",
       " 'she': 5962,\n",
       " 'wants': 7236,\n",
       " 'won': 7433,\n",
       " '000': 1,\n",
       " 'prize': 5316,\n",
       " 'claim': 1788,\n",
       " 'call09050000327': 1572,\n",
       " 'rstm': 5726,\n",
       " 'sw7': 6511,\n",
       " '3ss': 450,\n",
       " 'our': 4911,\n",
       " 'dating': 2154,\n",
       " 'been': 1254,\n",
       " 'contact': 1953,\n",
       " 'shy': 6028,\n",
       " '09058091870': 163,\n",
       " 'revealed': 5658,\n",
       " 'pobox84': 5183,\n",
       " 'm26': 4203,\n",
       " '3uz': 451,\n",
       " 'probably': 5322,\n",
       " 'pretty': 5296,\n",
       " 'pussy': 5398,\n",
       " 'really': 5501,\n",
       " 'what': 7331,\n",
       " 'masters': 4296,\n",
       " 'moji': 4470,\n",
       " 'informed': 3609,\n",
       " 'saved': 5811,\n",
       " 'lives': 4083,\n",
       " 'aiyah': 849,\n",
       " 'nydc': 4777,\n",
       " 'wheellock': 7337,\n",
       " 'bored': 1397,\n",
       " 'speed': 6250,\n",
       " 'speedchat': 6251,\n",
       " '80155': 610,\n",
       " 'em': 2535,\n",
       " 'swap': 6515,\n",
       " 'new': 4663,\n",
       " 'chatter': 1710,\n",
       " 'chat80155': 1708,\n",
       " 'msg': 4527,\n",
       " 'rcd': 5475,\n",
       " '16': 298,\n",
       " 'reference': 5542,\n",
       " 'x29': 7502,\n",
       " '50': 505,\n",
       " 'arrive': 1039,\n",
       " 'customer': 2103,\n",
       " 'services': 5919,\n",
       " '09065989180': 209,\n",
       " 'yup': 7586,\n",
       " 'ummmmmaah': 6997,\n",
       " 'many': 4273,\n",
       " 'happy': 3276,\n",
       " 'returns': 5655,\n",
       " 'day': 2158,\n",
       " 'sweet': 6523,\n",
       " 'understanding': 7013,\n",
       " 'trying': 6928,\n",
       " 'sura': 6495,\n",
       " 'late': 3950,\n",
       " 'meet': 4343,\n",
       " '945': 690,\n",
       " 'auction': 1100,\n",
       " 'brand': 1443,\n",
       " 'nokia': 4710,\n",
       " '7250': 581,\n",
       " 'join': 3767,\n",
       " 'take': 6559,\n",
       " 'part': 4995,\n",
       " '86021': 648,\n",
       " 'hg': 3362,\n",
       " 'suite342': 6461,\n",
       " '2lands': 381,\n",
       " 'row': 5718,\n",
       " 'w1j6hl': 7193,\n",
       " 'running': 5746,\n",
       " 'managed': 4263,\n",
       " 'needed': 4637,\n",
       " 'oxygen': 4948,\n",
       " 'resort': 5628,\n",
       " 'roller': 5703,\n",
       " 'yar': 7529,\n",
       " 'tot': 6857,\n",
       " 'knew': 3880,\n",
       " 'dis': 2311,\n",
       " 'happen': 3268,\n",
       " 'long': 4115,\n",
       " 'ago': 830,\n",
       " 'fact': 2696,\n",
       " 'an': 918,\n",
       " 'hour': 3452,\n",
       " 'much': 4543,\n",
       " 'everybody': 2625,\n",
       " 'done': 2379,\n",
       " 'voda': 7169,\n",
       " 'numbers': 4764,\n",
       " 'ending': 2551,\n",
       " '7634': 590,\n",
       " 'selected': 5883,\n",
       " 'receive': 5516,\n",
       " '350': 427,\n",
       " 'reward': 5663,\n",
       " 'match': 4298,\n",
       " '08712300220': 93,\n",
       " 'quoting': 5432,\n",
       " 'code': 1847,\n",
       " '7684': 591,\n",
       " 'standard': 6315,\n",
       " 'rates': 5467,\n",
       " 'apply': 983,\n",
       " 'ride': 5672,\n",
       " 'equally': 2586,\n",
       " 'uneventful': 7018,\n",
       " 'too': 6836,\n",
       " 'those': 6725,\n",
       " 'pesky': 5077,\n",
       " 'cyclists': 2117,\n",
       " 'time': 6766,\n",
       " 'aunty': 1108,\n",
       " 'prolly': 5340,\n",
       " 'good': 3129,\n",
       " 'morning': 4498,\n",
       " 'princess': 5306,\n",
       " 'haven': 3297,\n",
       " 'heard': 3318,\n",
       " 'answering': 946,\n",
       " 'texts': 6663,\n",
       " 'guessing': 3214,\n",
       " 'flaked': 2832,\n",
       " 'jb': 3735,\n",
       " 'congrats': 1937,\n",
       " 'mins': 4414,\n",
       " 'look': 4119,\n",
       " 'askd': 1057,\n",
       " 'some': 6175,\n",
       " 'hours': 3454,\n",
       " 'house': 3455,\n",
       " 'maid': 4242,\n",
       " 'murderer': 4560,\n",
       " 'coz': 2020,\n",
       " 'was': 7246,\n",
       " 'murdered': 4559,\n",
       " 'th': 6664,\n",
       " 'january': 3725,\n",
       " 'public': 5379,\n",
       " 'govt': 3155,\n",
       " 'instituitions': 3634,\n",
       " 'closed': 1817,\n",
       " 'including': 3584,\n",
       " 'post': 5235,\n",
       " 'office': 4807,\n",
       " 'gep': 3059,\n",
       " 'could': 2003,\n",
       " 'text': 6655,\n",
       " 'bus': 1532,\n",
       " 'ugh': 6984,\n",
       " 'apologize': 973,\n",
       " 'admit': 787,\n",
       " 'wrong': 7485,\n",
       " 'congratulation': 1938,\n",
       " 'says': 5818,\n",
       " 'deny': 2224,\n",
       " 'chat': 1707,\n",
       " '86688': 650,\n",
       " 'let': 4008,\n",
       " 'find': 2804,\n",
       " 'other': 4905,\n",
       " 'rcvd': 5478,\n",
       " 'ldn': 3972,\n",
       " '18': 302,\n",
       " 'years': 7537,\n",
       " 'until': 7046,\n",
       " '545': 525,\n",
       " 'ya': 7522,\n",
       " 'dinner': 2302,\n",
       " 'together': 6810,\n",
       " 'hmm': 3392,\n",
       " 'news': 4667,\n",
       " 'hype': 3507,\n",
       " 'park': 4992,\n",
       " 'plaza': 5157,\n",
       " '700': 579,\n",
       " 'studio': 6415,\n",
       " 'taken': 6561,\n",
       " 'bedrm': 1251,\n",
       " '900': 684,\n",
       " 'ended': 2550,\n",
       " 'special': 6243,\n",
       " 'way': 7269,\n",
       " 'may': 4318,\n",
       " 'smile': 6133,\n",
       " 'sunny': 6476,\n",
       " 'rays': 5473,\n",
       " 'leaves': 3986,\n",
       " 'worries': 7460,\n",
       " 'blue': 1367,\n",
       " 'bay': 1218,\n",
       " 'bought': 1409,\n",
       " 'eggs': 2514,\n",
       " 'brother': 1489,\n",
       " 'transfered': 6885,\n",
       " 'pa': 4952,\n",
       " 'shit': 5981,\n",
       " 'babe': 1150,\n",
       " 'thasa': 6674,\n",
       " 'bit': 1333,\n",
       " 'messed': 4378,\n",
       " 'yeh': 7539,\n",
       " 'protect': 5361,\n",
       " 'yourself': 7572,\n",
       " 'threats': 6733,\n",
       " 'sib': 6031,\n",
       " 'asks': 1061,\n",
       " 'sensitive': 5905,\n",
       " 'information': 3608,\n",
       " 'passwords': 5013,\n",
       " 'atm': 1084,\n",
       " 'pin': 5125,\n",
       " 'thru': 6744,\n",
       " 'email': 2536,\n",
       " 'share': 5955,\n",
       " 'password': 5012,\n",
       " 'anybody': 953,\n",
       " 'hello': 3336,\n",
       " 'alright': 887,\n",
       " 'jolt': 3776,\n",
       " 'remind': 5582,\n",
       " 'hear': 3317,\n",
       " 'screamed': 5842,\n",
       " 'across': 760,\n",
       " 'sea': 5852,\n",
       " 'ahmad': 836,\n",
       " 'al': 856,\n",
       " 'hallaq': 3249,\n",
       " 'loved': 4151,\n",
       " 'owned': 4945,\n",
       " 'possessive': 5231,\n",
       " 'passionate': 5010,\n",
       " 'kiss': 3872,\n",
       " 'anyway': 963,\n",
       " 'holla': 3411,\n",
       " 're': 5481,\n",
       " 'because': 1244,\n",
       " 'excuse': 2653,\n",
       " 'creep': 2045,\n",
       " 'people': 5050,\n",
       " 'sarasota': 5794,\n",
       " 'thing': 6706,\n",
       " 'thanx': 6673,\n",
       " 'ive': 3703,\n",
       " 'revision': 5662,\n",
       " 'fran': 2922,\n",
       " 'boyf': 1434,\n",
       " 'gotta': 3151,\n",
       " 'interviw': 3649,\n",
       " 'exeter': 2658,\n",
       " 'worried': 7459,\n",
       " 'checked': 1719,\n",
       " 'sure': 6496,\n",
       " 'show': 6012,\n",
       " 'fuck': 2974,\n",
       " 'gonna': 3127,\n",
       " 'woman': 7430,\n",
       " 'likes': 4038,\n",
       " 'dislikes': 2326,\n",
       " 'bed': 1250,\n",
       " 'does': 2355,\n",
       " 'uncle': 7003,\n",
       " 'timi': 6768,\n",
       " 'clearing': 1807,\n",
       " 'cars': 1637,\n",
       " 'chinese': 1761,\n",
       " 'food': 2878,\n",
       " 'fat': 2734,\n",
       " 'paying': 5029,\n",
       " 'lipo': 4064,\n",
       " 'shopping': 5993,\n",
       " 'own': 4944,\n",
       " 'sis': 6068,\n",
       " 'yet': 7550,\n",
       " 'dun': 2457,\n",
       " 'disturb': 2332,\n",
       " 'liao': 4014,\n",
       " 'mm': 4445,\n",
       " 'kind': 3865,\n",
       " 'took': 6837,\n",
       " 'garage': 3021,\n",
       " 'centre': 1674,\n",
       " 'exhaust': 2659,\n",
       " 'needs': 4639,\n",
       " 'replacing': 5603,\n",
       " 'ordered': 4888,\n",
       " 'taking': 6564,\n",
       " 'fixed': 2827,\n",
       " 'tomo': 6821,\n",
       " 'saying': 5817,\n",
       " 'slippers': 6110,\n",
       " 'returning': 5654,\n",
       " 'preferably': 5275,\n",
       " 'pap': 4977,\n",
       " 'slowly': 6118,\n",
       " 'loads': 4092,\n",
       " 'sugar': 6456,\n",
       " 'water': 7260,\n",
       " 'bhaji': 1305,\n",
       " 'told': 6814,\n",
       " 'cricketer': 2050,\n",
       " 'sachin': 5758,\n",
       " 'tough': 6863,\n",
       " 'boy': 1432,\n",
       " 'gal': 3008,\n",
       " 'propsd': 5358,\n",
       " 'didnt': 2275,\n",
       " 'mind': 4403,\n",
       " 'gv': 3226,\n",
       " 'lv': 4192,\n",
       " 'lttrs': 4173,\n",
       " 'frnds': 2959,\n",
       " 'threw': 6735,\n",
       " 'thm': 6720,\n",
       " 'again': 819,\n",
       " 'decided': 2179,\n",
       " 'aproach': 999,\n",
       " 'dt': 2445,\n",
       " 'truck': 6917,\n",
       " 'speeding': 6252,\n",
       " 'towards': 6865,\n",
       " 'wn': 7422,\n",
       " 'hit': 3383,\n",
       " 'girl': 3083,\n",
       " 'ran': 5457,\n",
       " 'hell': 3334,\n",
       " 'hw': 3505,\n",
       " 'cn': 1834,\n",
       " 'run': 5745,\n",
       " 'fast': 2731,\n",
       " 'replied': 5604,\n",
       " 'boost': 1393,\n",
       " 'secret': 5860,\n",
       " 'energy': 2556,\n",
       " 'instantly': 3632,\n",
       " 'shouted': 6008,\n",
       " 'thy': 6753,\n",
       " 'lived': 4080,\n",
       " 'happily': 3274,\n",
       " '2gthr': 378,\n",
       " 'drinking': 2423,\n",
       " 'evrydy': 2641,\n",
       " 'moral': 4494,\n",
       " 'story': 6384,\n",
       " 'hv': 3502,\n",
       " 'msgs': 4532,\n",
       " 'gud': 3207,\n",
       " 'ni8': 4673,\n",
       " 'ph': 5084,\n",
       " 'there': 6695,\n",
       " 'snow': 6158,\n",
       " 'weather': 7281,\n",
       " 'brings': 1475,\n",
       " 'ppl': 5253,\n",
       " 'friendships': 2954,\n",
       " 'grow': 3199,\n",
       " 'wun': 7498,\n",
       " 'believe': 1271,\n",
       " 'wat': 7253,\n",
       " 'neva': 4659,\n",
       " 'shuhui': 6025,\n",
       " 'orchard': 4886,\n",
       " 'sam': 5781,\n",
       " 'eachother': 2471,\n",
       " 'fffff': 2771,\n",
       " 'kadeem': 3814,\n",
       " 'far': 2726,\n",
       " 'gone': 3125,\n",
       " 'sister': 6069,\n",
       " 'kids': 3859,\n",
       " 'oi': 4818,\n",
       " 'ami': 903,\n",
       " 'parchi': 4986,\n",
       " 'na': 4584,\n",
       " 'kicchu': 3852,\n",
       " 'kaaj': 3813,\n",
       " 'korte': 3895,\n",
       " 'iccha': 3519,\n",
       " 'korche': 3893,\n",
       " 'phone': 5095,\n",
       " 'ta': 6545,\n",
       " 'tul': 6942,\n",
       " 'plz': 5172,\n",
       " 'lmao': 4088,\n",
       " 'pic': 5107,\n",
       " 'somewhr': 6191,\n",
       " 'surely': 6497,\n",
       " 'made': 4228,\n",
       " 'god': 3111,\n",
       " 'perfect': 5056,\n",
       " 'make': 4250,\n",
       " 'dat': 2149,\n",
       " 'till': 6765,\n",
       " 'den': 2218,\n",
       " 'crushes': 2063,\n",
       " 'wow': 7473,\n",
       " 'gay': 3033,\n",
       " 'firmware': 2818,\n",
       " 'okie': 4827,\n",
       " 'sat': 5801,\n",
       " 'others': 4906,\n",
       " 'marry': 4289,\n",
       " 'them': 6688,\n",
       " 'receiving': 5519,\n",
       " 'week': 7294,\n",
       " 'triple': 6909,\n",
       " 'echo': 2492,\n",
       " 'shortly': 6001,\n",
       " 'wednesday': 7290,\n",
       " 'cry': 2064,\n",
       " 'happens': 3272,\n",
       " 'everything': 2629,\n",
       " 'else': 2533,\n",
       " 'pushes': 5397,\n",
       " 'edge': 2496,\n",
       " 'underdtand': 7011,\n",
       " 'often': 4814,\n",
       " 'sorry': 6206,\n",
       " 'us': 7076,\n",
       " 'reach': 5482,\n",
       " 'bloody': 1363,\n",
       " 'cant': 1606,\n",
       " 'forgot': 2899,\n",
       " 'surname': 6502,\n",
       " 'mr': 4522,\n",
       " 'clue': 1830,\n",
       " 'spanish': 6235,\n",
       " 'begins': 1265,\n",
       " 'planning': 5146,\n",
       " 'usually': 7089,\n",
       " 'stops': 6378,\n",
       " 'hella': 3335,\n",
       " 'weed': 7293,\n",
       " 'spoil': 6274,\n",
       " 'management': 4264,\n",
       " 'puzzeles': 5403,\n",
       " 'tour': 6864,\n",
       " 'doing': 2369,\n",
       " 'sofa': 6166,\n",
       " 'curious': 2095,\n",
       " 'yan': 7528,\n",
       " 'jiu': 3757,\n",
       " 'bugis': 1515,\n",
       " 'vill': 7147,\n",
       " 'frm': 2957,\n",
       " '10': 241,\n",
       " 'hop': 3429,\n",
       " 'parco': 4987,\n",
       " 'nb': 4620,\n",
       " 'sun': 6472,\n",
       " 'cine': 1783,\n",
       " '1030': 250,\n",
       " 'orc': 4885,\n",
       " 'mrt': 4525,\n",
       " 'hip': 3378,\n",
       " 'hmmm': 3393,\n",
       " 'hi': 3363,\n",
       " 'textbuddy': 6657,\n",
       " 'horny': 3438,\n",
       " 'guys': 3225,\n",
       " 'area': 1010,\n",
       " '25p': 357,\n",
       " 'search': 5853,\n",
       " 'postcode': 5238,\n",
       " 'gaytextbuddy': 3036,\n",
       " 'com': 1871,\n",
       " '89693': 676,\n",
       " 'keep': 3836,\n",
       " 'through': 6738,\n",
       " 'intention': 3639,\n",
       " 'rather': 5468,\n",
       " 'clean': 1802,\n",
       " 'visitors': 7163,\n",
       " 'maybe': 4320,\n",
       " 'choice': 1769,\n",
       " 'embarassed': 2537,\n",
       " 'drop': 2431,\n",
       " 'tried': 6907,\n",
       " 'point': 5192,\n",
       " 'iron': 3676,\n",
       " 'yijue': 7555,\n",
       " 'jus': 3805,\n",
       " 'saw': 5814,\n",
       " 'mail': 4243,\n",
       " 'case': 1639,\n",
       " 'huiming': 3482,\n",
       " 'havent': 3298,\n",
       " 'num': 4762,\n",
       " 'lobby': 4095,\n",
       " 'dude': 2451,\n",
       " 'sup': 6481,\n",
       " 'dentist': 2222,\n",
       " 'dont': 2381,\n",
       " 'philosophy': 5092,\n",
       " 'err': 2591,\n",
       " 'cud': 2082,\n",
       " '8pm': 681,\n",
       " 'him': 3374,\n",
       " 'guaranteed': 3205,\n",
       " '1000': 243,\n",
       " '2000': 330,\n",
       " 'yr': 7579,\n",
       " 'representative': 5610,\n",
       " '08714712394': 111,\n",
       " 'between': 1297,\n",
       " '10am': 251,\n",
       " '7pm': 600,\n",
       " 'lastest': 3948,\n",
       " 'stereophonics': 6352,\n",
       " 'marley': 4285,\n",
       " 'dizzee': 2340,\n",
       " 'racal': 5434,\n",
       " 'libertines': 4016,\n",
       " 'strokes': 6403,\n",
       " 'nookii': 4719,\n",
       " 'games': 3014,\n",
       " 'flirt': 2846,\n",
       " 'click': 1810,\n",
       " ...}"
      ]
     },
     "execution_count": 34,
     "metadata": {},
     "output_type": "execute_result"
    }
   ],
   "source": [
    "t.vocabulary_"
   ]
  },
  {
   "cell_type": "code",
   "execution_count": 37,
   "id": "3e4b4d3c",
   "metadata": {},
   "outputs": [
    {
     "data": {
      "text/html": [
       "<style>#sk-container-id-3 {color: black;background-color: white;}#sk-container-id-3 pre{padding: 0;}#sk-container-id-3 div.sk-toggleable {background-color: white;}#sk-container-id-3 label.sk-toggleable__label {cursor: pointer;display: block;width: 100%;margin-bottom: 0;padding: 0.3em;box-sizing: border-box;text-align: center;}#sk-container-id-3 label.sk-toggleable__label-arrow:before {content: \"▸\";float: left;margin-right: 0.25em;color: #696969;}#sk-container-id-3 label.sk-toggleable__label-arrow:hover:before {color: black;}#sk-container-id-3 div.sk-estimator:hover label.sk-toggleable__label-arrow:before {color: black;}#sk-container-id-3 div.sk-toggleable__content {max-height: 0;max-width: 0;overflow: hidden;text-align: left;background-color: #f0f8ff;}#sk-container-id-3 div.sk-toggleable__content pre {margin: 0.2em;color: black;border-radius: 0.25em;background-color: #f0f8ff;}#sk-container-id-3 input.sk-toggleable__control:checked~div.sk-toggleable__content {max-height: 200px;max-width: 100%;overflow: auto;}#sk-container-id-3 input.sk-toggleable__control:checked~label.sk-toggleable__label-arrow:before {content: \"▾\";}#sk-container-id-3 div.sk-estimator input.sk-toggleable__control:checked~label.sk-toggleable__label {background-color: #d4ebff;}#sk-container-id-3 div.sk-label input.sk-toggleable__control:checked~label.sk-toggleable__label {background-color: #d4ebff;}#sk-container-id-3 input.sk-hidden--visually {border: 0;clip: rect(1px 1px 1px 1px);clip: rect(1px, 1px, 1px, 1px);height: 1px;margin: -1px;overflow: hidden;padding: 0;position: absolute;width: 1px;}#sk-container-id-3 div.sk-estimator {font-family: monospace;background-color: #f0f8ff;border: 1px dotted black;border-radius: 0.25em;box-sizing: border-box;margin-bottom: 0.5em;}#sk-container-id-3 div.sk-estimator:hover {background-color: #d4ebff;}#sk-container-id-3 div.sk-parallel-item::after {content: \"\";width: 100%;border-bottom: 1px solid gray;flex-grow: 1;}#sk-container-id-3 div.sk-label:hover label.sk-toggleable__label {background-color: #d4ebff;}#sk-container-id-3 div.sk-serial::before {content: \"\";position: absolute;border-left: 1px solid gray;box-sizing: border-box;top: 0;bottom: 0;left: 50%;z-index: 0;}#sk-container-id-3 div.sk-serial {display: flex;flex-direction: column;align-items: center;background-color: white;padding-right: 0.2em;padding-left: 0.2em;position: relative;}#sk-container-id-3 div.sk-item {position: relative;z-index: 1;}#sk-container-id-3 div.sk-parallel {display: flex;align-items: stretch;justify-content: center;background-color: white;position: relative;}#sk-container-id-3 div.sk-item::before, #sk-container-id-3 div.sk-parallel-item::before {content: \"\";position: absolute;border-left: 1px solid gray;box-sizing: border-box;top: 0;bottom: 0;left: 50%;z-index: -1;}#sk-container-id-3 div.sk-parallel-item {display: flex;flex-direction: column;z-index: 1;position: relative;background-color: white;}#sk-container-id-3 div.sk-parallel-item:first-child::after {align-self: flex-end;width: 50%;}#sk-container-id-3 div.sk-parallel-item:last-child::after {align-self: flex-start;width: 50%;}#sk-container-id-3 div.sk-parallel-item:only-child::after {width: 0;}#sk-container-id-3 div.sk-dashed-wrapped {border: 1px dashed gray;margin: 0 0.4em 0.5em 0.4em;box-sizing: border-box;padding-bottom: 0.4em;background-color: white;}#sk-container-id-3 div.sk-label label {font-family: monospace;font-weight: bold;display: inline-block;line-height: 1.2em;}#sk-container-id-3 div.sk-label-container {text-align: center;}#sk-container-id-3 div.sk-container {/* jupyter's `normalize.less` sets `[hidden] { display: none; }` but bootstrap.min.css set `[hidden] { display: none !important; }` so we also need the `!important` here to be able to override the default hidden behavior on the sphinx rendered scikit-learn.org. See: https://github.com/scikit-learn/scikit-learn/issues/21755 */display: inline-block !important;position: relative;}#sk-container-id-3 div.sk-text-repr-fallback {display: none;}</style><div id=\"sk-container-id-3\" class=\"sk-top-container\"><div class=\"sk-text-repr-fallback\"><pre>TfidfVectorizer()</pre><b>In a Jupyter environment, please rerun this cell to show the HTML representation or trust the notebook. <br />On GitHub, the HTML representation is unable to render, please try loading this page with nbviewer.org.</b></div><div class=\"sk-container\" hidden><div class=\"sk-item\"><div class=\"sk-estimator sk-toggleable\"><input class=\"sk-toggleable__control sk-hidden--visually\" id=\"sk-estimator-id-3\" type=\"checkbox\" checked><label for=\"sk-estimator-id-3\" class=\"sk-toggleable__label sk-toggleable__label-arrow\">TfidfVectorizer</label><div class=\"sk-toggleable__content\"><pre>TfidfVectorizer()</pre></div></div></div></div></div>"
      ],
      "text/plain": [
       "TfidfVectorizer()"
      ]
     },
     "execution_count": 37,
     "metadata": {},
     "output_type": "execute_result"
    }
   ],
   "source": [
    "t"
   ]
  },
  {
   "cell_type": "code",
   "execution_count": 41,
   "id": "0fa1eaf5",
   "metadata": {},
   "outputs": [
    {
     "data": {
      "text/plain": [
       "7612"
      ]
     },
     "execution_count": 41,
     "metadata": {},
     "output_type": "execute_result"
    }
   ],
   "source": [
    "len(t.get_feature_names_out())"
   ]
  },
  {
   "cell_type": "code",
   "execution_count": 46,
   "id": "b38d030d",
   "metadata": {},
   "outputs": [],
   "source": [
    "names=t.get_feature_names_out()"
   ]
  },
  {
   "cell_type": "code",
   "execution_count": 47,
   "id": "80bad29a",
   "metadata": {},
   "outputs": [
    {
     "data": {
      "text/plain": [
       "array(['00', '000', '000pes', ..., 'ûïharry', 'ûò', 'ûówell'],\n",
       "      dtype=object)"
      ]
     },
     "execution_count": 47,
     "metadata": {},
     "output_type": "execute_result"
    }
   ],
   "source": [
    "names"
   ]
  },
  {
   "cell_type": "code",
   "execution_count": 49,
   "id": "4d9964cd",
   "metadata": {},
   "outputs": [],
   "source": [
    "tf=X_train2.toarray()"
   ]
  },
  {
   "cell_type": "code",
   "execution_count": 50,
   "id": "b4d87b10",
   "metadata": {},
   "outputs": [
    {
     "data": {
      "text/plain": [
       "array([[0., 0., 0., ..., 0., 0., 0.],\n",
       "       [0., 0., 0., ..., 0., 0., 0.],\n",
       "       [0., 0., 0., ..., 0., 0., 0.],\n",
       "       ...,\n",
       "       [0., 0., 0., ..., 0., 0., 0.],\n",
       "       [0., 0., 0., ..., 0., 0., 0.],\n",
       "       [0., 0., 0., ..., 0., 0., 0.]])"
      ]
     },
     "execution_count": 50,
     "metadata": {},
     "output_type": "execute_result"
    }
   ],
   "source": [
    "tf"
   ]
  },
  {
   "cell_type": "code",
   "execution_count": 51,
   "id": "6c625de9",
   "metadata": {},
   "outputs": [],
   "source": [
    "max_feature=np.max(tf,axis=0)"
   ]
  },
  {
   "cell_type": "code",
   "execution_count": 52,
   "id": "80e118ce",
   "metadata": {},
   "outputs": [
    {
     "data": {
      "text/plain": [
       "array([0.23810667, 0.50951705, 0.22936625, ..., 0.2794812 , 0.46529646,\n",
       "       0.35227608])"
      ]
     },
     "execution_count": 52,
     "metadata": {},
     "output_type": "execute_result"
    }
   ],
   "source": [
    "max_feature"
   ]
  },
  {
   "cell_type": "code",
   "execution_count": 54,
   "id": "0c054603",
   "metadata": {},
   "outputs": [],
   "source": [
    "d=pd.Series(max_feature,index=t.get_feature_names_out())"
   ]
  },
  {
   "cell_type": "code",
   "execution_count": 55,
   "id": "e46ce248",
   "metadata": {},
   "outputs": [
    {
     "data": {
      "text/plain": [
       "00              0.238107\n",
       "000             0.509517\n",
       "000pes          0.229366\n",
       "008704050406    0.261639\n",
       "0089            0.244211\n",
       "                  ...   \n",
       "û_thanks        0.568774\n",
       "ûï              0.285227\n",
       "ûïharry         0.279481\n",
       "ûò              0.465296\n",
       "ûówell          0.352276\n",
       "Length: 7612, dtype: float64"
      ]
     },
     "execution_count": 55,
     "metadata": {},
     "output_type": "execute_result"
    }
   ],
   "source": [
    "d"
   ]
  },
  {
   "cell_type": "code",
   "execution_count": 60,
   "id": "d39206da",
   "metadata": {},
   "outputs": [],
   "source": [
    "x=d.sort_values()"
   ]
  },
  {
   "cell_type": "code",
   "execution_count": 61,
   "id": "eded04b1",
   "metadata": {},
   "outputs": [
    {
     "data": {
      "text/plain": [
       "craziest      0.072395\n",
       "sambar        0.072395\n",
       "sorrows       0.072395\n",
       "attraction    0.072395\n",
       "makiing       0.072395\n",
       "                ...   \n",
       "146tf150p     1.000000\n",
       "thanx         1.000000\n",
       "yup           1.000000\n",
       "ok            1.000000\n",
       "thank         1.000000\n",
       "Length: 7612, dtype: float64"
      ]
     },
     "execution_count": 61,
     "metadata": {},
     "output_type": "execute_result"
    }
   ],
   "source": [
    "x"
   ]
  },
  {
   "cell_type": "code",
   "execution_count": 62,
   "id": "c7c8454f",
   "metadata": {},
   "outputs": [],
   "source": [
    "min=x.head(20)"
   ]
  },
  {
   "cell_type": "code",
   "execution_count": 63,
   "id": "0cb4751b",
   "metadata": {},
   "outputs": [],
   "source": [
    "max=x.tail(20)"
   ]
  },
  {
   "cell_type": "code",
   "execution_count": 64,
   "id": "1a91634d",
   "metadata": {},
   "outputs": [
    {
     "data": {
      "text/plain": [
       "craziest        0.072395\n",
       "sambar          0.072395\n",
       "sorrows         0.072395\n",
       "attraction      0.072395\n",
       "makiing         0.072395\n",
       "praises         0.072395\n",
       "proove          0.072395\n",
       "aaniye          0.074700\n",
       "psychiatrist    0.074700\n",
       "healer          0.074700\n",
       "chef            0.074700\n",
       "pudunga         0.074700\n",
       "dependable      0.074700\n",
       "sympathetic     0.074700\n",
       "determined      0.074700\n",
       "exterminator    0.074700\n",
       "pest            0.074700\n",
       "courageous      0.074700\n",
       "listener        0.074700\n",
       "athletic        0.074700\n",
       "dtype: float64"
      ]
     },
     "execution_count": 64,
     "metadata": {},
     "output_type": "execute_result"
    }
   ],
   "source": [
    "min"
   ]
  },
  {
   "cell_type": "code",
   "execution_count": 65,
   "id": "e9885797",
   "metadata": {},
   "outputs": [
    {
     "data": {
      "text/plain": [
       "tick              0.980336\n",
       "er                1.000000\n",
       "home              1.000000\n",
       "havent            1.000000\n",
       "too               1.000000\n",
       "645               1.000000\n",
       "beerage           1.000000\n",
       "nite              1.000000\n",
       "lei               1.000000\n",
       "congratulation    1.000000\n",
       "where             1.000000\n",
       "anything          1.000000\n",
       "anytime           1.000000\n",
       "done              1.000000\n",
       "okie              1.000000\n",
       "146tf150p         1.000000\n",
       "thanx             1.000000\n",
       "yup               1.000000\n",
       "ok                1.000000\n",
       "thank             1.000000\n",
       "dtype: float64"
      ]
     },
     "execution_count": 65,
     "metadata": {},
     "output_type": "execute_result"
    }
   ],
   "source": [
    "max"
   ]
  },
  {
   "cell_type": "code",
   "execution_count": 66,
   "id": "52c0c0a4",
   "metadata": {},
   "outputs": [
    {
     "data": {
      "text/plain": [
       "pandas.core.series.Series"
      ]
     },
     "execution_count": 66,
     "metadata": {},
     "output_type": "execute_result"
    }
   ],
   "source": [
    "type(min)"
   ]
  },
  {
   "cell_type": "code",
   "execution_count": 70,
   "id": "d915b11c",
   "metadata": {},
   "outputs": [
    {
     "name": "stderr",
     "output_type": "stream",
     "text": [
      "C:\\Users\\ASUS\\AppData\\Local\\Temp\\ipykernel_25164\\895784924.py:1: FutureWarning: Not prepending group keys to the result index of transform-like apply. In the future, the group keys will be included in the index, regardless of whether the applied function returns a like-indexed object.\n",
      "To preserve the previous behavior, use\n",
      "\n",
      "\t>>> .groupby(..., group_keys=False)\n",
      "\n",
      "To adopt the future behavior and silence this warning, use \n",
      "\n",
      "\t>>> .groupby(..., group_keys=True)\n",
      "  min.groupby(min.index).apply(lambda x: x.sort_index())\n"
     ]
    },
    {
     "data": {
      "text/plain": [
       "craziest        0.072395\n",
       "sambar          0.072395\n",
       "sorrows         0.072395\n",
       "attraction      0.072395\n",
       "makiing         0.072395\n",
       "praises         0.072395\n",
       "proove          0.072395\n",
       "aaniye          0.074700\n",
       "psychiatrist    0.074700\n",
       "healer          0.074700\n",
       "chef            0.074700\n",
       "pudunga         0.074700\n",
       "dependable      0.074700\n",
       "sympathetic     0.074700\n",
       "determined      0.074700\n",
       "exterminator    0.074700\n",
       "pest            0.074700\n",
       "courageous      0.074700\n",
       "listener        0.074700\n",
       "athletic        0.074700\n",
       "dtype: float64"
      ]
     },
     "execution_count": 70,
     "metadata": {},
     "output_type": "execute_result"
    }
   ],
   "source": [
    "min.groupby(min.index).apply(lambda x: x.sort_index())"
   ]
  },
  {
   "cell_type": "code",
   "execution_count": 71,
   "id": "b5b407da",
   "metadata": {},
   "outputs": [],
   "source": [
    "t2=TfidfVectorizer(min_df=3)"
   ]
  },
  {
   "cell_type": "code",
   "execution_count": 72,
   "id": "e329aa35",
   "metadata": {},
   "outputs": [],
   "source": [
    "X_train3=t2.fit_transform(X_train)\n",
    "X_test3=t2.transform(X_test)"
   ]
  },
  {
   "cell_type": "code",
   "execution_count": 74,
   "id": "6bbc8285",
   "metadata": {},
   "outputs": [],
   "source": [
    "mnb2=MultinomialNB(alpha=0.1)"
   ]
  },
  {
   "cell_type": "code",
   "execution_count": 76,
   "id": "feb113aa",
   "metadata": {},
   "outputs": [
    {
     "data": {
      "text/html": [
       "<style>#sk-container-id-4 {color: black;background-color: white;}#sk-container-id-4 pre{padding: 0;}#sk-container-id-4 div.sk-toggleable {background-color: white;}#sk-container-id-4 label.sk-toggleable__label {cursor: pointer;display: block;width: 100%;margin-bottom: 0;padding: 0.3em;box-sizing: border-box;text-align: center;}#sk-container-id-4 label.sk-toggleable__label-arrow:before {content: \"▸\";float: left;margin-right: 0.25em;color: #696969;}#sk-container-id-4 label.sk-toggleable__label-arrow:hover:before {color: black;}#sk-container-id-4 div.sk-estimator:hover label.sk-toggleable__label-arrow:before {color: black;}#sk-container-id-4 div.sk-toggleable__content {max-height: 0;max-width: 0;overflow: hidden;text-align: left;background-color: #f0f8ff;}#sk-container-id-4 div.sk-toggleable__content pre {margin: 0.2em;color: black;border-radius: 0.25em;background-color: #f0f8ff;}#sk-container-id-4 input.sk-toggleable__control:checked~div.sk-toggleable__content {max-height: 200px;max-width: 100%;overflow: auto;}#sk-container-id-4 input.sk-toggleable__control:checked~label.sk-toggleable__label-arrow:before {content: \"▾\";}#sk-container-id-4 div.sk-estimator input.sk-toggleable__control:checked~label.sk-toggleable__label {background-color: #d4ebff;}#sk-container-id-4 div.sk-label input.sk-toggleable__control:checked~label.sk-toggleable__label {background-color: #d4ebff;}#sk-container-id-4 input.sk-hidden--visually {border: 0;clip: rect(1px 1px 1px 1px);clip: rect(1px, 1px, 1px, 1px);height: 1px;margin: -1px;overflow: hidden;padding: 0;position: absolute;width: 1px;}#sk-container-id-4 div.sk-estimator {font-family: monospace;background-color: #f0f8ff;border: 1px dotted black;border-radius: 0.25em;box-sizing: border-box;margin-bottom: 0.5em;}#sk-container-id-4 div.sk-estimator:hover {background-color: #d4ebff;}#sk-container-id-4 div.sk-parallel-item::after {content: \"\";width: 100%;border-bottom: 1px solid gray;flex-grow: 1;}#sk-container-id-4 div.sk-label:hover label.sk-toggleable__label {background-color: #d4ebff;}#sk-container-id-4 div.sk-serial::before {content: \"\";position: absolute;border-left: 1px solid gray;box-sizing: border-box;top: 0;bottom: 0;left: 50%;z-index: 0;}#sk-container-id-4 div.sk-serial {display: flex;flex-direction: column;align-items: center;background-color: white;padding-right: 0.2em;padding-left: 0.2em;position: relative;}#sk-container-id-4 div.sk-item {position: relative;z-index: 1;}#sk-container-id-4 div.sk-parallel {display: flex;align-items: stretch;justify-content: center;background-color: white;position: relative;}#sk-container-id-4 div.sk-item::before, #sk-container-id-4 div.sk-parallel-item::before {content: \"\";position: absolute;border-left: 1px solid gray;box-sizing: border-box;top: 0;bottom: 0;left: 50%;z-index: -1;}#sk-container-id-4 div.sk-parallel-item {display: flex;flex-direction: column;z-index: 1;position: relative;background-color: white;}#sk-container-id-4 div.sk-parallel-item:first-child::after {align-self: flex-end;width: 50%;}#sk-container-id-4 div.sk-parallel-item:last-child::after {align-self: flex-start;width: 50%;}#sk-container-id-4 div.sk-parallel-item:only-child::after {width: 0;}#sk-container-id-4 div.sk-dashed-wrapped {border: 1px dashed gray;margin: 0 0.4em 0.5em 0.4em;box-sizing: border-box;padding-bottom: 0.4em;background-color: white;}#sk-container-id-4 div.sk-label label {font-family: monospace;font-weight: bold;display: inline-block;line-height: 1.2em;}#sk-container-id-4 div.sk-label-container {text-align: center;}#sk-container-id-4 div.sk-container {/* jupyter's `normalize.less` sets `[hidden] { display: none; }` but bootstrap.min.css set `[hidden] { display: none !important; }` so we also need the `!important` here to be able to override the default hidden behavior on the sphinx rendered scikit-learn.org. See: https://github.com/scikit-learn/scikit-learn/issues/21755 */display: inline-block !important;position: relative;}#sk-container-id-4 div.sk-text-repr-fallback {display: none;}</style><div id=\"sk-container-id-4\" class=\"sk-top-container\"><div class=\"sk-text-repr-fallback\"><pre>MultinomialNB(alpha=0.1)</pre><b>In a Jupyter environment, please rerun this cell to show the HTML representation or trust the notebook. <br />On GitHub, the HTML representation is unable to render, please try loading this page with nbviewer.org.</b></div><div class=\"sk-container\" hidden><div class=\"sk-item\"><div class=\"sk-estimator sk-toggleable\"><input class=\"sk-toggleable__control sk-hidden--visually\" id=\"sk-estimator-id-4\" type=\"checkbox\" checked><label for=\"sk-estimator-id-4\" class=\"sk-toggleable__label sk-toggleable__label-arrow\">MultinomialNB</label><div class=\"sk-toggleable__content\"><pre>MultinomialNB(alpha=0.1)</pre></div></div></div></div></div>"
      ],
      "text/plain": [
       "MultinomialNB(alpha=0.1)"
      ]
     },
     "execution_count": 76,
     "metadata": {},
     "output_type": "execute_result"
    }
   ],
   "source": [
    "mnb2.fit(X_train3,y_train)"
   ]
  },
  {
   "cell_type": "code",
   "execution_count": 77,
   "id": "74a348fe",
   "metadata": {},
   "outputs": [],
   "source": [
    "y_pred2=mnb2.predict(X_test3)"
   ]
  },
  {
   "cell_type": "code",
   "execution_count": 78,
   "id": "52f3f3e9",
   "metadata": {},
   "outputs": [
    {
     "data": {
      "text/plain": [
       "0.9332080693691521"
      ]
     },
     "execution_count": 78,
     "metadata": {},
     "output_type": "execute_result"
    }
   ],
   "source": [
    "roc_auc_score(y_test,y_pred2)"
   ]
  },
  {
   "cell_type": "code",
   "execution_count": 79,
   "id": "51d3b3ed",
   "metadata": {},
   "outputs": [
    {
     "data": {
      "text/html": [
       "<div>\n",
       "<style scoped>\n",
       "    .dataframe tbody tr th:only-of-type {\n",
       "        vertical-align: middle;\n",
       "    }\n",
       "\n",
       "    .dataframe tbody tr th {\n",
       "        vertical-align: top;\n",
       "    }\n",
       "\n",
       "    .dataframe thead th {\n",
       "        text-align: right;\n",
       "    }\n",
       "</style>\n",
       "<table border=\"1\" class=\"dataframe\">\n",
       "  <thead>\n",
       "    <tr style=\"text-align: right;\">\n",
       "      <th></th>\n",
       "      <th>text</th>\n",
       "      <th>target</th>\n",
       "    </tr>\n",
       "  </thead>\n",
       "  <tbody>\n",
       "    <tr>\n",
       "      <th>0</th>\n",
       "      <td>Go until jurong point, crazy.. Available only ...</td>\n",
       "      <td>0</td>\n",
       "    </tr>\n",
       "    <tr>\n",
       "      <th>1</th>\n",
       "      <td>Ok lar... Joking wif u oni...</td>\n",
       "      <td>0</td>\n",
       "    </tr>\n",
       "    <tr>\n",
       "      <th>2</th>\n",
       "      <td>Free entry in 2 a wkly comp to win FA Cup fina...</td>\n",
       "      <td>1</td>\n",
       "    </tr>\n",
       "    <tr>\n",
       "      <th>3</th>\n",
       "      <td>U dun say so early hor... U c already then say...</td>\n",
       "      <td>0</td>\n",
       "    </tr>\n",
       "    <tr>\n",
       "      <th>4</th>\n",
       "      <td>Nah I don't think he goes to usf, he lives aro...</td>\n",
       "      <td>0</td>\n",
       "    </tr>\n",
       "    <tr>\n",
       "      <th>...</th>\n",
       "      <td>...</td>\n",
       "      <td>...</td>\n",
       "    </tr>\n",
       "    <tr>\n",
       "      <th>5567</th>\n",
       "      <td>This is the 2nd time we have tried 2 contact u...</td>\n",
       "      <td>1</td>\n",
       "    </tr>\n",
       "    <tr>\n",
       "      <th>5568</th>\n",
       "      <td>Will Ì_ b going to esplanade fr home?</td>\n",
       "      <td>0</td>\n",
       "    </tr>\n",
       "    <tr>\n",
       "      <th>5569</th>\n",
       "      <td>Pity, * was in mood for that. So...any other s...</td>\n",
       "      <td>0</td>\n",
       "    </tr>\n",
       "    <tr>\n",
       "      <th>5570</th>\n",
       "      <td>The guy did some bitching but I acted like i'd...</td>\n",
       "      <td>0</td>\n",
       "    </tr>\n",
       "    <tr>\n",
       "      <th>5571</th>\n",
       "      <td>Rofl. Its true to its name</td>\n",
       "      <td>0</td>\n",
       "    </tr>\n",
       "  </tbody>\n",
       "</table>\n",
       "<p>5572 rows × 2 columns</p>\n",
       "</div>"
      ],
      "text/plain": [
       "                                                   text  target\n",
       "0     Go until jurong point, crazy.. Available only ...       0\n",
       "1                         Ok lar... Joking wif u oni...       0\n",
       "2     Free entry in 2 a wkly comp to win FA Cup fina...       1\n",
       "3     U dun say so early hor... U c already then say...       0\n",
       "4     Nah I don't think he goes to usf, he lives aro...       0\n",
       "...                                                 ...     ...\n",
       "5567  This is the 2nd time we have tried 2 contact u...       1\n",
       "5568              Will Ì_ b going to esplanade fr home?       0\n",
       "5569  Pity, * was in mood for that. So...any other s...       0\n",
       "5570  The guy did some bitching but I acted like i'd...       0\n",
       "5571                         Rofl. Its true to its name       0\n",
       "\n",
       "[5572 rows x 2 columns]"
      ]
     },
     "execution_count": 79,
     "metadata": {},
     "output_type": "execute_result"
    }
   ],
   "source": [
    "df"
   ]
  },
  {
   "cell_type": "code",
   "execution_count": 80,
   "id": "0c4375b6",
   "metadata": {},
   "outputs": [],
   "source": [
    "spam=df[df['target']==1]"
   ]
  },
  {
   "cell_type": "code",
   "execution_count": 81,
   "id": "47f58afd",
   "metadata": {},
   "outputs": [
    {
     "data": {
      "text/plain": [
       "747"
      ]
     },
     "execution_count": 81,
     "metadata": {},
     "output_type": "execute_result"
    }
   ],
   "source": [
    "len(spam)"
   ]
  },
  {
   "cell_type": "code",
   "execution_count": 84,
   "id": "3c0babda",
   "metadata": {},
   "outputs": [
    {
     "name": "stderr",
     "output_type": "stream",
     "text": [
      "C:\\Users\\ASUS\\AppData\\Local\\Temp\\ipykernel_25164\\4071202893.py:2: SettingWithCopyWarning: \n",
      "A value is trying to be set on a copy of a slice from a DataFrame.\n",
      "Try using .loc[row_indexer,col_indexer] = value instead\n",
      "\n",
      "See the caveats in the documentation: https://pandas.pydata.org/pandas-docs/stable/user_guide/indexing.html#returning-a-view-versus-a-copy\n",
      "  spam['len']=spam['text'].apply(lambda x : len(word_tokenize(x)))\n"
     ]
    }
   ],
   "source": [
    "from nltk.tokenize import word_tokenize\n",
    "spam['len']=spam['text'].apply(lambda x : len(word_tokenize(x)))"
   ]
  },
  {
   "cell_type": "code",
   "execution_count": 85,
   "id": "1f8ba7b5",
   "metadata": {},
   "outputs": [
    {
     "data": {
      "text/html": [
       "<div>\n",
       "<style scoped>\n",
       "    .dataframe tbody tr th:only-of-type {\n",
       "        vertical-align: middle;\n",
       "    }\n",
       "\n",
       "    .dataframe tbody tr th {\n",
       "        vertical-align: top;\n",
       "    }\n",
       "\n",
       "    .dataframe thead th {\n",
       "        text-align: right;\n",
       "    }\n",
       "</style>\n",
       "<table border=\"1\" class=\"dataframe\">\n",
       "  <thead>\n",
       "    <tr style=\"text-align: right;\">\n",
       "      <th></th>\n",
       "      <th>text</th>\n",
       "      <th>target</th>\n",
       "      <th>len</th>\n",
       "    </tr>\n",
       "  </thead>\n",
       "  <tbody>\n",
       "    <tr>\n",
       "      <th>2</th>\n",
       "      <td>Free entry in 2 a wkly comp to win FA Cup fina...</td>\n",
       "      <td>1</td>\n",
       "      <td>37</td>\n",
       "    </tr>\n",
       "    <tr>\n",
       "      <th>5</th>\n",
       "      <td>FreeMsg Hey there darling it's been 3 week's n...</td>\n",
       "      <td>1</td>\n",
       "      <td>39</td>\n",
       "    </tr>\n",
       "    <tr>\n",
       "      <th>8</th>\n",
       "      <td>WINNER!! As a valued network customer you have...</td>\n",
       "      <td>1</td>\n",
       "      <td>32</td>\n",
       "    </tr>\n",
       "    <tr>\n",
       "      <th>9</th>\n",
       "      <td>Had your mobile 11 months or more? U R entitle...</td>\n",
       "      <td>1</td>\n",
       "      <td>31</td>\n",
       "    </tr>\n",
       "    <tr>\n",
       "      <th>11</th>\n",
       "      <td>SIX chances to win CASH! From 100 to 20,000 po...</td>\n",
       "      <td>1</td>\n",
       "      <td>31</td>\n",
       "    </tr>\n",
       "    <tr>\n",
       "      <th>...</th>\n",
       "      <td>...</td>\n",
       "      <td>...</td>\n",
       "      <td>...</td>\n",
       "    </tr>\n",
       "    <tr>\n",
       "      <th>5537</th>\n",
       "      <td>Want explicit SEX in 30 secs? Ring 02073162414...</td>\n",
       "      <td>1</td>\n",
       "      <td>18</td>\n",
       "    </tr>\n",
       "    <tr>\n",
       "      <th>5540</th>\n",
       "      <td>ASKED 3MOBILE IF 0870 CHATLINES INCLU IN FREE ...</td>\n",
       "      <td>1</td>\n",
       "      <td>38</td>\n",
       "    </tr>\n",
       "    <tr>\n",
       "      <th>5547</th>\n",
       "      <td>Had your contract mobile 11 Mnths? Latest Moto...</td>\n",
       "      <td>1</td>\n",
       "      <td>35</td>\n",
       "    </tr>\n",
       "    <tr>\n",
       "      <th>5566</th>\n",
       "      <td>REMINDER FROM O2: To get 2.50 pounds free call...</td>\n",
       "      <td>1</td>\n",
       "      <td>30</td>\n",
       "    </tr>\n",
       "    <tr>\n",
       "      <th>5567</th>\n",
       "      <td>This is the 2nd time we have tried 2 contact u...</td>\n",
       "      <td>1</td>\n",
       "      <td>35</td>\n",
       "    </tr>\n",
       "  </tbody>\n",
       "</table>\n",
       "<p>747 rows × 3 columns</p>\n",
       "</div>"
      ],
      "text/plain": [
       "                                                   text  target  len\n",
       "2     Free entry in 2 a wkly comp to win FA Cup fina...       1   37\n",
       "5     FreeMsg Hey there darling it's been 3 week's n...       1   39\n",
       "8     WINNER!! As a valued network customer you have...       1   32\n",
       "9     Had your mobile 11 months or more? U R entitle...       1   31\n",
       "11    SIX chances to win CASH! From 100 to 20,000 po...       1   31\n",
       "...                                                 ...     ...  ...\n",
       "5537  Want explicit SEX in 30 secs? Ring 02073162414...       1   18\n",
       "5540  ASKED 3MOBILE IF 0870 CHATLINES INCLU IN FREE ...       1   38\n",
       "5547  Had your contract mobile 11 Mnths? Latest Moto...       1   35\n",
       "5566  REMINDER FROM O2: To get 2.50 pounds free call...       1   30\n",
       "5567  This is the 2nd time we have tried 2 contact u...       1   35\n",
       "\n",
       "[747 rows x 3 columns]"
      ]
     },
     "execution_count": 85,
     "metadata": {},
     "output_type": "execute_result"
    }
   ],
   "source": [
    "spam"
   ]
  },
  {
   "cell_type": "code",
   "execution_count": 86,
   "id": "bb691562",
   "metadata": {},
   "outputs": [
    {
     "data": {
      "text/plain": [
       "20835"
      ]
     },
     "execution_count": 86,
     "metadata": {},
     "output_type": "execute_result"
    }
   ],
   "source": [
    "spam['len'].sum()"
   ]
  },
  {
   "cell_type": "code",
   "execution_count": 87,
   "id": "e0e35cae",
   "metadata": {},
   "outputs": [],
   "source": [
    "df['len']=df['text'].apply(lambda x: len(word_tokenize(x)))"
   ]
  },
  {
   "cell_type": "code",
   "execution_count": 88,
   "id": "2717db4c",
   "metadata": {},
   "outputs": [
    {
     "data": {
      "text/html": [
       "<div>\n",
       "<style scoped>\n",
       "    .dataframe tbody tr th:only-of-type {\n",
       "        vertical-align: middle;\n",
       "    }\n",
       "\n",
       "    .dataframe tbody tr th {\n",
       "        vertical-align: top;\n",
       "    }\n",
       "\n",
       "    .dataframe thead th {\n",
       "        text-align: right;\n",
       "    }\n",
       "</style>\n",
       "<table border=\"1\" class=\"dataframe\">\n",
       "  <thead>\n",
       "    <tr style=\"text-align: right;\">\n",
       "      <th></th>\n",
       "      <th>text</th>\n",
       "      <th>target</th>\n",
       "      <th>len</th>\n",
       "    </tr>\n",
       "  </thead>\n",
       "  <tbody>\n",
       "    <tr>\n",
       "      <th>0</th>\n",
       "      <td>Go until jurong point, crazy.. Available only ...</td>\n",
       "      <td>0</td>\n",
       "      <td>24</td>\n",
       "    </tr>\n",
       "    <tr>\n",
       "      <th>1</th>\n",
       "      <td>Ok lar... Joking wif u oni...</td>\n",
       "      <td>0</td>\n",
       "      <td>8</td>\n",
       "    </tr>\n",
       "    <tr>\n",
       "      <th>2</th>\n",
       "      <td>Free entry in 2 a wkly comp to win FA Cup fina...</td>\n",
       "      <td>1</td>\n",
       "      <td>37</td>\n",
       "    </tr>\n",
       "    <tr>\n",
       "      <th>3</th>\n",
       "      <td>U dun say so early hor... U c already then say...</td>\n",
       "      <td>0</td>\n",
       "      <td>13</td>\n",
       "    </tr>\n",
       "    <tr>\n",
       "      <th>4</th>\n",
       "      <td>Nah I don't think he goes to usf, he lives aro...</td>\n",
       "      <td>0</td>\n",
       "      <td>15</td>\n",
       "    </tr>\n",
       "    <tr>\n",
       "      <th>...</th>\n",
       "      <td>...</td>\n",
       "      <td>...</td>\n",
       "      <td>...</td>\n",
       "    </tr>\n",
       "    <tr>\n",
       "      <th>5567</th>\n",
       "      <td>This is the 2nd time we have tried 2 contact u...</td>\n",
       "      <td>1</td>\n",
       "      <td>35</td>\n",
       "    </tr>\n",
       "    <tr>\n",
       "      <th>5568</th>\n",
       "      <td>Will Ì_ b going to esplanade fr home?</td>\n",
       "      <td>0</td>\n",
       "      <td>9</td>\n",
       "    </tr>\n",
       "    <tr>\n",
       "      <th>5569</th>\n",
       "      <td>Pity, * was in mood for that. So...any other s...</td>\n",
       "      <td>0</td>\n",
       "      <td>15</td>\n",
       "    </tr>\n",
       "    <tr>\n",
       "      <th>5570</th>\n",
       "      <td>The guy did some bitching but I acted like i'd...</td>\n",
       "      <td>0</td>\n",
       "      <td>27</td>\n",
       "    </tr>\n",
       "    <tr>\n",
       "      <th>5571</th>\n",
       "      <td>Rofl. Its true to its name</td>\n",
       "      <td>0</td>\n",
       "      <td>7</td>\n",
       "    </tr>\n",
       "  </tbody>\n",
       "</table>\n",
       "<p>5572 rows × 3 columns</p>\n",
       "</div>"
      ],
      "text/plain": [
       "                                                   text  target  len\n",
       "0     Go until jurong point, crazy.. Available only ...       0   24\n",
       "1                         Ok lar... Joking wif u oni...       0    8\n",
       "2     Free entry in 2 a wkly comp to win FA Cup fina...       1   37\n",
       "3     U dun say so early hor... U c already then say...       0   13\n",
       "4     Nah I don't think he goes to usf, he lives aro...       0   15\n",
       "...                                                 ...     ...  ...\n",
       "5567  This is the 2nd time we have tried 2 contact u...       1   35\n",
       "5568              Will Ì_ b going to esplanade fr home?       0    9\n",
       "5569  Pity, * was in mood for that. So...any other s...       0   15\n",
       "5570  The guy did some bitching but I acted like i'd...       0   27\n",
       "5571                         Rofl. Its true to its name       0    7\n",
       "\n",
       "[5572 rows x 3 columns]"
      ]
     },
     "execution_count": 88,
     "metadata": {},
     "output_type": "execute_result"
    }
   ],
   "source": [
    "df"
   ]
  },
  {
   "cell_type": "code",
   "execution_count": 89,
   "id": "427a8317",
   "metadata": {},
   "outputs": [],
   "source": [
    "len_spam=df[df['target']==1]['len'].sum()"
   ]
  },
  {
   "cell_type": "code",
   "execution_count": 90,
   "id": "45c3ed1c",
   "metadata": {},
   "outputs": [
    {
     "data": {
      "text/plain": [
       "20835"
      ]
     },
     "execution_count": 90,
     "metadata": {},
     "output_type": "execute_result"
    }
   ],
   "source": [
    "len_spam"
   ]
  },
  {
   "cell_type": "code",
   "execution_count": 91,
   "id": "3c1e5b15",
   "metadata": {},
   "outputs": [],
   "source": [
    "len_ham=df[df['target']==0]['len'].sum()"
   ]
  },
  {
   "cell_type": "code",
   "execution_count": 92,
   "id": "2ef7cb1c",
   "metadata": {},
   "outputs": [
    {
     "data": {
      "text/plain": [
       "83337"
      ]
     },
     "execution_count": 92,
     "metadata": {},
     "output_type": "execute_result"
    }
   ],
   "source": [
    "len_ham"
   ]
  },
  {
   "cell_type": "code",
   "execution_count": 93,
   "id": "e61ed200",
   "metadata": {},
   "outputs": [],
   "source": [
    "avg_spam=len_spam/len(df[df['target']==1])"
   ]
  },
  {
   "cell_type": "code",
   "execution_count": 94,
   "id": "5b5c29a7",
   "metadata": {},
   "outputs": [],
   "source": [
    "avg_ham=len_ham/len(df[df['target']==0])"
   ]
  },
  {
   "cell_type": "code",
   "execution_count": 96,
   "id": "05b7058d",
   "metadata": {},
   "outputs": [
    {
     "data": {
      "text/plain": [
       "27.89156626506024"
      ]
     },
     "execution_count": 96,
     "metadata": {},
     "output_type": "execute_result"
    }
   ],
   "source": [
    "avg_spam"
   ]
  },
  {
   "cell_type": "code",
   "execution_count": 97,
   "id": "9cde191b",
   "metadata": {},
   "outputs": [
    {
     "data": {
      "text/plain": [
       "17.271917098445595"
      ]
     },
     "execution_count": 97,
     "metadata": {},
     "output_type": "execute_result"
    }
   ],
   "source": [
    "avg_ham"
   ]
  },
  {
   "cell_type": "code",
   "execution_count": 98,
   "id": "cd39b359",
   "metadata": {},
   "outputs": [],
   "source": [
    "t3=TfidfVectorizer(min_df=5)"
   ]
  },
  {
   "cell_type": "code",
   "execution_count": 101,
   "id": "fac800c1",
   "metadata": {},
   "outputs": [],
   "source": [
    "X_t,X_te,y_T,y_te=train_test_split(df.drop(columns=['len','target']),df['target'],test_size=0.2,random_state=0)"
   ]
  },
  {
   "cell_type": "code",
   "execution_count": 103,
   "id": "0853f6c1",
   "metadata": {},
   "outputs": [
    {
     "data": {
      "text/html": [
       "<style>#sk-container-id-5 {color: black;background-color: white;}#sk-container-id-5 pre{padding: 0;}#sk-container-id-5 div.sk-toggleable {background-color: white;}#sk-container-id-5 label.sk-toggleable__label {cursor: pointer;display: block;width: 100%;margin-bottom: 0;padding: 0.3em;box-sizing: border-box;text-align: center;}#sk-container-id-5 label.sk-toggleable__label-arrow:before {content: \"▸\";float: left;margin-right: 0.25em;color: #696969;}#sk-container-id-5 label.sk-toggleable__label-arrow:hover:before {color: black;}#sk-container-id-5 div.sk-estimator:hover label.sk-toggleable__label-arrow:before {color: black;}#sk-container-id-5 div.sk-toggleable__content {max-height: 0;max-width: 0;overflow: hidden;text-align: left;background-color: #f0f8ff;}#sk-container-id-5 div.sk-toggleable__content pre {margin: 0.2em;color: black;border-radius: 0.25em;background-color: #f0f8ff;}#sk-container-id-5 input.sk-toggleable__control:checked~div.sk-toggleable__content {max-height: 200px;max-width: 100%;overflow: auto;}#sk-container-id-5 input.sk-toggleable__control:checked~label.sk-toggleable__label-arrow:before {content: \"▾\";}#sk-container-id-5 div.sk-estimator input.sk-toggleable__control:checked~label.sk-toggleable__label {background-color: #d4ebff;}#sk-container-id-5 div.sk-label input.sk-toggleable__control:checked~label.sk-toggleable__label {background-color: #d4ebff;}#sk-container-id-5 input.sk-hidden--visually {border: 0;clip: rect(1px 1px 1px 1px);clip: rect(1px, 1px, 1px, 1px);height: 1px;margin: -1px;overflow: hidden;padding: 0;position: absolute;width: 1px;}#sk-container-id-5 div.sk-estimator {font-family: monospace;background-color: #f0f8ff;border: 1px dotted black;border-radius: 0.25em;box-sizing: border-box;margin-bottom: 0.5em;}#sk-container-id-5 div.sk-estimator:hover {background-color: #d4ebff;}#sk-container-id-5 div.sk-parallel-item::after {content: \"\";width: 100%;border-bottom: 1px solid gray;flex-grow: 1;}#sk-container-id-5 div.sk-label:hover label.sk-toggleable__label {background-color: #d4ebff;}#sk-container-id-5 div.sk-serial::before {content: \"\";position: absolute;border-left: 1px solid gray;box-sizing: border-box;top: 0;bottom: 0;left: 50%;z-index: 0;}#sk-container-id-5 div.sk-serial {display: flex;flex-direction: column;align-items: center;background-color: white;padding-right: 0.2em;padding-left: 0.2em;position: relative;}#sk-container-id-5 div.sk-item {position: relative;z-index: 1;}#sk-container-id-5 div.sk-parallel {display: flex;align-items: stretch;justify-content: center;background-color: white;position: relative;}#sk-container-id-5 div.sk-item::before, #sk-container-id-5 div.sk-parallel-item::before {content: \"\";position: absolute;border-left: 1px solid gray;box-sizing: border-box;top: 0;bottom: 0;left: 50%;z-index: -1;}#sk-container-id-5 div.sk-parallel-item {display: flex;flex-direction: column;z-index: 1;position: relative;background-color: white;}#sk-container-id-5 div.sk-parallel-item:first-child::after {align-self: flex-end;width: 50%;}#sk-container-id-5 div.sk-parallel-item:last-child::after {align-self: flex-start;width: 50%;}#sk-container-id-5 div.sk-parallel-item:only-child::after {width: 0;}#sk-container-id-5 div.sk-dashed-wrapped {border: 1px dashed gray;margin: 0 0.4em 0.5em 0.4em;box-sizing: border-box;padding-bottom: 0.4em;background-color: white;}#sk-container-id-5 div.sk-label label {font-family: monospace;font-weight: bold;display: inline-block;line-height: 1.2em;}#sk-container-id-5 div.sk-label-container {text-align: center;}#sk-container-id-5 div.sk-container {/* jupyter's `normalize.less` sets `[hidden] { display: none; }` but bootstrap.min.css set `[hidden] { display: none !important; }` so we also need the `!important` here to be able to override the default hidden behavior on the sphinx rendered scikit-learn.org. See: https://github.com/scikit-learn/scikit-learn/issues/21755 */display: inline-block !important;position: relative;}#sk-container-id-5 div.sk-text-repr-fallback {display: none;}</style><div id=\"sk-container-id-5\" class=\"sk-top-container\"><div class=\"sk-text-repr-fallback\"><pre>TfidfVectorizer(min_df=5)</pre><b>In a Jupyter environment, please rerun this cell to show the HTML representation or trust the notebook. <br />On GitHub, the HTML representation is unable to render, please try loading this page with nbviewer.org.</b></div><div class=\"sk-container\" hidden><div class=\"sk-item\"><div class=\"sk-estimator sk-toggleable\"><input class=\"sk-toggleable__control sk-hidden--visually\" id=\"sk-estimator-id-5\" type=\"checkbox\" checked><label for=\"sk-estimator-id-5\" class=\"sk-toggleable__label sk-toggleable__label-arrow\">TfidfVectorizer</label><div class=\"sk-toggleable__content\"><pre>TfidfVectorizer(min_df=5)</pre></div></div></div></div></div>"
      ],
      "text/plain": [
       "TfidfVectorizer(min_df=5)"
      ]
     },
     "execution_count": 103,
     "metadata": {},
     "output_type": "execute_result"
    }
   ],
   "source": [
    "t3"
   ]
  },
  {
   "cell_type": "code",
   "execution_count": 104,
   "id": "92617eff",
   "metadata": {},
   "outputs": [
    {
     "data": {
      "text/html": [
       "<div>\n",
       "<style scoped>\n",
       "    .dataframe tbody tr th:only-of-type {\n",
       "        vertical-align: middle;\n",
       "    }\n",
       "\n",
       "    .dataframe tbody tr th {\n",
       "        vertical-align: top;\n",
       "    }\n",
       "\n",
       "    .dataframe thead th {\n",
       "        text-align: right;\n",
       "    }\n",
       "</style>\n",
       "<table border=\"1\" class=\"dataframe\">\n",
       "  <thead>\n",
       "    <tr style=\"text-align: right;\">\n",
       "      <th></th>\n",
       "      <th>text</th>\n",
       "    </tr>\n",
       "  </thead>\n",
       "  <tbody>\n",
       "    <tr>\n",
       "      <th>1114</th>\n",
       "      <td>No no:)this is kallis home ground.amla home to...</td>\n",
       "    </tr>\n",
       "    <tr>\n",
       "      <th>3589</th>\n",
       "      <td>I am in escape theatre now. . Going to watch K...</td>\n",
       "    </tr>\n",
       "    <tr>\n",
       "      <th>3095</th>\n",
       "      <td>We walked from my moms. Right on stagwood pass...</td>\n",
       "    </tr>\n",
       "    <tr>\n",
       "      <th>1012</th>\n",
       "      <td>I dunno they close oredi not... ÌÏ v ma fan...</td>\n",
       "    </tr>\n",
       "    <tr>\n",
       "      <th>3320</th>\n",
       "      <td>Yo im right by yo work</td>\n",
       "    </tr>\n",
       "    <tr>\n",
       "      <th>...</th>\n",
       "      <td>...</td>\n",
       "    </tr>\n",
       "    <tr>\n",
       "      <th>4931</th>\n",
       "      <td>Match started.india  &amp;lt;#&amp;gt;  for 2</td>\n",
       "    </tr>\n",
       "    <tr>\n",
       "      <th>3264</th>\n",
       "      <td>44 7732584351, Do you want a New Nokia 3510i c...</td>\n",
       "    </tr>\n",
       "    <tr>\n",
       "      <th>1653</th>\n",
       "      <td>I was at bugis juz now wat... But now i'm walk...</td>\n",
       "    </tr>\n",
       "    <tr>\n",
       "      <th>2607</th>\n",
       "      <td>:-) yeah! Lol. Luckily i didn't have a starrin...</td>\n",
       "    </tr>\n",
       "    <tr>\n",
       "      <th>2732</th>\n",
       "      <td>How dare you stupid. I wont tell anything to y...</td>\n",
       "    </tr>\n",
       "  </tbody>\n",
       "</table>\n",
       "<p>4457 rows × 1 columns</p>\n",
       "</div>"
      ],
      "text/plain": [
       "                                                   text\n",
       "1114  No no:)this is kallis home ground.amla home to...\n",
       "3589  I am in escape theatre now. . Going to watch K...\n",
       "3095  We walked from my moms. Right on stagwood pass...\n",
       "1012     I dunno they close oredi not... ÌÏ v ma fan...\n",
       "3320                             Yo im right by yo work\n",
       "...                                                 ...\n",
       "4931              Match started.india  &lt;#&gt;  for 2\n",
       "3264  44 7732584351, Do you want a New Nokia 3510i c...\n",
       "1653  I was at bugis juz now wat... But now i'm walk...\n",
       "2607  :-) yeah! Lol. Luckily i didn't have a starrin...\n",
       "2732  How dare you stupid. I wont tell anything to y...\n",
       "\n",
       "[4457 rows x 1 columns]"
      ]
     },
     "execution_count": 104,
     "metadata": {},
     "output_type": "execute_result"
    }
   ],
   "source": [
    "X_t"
   ]
  },
  {
   "cell_type": "code",
   "execution_count": 105,
   "id": "91a602da",
   "metadata": {},
   "outputs": [],
   "source": [
    "X_t=t3.fit_transform(X_train)"
   ]
  },
  {
   "cell_type": "code",
   "execution_count": 106,
   "id": "f7bd50fc",
   "metadata": {},
   "outputs": [],
   "source": [
    "X_te=t3.transform(X_test)"
   ]
  },
  {
   "cell_type": "code",
   "execution_count": 108,
   "id": "b20e88ef",
   "metadata": {},
   "outputs": [],
   "source": [
    "from sklearn.svm import SVC"
   ]
  },
  {
   "cell_type": "code",
   "execution_count": 109,
   "id": "d0cd1fe7",
   "metadata": {},
   "outputs": [],
   "source": [
    "s=SVC(C=10000)"
   ]
  },
  {
   "cell_type": "code",
   "execution_count": 110,
   "id": "3242f0d8",
   "metadata": {},
   "outputs": [
    {
     "data": {
      "text/html": [
       "<style>#sk-container-id-6 {color: black;background-color: white;}#sk-container-id-6 pre{padding: 0;}#sk-container-id-6 div.sk-toggleable {background-color: white;}#sk-container-id-6 label.sk-toggleable__label {cursor: pointer;display: block;width: 100%;margin-bottom: 0;padding: 0.3em;box-sizing: border-box;text-align: center;}#sk-container-id-6 label.sk-toggleable__label-arrow:before {content: \"▸\";float: left;margin-right: 0.25em;color: #696969;}#sk-container-id-6 label.sk-toggleable__label-arrow:hover:before {color: black;}#sk-container-id-6 div.sk-estimator:hover label.sk-toggleable__label-arrow:before {color: black;}#sk-container-id-6 div.sk-toggleable__content {max-height: 0;max-width: 0;overflow: hidden;text-align: left;background-color: #f0f8ff;}#sk-container-id-6 div.sk-toggleable__content pre {margin: 0.2em;color: black;border-radius: 0.25em;background-color: #f0f8ff;}#sk-container-id-6 input.sk-toggleable__control:checked~div.sk-toggleable__content {max-height: 200px;max-width: 100%;overflow: auto;}#sk-container-id-6 input.sk-toggleable__control:checked~label.sk-toggleable__label-arrow:before {content: \"▾\";}#sk-container-id-6 div.sk-estimator input.sk-toggleable__control:checked~label.sk-toggleable__label {background-color: #d4ebff;}#sk-container-id-6 div.sk-label input.sk-toggleable__control:checked~label.sk-toggleable__label {background-color: #d4ebff;}#sk-container-id-6 input.sk-hidden--visually {border: 0;clip: rect(1px 1px 1px 1px);clip: rect(1px, 1px, 1px, 1px);height: 1px;margin: -1px;overflow: hidden;padding: 0;position: absolute;width: 1px;}#sk-container-id-6 div.sk-estimator {font-family: monospace;background-color: #f0f8ff;border: 1px dotted black;border-radius: 0.25em;box-sizing: border-box;margin-bottom: 0.5em;}#sk-container-id-6 div.sk-estimator:hover {background-color: #d4ebff;}#sk-container-id-6 div.sk-parallel-item::after {content: \"\";width: 100%;border-bottom: 1px solid gray;flex-grow: 1;}#sk-container-id-6 div.sk-label:hover label.sk-toggleable__label {background-color: #d4ebff;}#sk-container-id-6 div.sk-serial::before {content: \"\";position: absolute;border-left: 1px solid gray;box-sizing: border-box;top: 0;bottom: 0;left: 50%;z-index: 0;}#sk-container-id-6 div.sk-serial {display: flex;flex-direction: column;align-items: center;background-color: white;padding-right: 0.2em;padding-left: 0.2em;position: relative;}#sk-container-id-6 div.sk-item {position: relative;z-index: 1;}#sk-container-id-6 div.sk-parallel {display: flex;align-items: stretch;justify-content: center;background-color: white;position: relative;}#sk-container-id-6 div.sk-item::before, #sk-container-id-6 div.sk-parallel-item::before {content: \"\";position: absolute;border-left: 1px solid gray;box-sizing: border-box;top: 0;bottom: 0;left: 50%;z-index: -1;}#sk-container-id-6 div.sk-parallel-item {display: flex;flex-direction: column;z-index: 1;position: relative;background-color: white;}#sk-container-id-6 div.sk-parallel-item:first-child::after {align-self: flex-end;width: 50%;}#sk-container-id-6 div.sk-parallel-item:last-child::after {align-self: flex-start;width: 50%;}#sk-container-id-6 div.sk-parallel-item:only-child::after {width: 0;}#sk-container-id-6 div.sk-dashed-wrapped {border: 1px dashed gray;margin: 0 0.4em 0.5em 0.4em;box-sizing: border-box;padding-bottom: 0.4em;background-color: white;}#sk-container-id-6 div.sk-label label {font-family: monospace;font-weight: bold;display: inline-block;line-height: 1.2em;}#sk-container-id-6 div.sk-label-container {text-align: center;}#sk-container-id-6 div.sk-container {/* jupyter's `normalize.less` sets `[hidden] { display: none; }` but bootstrap.min.css set `[hidden] { display: none !important; }` so we also need the `!important` here to be able to override the default hidden behavior on the sphinx rendered scikit-learn.org. See: https://github.com/scikit-learn/scikit-learn/issues/21755 */display: inline-block !important;position: relative;}#sk-container-id-6 div.sk-text-repr-fallback {display: none;}</style><div id=\"sk-container-id-6\" class=\"sk-top-container\"><div class=\"sk-text-repr-fallback\"><pre>SVC(C=10000)</pre><b>In a Jupyter environment, please rerun this cell to show the HTML representation or trust the notebook. <br />On GitHub, the HTML representation is unable to render, please try loading this page with nbviewer.org.</b></div><div class=\"sk-container\" hidden><div class=\"sk-item\"><div class=\"sk-estimator sk-toggleable\"><input class=\"sk-toggleable__control sk-hidden--visually\" id=\"sk-estimator-id-6\" type=\"checkbox\" checked><label for=\"sk-estimator-id-6\" class=\"sk-toggleable__label sk-toggleable__label-arrow\">SVC</label><div class=\"sk-toggleable__content\"><pre>SVC(C=10000)</pre></div></div></div></div></div>"
      ],
      "text/plain": [
       "SVC(C=10000)"
      ]
     },
     "execution_count": 110,
     "metadata": {},
     "output_type": "execute_result"
    }
   ],
   "source": [
    "s"
   ]
  },
  {
   "cell_type": "code",
   "execution_count": 112,
   "id": "8e61678c",
   "metadata": {},
   "outputs": [],
   "source": [
    "def add_feature(X,new):\n",
    "    from scipy.sparse import csr_matrix, hstack\n",
    "    return hstack([X, csr_matrix(feature_to_add).T], 'csr')"
   ]
  },
  {
   "cell_type": "code",
   "execution_count": 115,
   "id": "833c4b65",
   "metadata": {},
   "outputs": [
    {
     "data": {
      "text/html": [
       "<style>#sk-container-id-7 {color: black;background-color: white;}#sk-container-id-7 pre{padding: 0;}#sk-container-id-7 div.sk-toggleable {background-color: white;}#sk-container-id-7 label.sk-toggleable__label {cursor: pointer;display: block;width: 100%;margin-bottom: 0;padding: 0.3em;box-sizing: border-box;text-align: center;}#sk-container-id-7 label.sk-toggleable__label-arrow:before {content: \"▸\";float: left;margin-right: 0.25em;color: #696969;}#sk-container-id-7 label.sk-toggleable__label-arrow:hover:before {color: black;}#sk-container-id-7 div.sk-estimator:hover label.sk-toggleable__label-arrow:before {color: black;}#sk-container-id-7 div.sk-toggleable__content {max-height: 0;max-width: 0;overflow: hidden;text-align: left;background-color: #f0f8ff;}#sk-container-id-7 div.sk-toggleable__content pre {margin: 0.2em;color: black;border-radius: 0.25em;background-color: #f0f8ff;}#sk-container-id-7 input.sk-toggleable__control:checked~div.sk-toggleable__content {max-height: 200px;max-width: 100%;overflow: auto;}#sk-container-id-7 input.sk-toggleable__control:checked~label.sk-toggleable__label-arrow:before {content: \"▾\";}#sk-container-id-7 div.sk-estimator input.sk-toggleable__control:checked~label.sk-toggleable__label {background-color: #d4ebff;}#sk-container-id-7 div.sk-label input.sk-toggleable__control:checked~label.sk-toggleable__label {background-color: #d4ebff;}#sk-container-id-7 input.sk-hidden--visually {border: 0;clip: rect(1px 1px 1px 1px);clip: rect(1px, 1px, 1px, 1px);height: 1px;margin: -1px;overflow: hidden;padding: 0;position: absolute;width: 1px;}#sk-container-id-7 div.sk-estimator {font-family: monospace;background-color: #f0f8ff;border: 1px dotted black;border-radius: 0.25em;box-sizing: border-box;margin-bottom: 0.5em;}#sk-container-id-7 div.sk-estimator:hover {background-color: #d4ebff;}#sk-container-id-7 div.sk-parallel-item::after {content: \"\";width: 100%;border-bottom: 1px solid gray;flex-grow: 1;}#sk-container-id-7 div.sk-label:hover label.sk-toggleable__label {background-color: #d4ebff;}#sk-container-id-7 div.sk-serial::before {content: \"\";position: absolute;border-left: 1px solid gray;box-sizing: border-box;top: 0;bottom: 0;left: 50%;z-index: 0;}#sk-container-id-7 div.sk-serial {display: flex;flex-direction: column;align-items: center;background-color: white;padding-right: 0.2em;padding-left: 0.2em;position: relative;}#sk-container-id-7 div.sk-item {position: relative;z-index: 1;}#sk-container-id-7 div.sk-parallel {display: flex;align-items: stretch;justify-content: center;background-color: white;position: relative;}#sk-container-id-7 div.sk-item::before, #sk-container-id-7 div.sk-parallel-item::before {content: \"\";position: absolute;border-left: 1px solid gray;box-sizing: border-box;top: 0;bottom: 0;left: 50%;z-index: -1;}#sk-container-id-7 div.sk-parallel-item {display: flex;flex-direction: column;z-index: 1;position: relative;background-color: white;}#sk-container-id-7 div.sk-parallel-item:first-child::after {align-self: flex-end;width: 50%;}#sk-container-id-7 div.sk-parallel-item:last-child::after {align-self: flex-start;width: 50%;}#sk-container-id-7 div.sk-parallel-item:only-child::after {width: 0;}#sk-container-id-7 div.sk-dashed-wrapped {border: 1px dashed gray;margin: 0 0.4em 0.5em 0.4em;box-sizing: border-box;padding-bottom: 0.4em;background-color: white;}#sk-container-id-7 div.sk-label label {font-family: monospace;font-weight: bold;display: inline-block;line-height: 1.2em;}#sk-container-id-7 div.sk-label-container {text-align: center;}#sk-container-id-7 div.sk-container {/* jupyter's `normalize.less` sets `[hidden] { display: none; }` but bootstrap.min.css set `[hidden] { display: none !important; }` so we also need the `!important` here to be able to override the default hidden behavior on the sphinx rendered scikit-learn.org. See: https://github.com/scikit-learn/scikit-learn/issues/21755 */display: inline-block !important;position: relative;}#sk-container-id-7 div.sk-text-repr-fallback {display: none;}</style><div id=\"sk-container-id-7\" class=\"sk-top-container\"><div class=\"sk-text-repr-fallback\"><pre>SVC(C=10000)</pre><b>In a Jupyter environment, please rerun this cell to show the HTML representation or trust the notebook. <br />On GitHub, the HTML representation is unable to render, please try loading this page with nbviewer.org.</b></div><div class=\"sk-container\" hidden><div class=\"sk-item\"><div class=\"sk-estimator sk-toggleable\"><input class=\"sk-toggleable__control sk-hidden--visually\" id=\"sk-estimator-id-7\" type=\"checkbox\" checked><label for=\"sk-estimator-id-7\" class=\"sk-toggleable__label sk-toggleable__label-arrow\">SVC</label><div class=\"sk-toggleable__content\"><pre>SVC(C=10000)</pre></div></div></div></div></div>"
      ],
      "text/plain": [
       "SVC(C=10000)"
      ]
     },
     "execution_count": 115,
     "metadata": {},
     "output_type": "execute_result"
    }
   ],
   "source": [
    "s.fit(X_t,y_train)"
   ]
  },
  {
   "cell_type": "code",
   "execution_count": 116,
   "id": "2af5c869",
   "metadata": {},
   "outputs": [],
   "source": [
    "y_pred3=s.predict(X_te)"
   ]
  },
  {
   "cell_type": "code",
   "execution_count": 117,
   "id": "407e28d2",
   "metadata": {},
   "outputs": [
    {
     "data": {
      "text/plain": [
       "0.9482683103330075"
      ]
     },
     "execution_count": 117,
     "metadata": {},
     "output_type": "execute_result"
    }
   ],
   "source": [
    "roc_auc_score(y_test,y_pred3\n",
    "            )"
   ]
  },
  {
   "cell_type": "code",
   "execution_count": 118,
   "id": "de7e0078",
   "metadata": {},
   "outputs": [
    {
     "data": {
      "text/html": [
       "<div>\n",
       "<style scoped>\n",
       "    .dataframe tbody tr th:only-of-type {\n",
       "        vertical-align: middle;\n",
       "    }\n",
       "\n",
       "    .dataframe tbody tr th {\n",
       "        vertical-align: top;\n",
       "    }\n",
       "\n",
       "    .dataframe thead th {\n",
       "        text-align: right;\n",
       "    }\n",
       "</style>\n",
       "<table border=\"1\" class=\"dataframe\">\n",
       "  <thead>\n",
       "    <tr style=\"text-align: right;\">\n",
       "      <th></th>\n",
       "      <th>text</th>\n",
       "      <th>target</th>\n",
       "      <th>len</th>\n",
       "    </tr>\n",
       "  </thead>\n",
       "  <tbody>\n",
       "    <tr>\n",
       "      <th>0</th>\n",
       "      <td>Go until jurong point, crazy.. Available only ...</td>\n",
       "      <td>0</td>\n",
       "      <td>24</td>\n",
       "    </tr>\n",
       "    <tr>\n",
       "      <th>1</th>\n",
       "      <td>Ok lar... Joking wif u oni...</td>\n",
       "      <td>0</td>\n",
       "      <td>8</td>\n",
       "    </tr>\n",
       "    <tr>\n",
       "      <th>2</th>\n",
       "      <td>Free entry in 2 a wkly comp to win FA Cup fina...</td>\n",
       "      <td>1</td>\n",
       "      <td>37</td>\n",
       "    </tr>\n",
       "    <tr>\n",
       "      <th>3</th>\n",
       "      <td>U dun say so early hor... U c already then say...</td>\n",
       "      <td>0</td>\n",
       "      <td>13</td>\n",
       "    </tr>\n",
       "    <tr>\n",
       "      <th>4</th>\n",
       "      <td>Nah I don't think he goes to usf, he lives aro...</td>\n",
       "      <td>0</td>\n",
       "      <td>15</td>\n",
       "    </tr>\n",
       "    <tr>\n",
       "      <th>...</th>\n",
       "      <td>...</td>\n",
       "      <td>...</td>\n",
       "      <td>...</td>\n",
       "    </tr>\n",
       "    <tr>\n",
       "      <th>5567</th>\n",
       "      <td>This is the 2nd time we have tried 2 contact u...</td>\n",
       "      <td>1</td>\n",
       "      <td>35</td>\n",
       "    </tr>\n",
       "    <tr>\n",
       "      <th>5568</th>\n",
       "      <td>Will Ì_ b going to esplanade fr home?</td>\n",
       "      <td>0</td>\n",
       "      <td>9</td>\n",
       "    </tr>\n",
       "    <tr>\n",
       "      <th>5569</th>\n",
       "      <td>Pity, * was in mood for that. So...any other s...</td>\n",
       "      <td>0</td>\n",
       "      <td>15</td>\n",
       "    </tr>\n",
       "    <tr>\n",
       "      <th>5570</th>\n",
       "      <td>The guy did some bitching but I acted like i'd...</td>\n",
       "      <td>0</td>\n",
       "      <td>27</td>\n",
       "    </tr>\n",
       "    <tr>\n",
       "      <th>5571</th>\n",
       "      <td>Rofl. Its true to its name</td>\n",
       "      <td>0</td>\n",
       "      <td>7</td>\n",
       "    </tr>\n",
       "  </tbody>\n",
       "</table>\n",
       "<p>5572 rows × 3 columns</p>\n",
       "</div>"
      ],
      "text/plain": [
       "                                                   text  target  len\n",
       "0     Go until jurong point, crazy.. Available only ...       0   24\n",
       "1                         Ok lar... Joking wif u oni...       0    8\n",
       "2     Free entry in 2 a wkly comp to win FA Cup fina...       1   37\n",
       "3     U dun say so early hor... U c already then say...       0   13\n",
       "4     Nah I don't think he goes to usf, he lives aro...       0   15\n",
       "...                                                 ...     ...  ...\n",
       "5567  This is the 2nd time we have tried 2 contact u...       1   35\n",
       "5568              Will Ì_ b going to esplanade fr home?       0    9\n",
       "5569  Pity, * was in mood for that. So...any other s...       0   15\n",
       "5570  The guy did some bitching but I acted like i'd...       0   27\n",
       "5571                         Rofl. Its true to its name       0    7\n",
       "\n",
       "[5572 rows x 3 columns]"
      ]
     },
     "execution_count": 118,
     "metadata": {},
     "output_type": "execute_result"
    }
   ],
   "source": [
    "df"
   ]
  },
  {
   "cell_type": "code",
   "execution_count": 119,
   "id": "38fb887a",
   "metadata": {},
   "outputs": [],
   "source": [
    "import re"
   ]
  },
  {
   "cell_type": "code",
   "execution_count": 120,
   "id": "131cc57d",
   "metadata": {},
   "outputs": [],
   "source": [
    "pattern=re.compile(r'\\d')"
   ]
  },
  {
   "cell_type": "code",
   "execution_count": 121,
   "id": "8721ab86",
   "metadata": {},
   "outputs": [],
   "source": [
    "df['digit']=df['text'].apply(lambda x: len(re.findall(pattern,x)))"
   ]
  },
  {
   "cell_type": "code",
   "execution_count": 122,
   "id": "fd1a8fc6",
   "metadata": {},
   "outputs": [
    {
     "data": {
      "text/html": [
       "<div>\n",
       "<style scoped>\n",
       "    .dataframe tbody tr th:only-of-type {\n",
       "        vertical-align: middle;\n",
       "    }\n",
       "\n",
       "    .dataframe tbody tr th {\n",
       "        vertical-align: top;\n",
       "    }\n",
       "\n",
       "    .dataframe thead th {\n",
       "        text-align: right;\n",
       "    }\n",
       "</style>\n",
       "<table border=\"1\" class=\"dataframe\">\n",
       "  <thead>\n",
       "    <tr style=\"text-align: right;\">\n",
       "      <th></th>\n",
       "      <th>text</th>\n",
       "      <th>target</th>\n",
       "      <th>len</th>\n",
       "      <th>digit</th>\n",
       "    </tr>\n",
       "  </thead>\n",
       "  <tbody>\n",
       "    <tr>\n",
       "      <th>0</th>\n",
       "      <td>Go until jurong point, crazy.. Available only ...</td>\n",
       "      <td>0</td>\n",
       "      <td>24</td>\n",
       "      <td>0</td>\n",
       "    </tr>\n",
       "    <tr>\n",
       "      <th>1</th>\n",
       "      <td>Ok lar... Joking wif u oni...</td>\n",
       "      <td>0</td>\n",
       "      <td>8</td>\n",
       "      <td>0</td>\n",
       "    </tr>\n",
       "    <tr>\n",
       "      <th>2</th>\n",
       "      <td>Free entry in 2 a wkly comp to win FA Cup fina...</td>\n",
       "      <td>1</td>\n",
       "      <td>37</td>\n",
       "      <td>25</td>\n",
       "    </tr>\n",
       "    <tr>\n",
       "      <th>3</th>\n",
       "      <td>U dun say so early hor... U c already then say...</td>\n",
       "      <td>0</td>\n",
       "      <td>13</td>\n",
       "      <td>0</td>\n",
       "    </tr>\n",
       "    <tr>\n",
       "      <th>4</th>\n",
       "      <td>Nah I don't think he goes to usf, he lives aro...</td>\n",
       "      <td>0</td>\n",
       "      <td>15</td>\n",
       "      <td>0</td>\n",
       "    </tr>\n",
       "    <tr>\n",
       "      <th>...</th>\n",
       "      <td>...</td>\n",
       "      <td>...</td>\n",
       "      <td>...</td>\n",
       "      <td>...</td>\n",
       "    </tr>\n",
       "    <tr>\n",
       "      <th>5567</th>\n",
       "      <td>This is the 2nd time we have tried 2 contact u...</td>\n",
       "      <td>1</td>\n",
       "      <td>35</td>\n",
       "      <td>21</td>\n",
       "    </tr>\n",
       "    <tr>\n",
       "      <th>5568</th>\n",
       "      <td>Will Ì_ b going to esplanade fr home?</td>\n",
       "      <td>0</td>\n",
       "      <td>9</td>\n",
       "      <td>0</td>\n",
       "    </tr>\n",
       "    <tr>\n",
       "      <th>5569</th>\n",
       "      <td>Pity, * was in mood for that. So...any other s...</td>\n",
       "      <td>0</td>\n",
       "      <td>15</td>\n",
       "      <td>0</td>\n",
       "    </tr>\n",
       "    <tr>\n",
       "      <th>5570</th>\n",
       "      <td>The guy did some bitching but I acted like i'd...</td>\n",
       "      <td>0</td>\n",
       "      <td>27</td>\n",
       "      <td>0</td>\n",
       "    </tr>\n",
       "    <tr>\n",
       "      <th>5571</th>\n",
       "      <td>Rofl. Its true to its name</td>\n",
       "      <td>0</td>\n",
       "      <td>7</td>\n",
       "      <td>0</td>\n",
       "    </tr>\n",
       "  </tbody>\n",
       "</table>\n",
       "<p>5572 rows × 4 columns</p>\n",
       "</div>"
      ],
      "text/plain": [
       "                                                   text  target  len  digit\n",
       "0     Go until jurong point, crazy.. Available only ...       0   24      0\n",
       "1                         Ok lar... Joking wif u oni...       0    8      0\n",
       "2     Free entry in 2 a wkly comp to win FA Cup fina...       1   37     25\n",
       "3     U dun say so early hor... U c already then say...       0   13      0\n",
       "4     Nah I don't think he goes to usf, he lives aro...       0   15      0\n",
       "...                                                 ...     ...  ...    ...\n",
       "5567  This is the 2nd time we have tried 2 contact u...       1   35     21\n",
       "5568              Will Ì_ b going to esplanade fr home?       0    9      0\n",
       "5569  Pity, * was in mood for that. So...any other s...       0   15      0\n",
       "5570  The guy did some bitching but I acted like i'd...       0   27      0\n",
       "5571                         Rofl. Its true to its name       0    7      0\n",
       "\n",
       "[5572 rows x 4 columns]"
      ]
     },
     "execution_count": 122,
     "metadata": {},
     "output_type": "execute_result"
    }
   ],
   "source": [
    "df"
   ]
  },
  {
   "cell_type": "code",
   "execution_count": 123,
   "id": "010f38c7",
   "metadata": {},
   "outputs": [
    {
     "data": {
      "text/plain": [
       "array([['Go until jurong point, crazy.. Available only in bugis n great world la e buffet... Cine there got amore wat...',\n",
       "        0, 24, 0],\n",
       "       ['Ok lar... Joking wif u oni...', 0, 8, 0],\n",
       "       [\"Free entry in 2 a wkly comp to win FA Cup final tkts 21st May 2005. Text FA to 87121 to receive entry question(std txt rate)T&C's apply 08452810075over18's\",\n",
       "        1, 37, 25]], dtype=object)"
      ]
     },
     "execution_count": 123,
     "metadata": {},
     "output_type": "execute_result"
    }
   ],
   "source": [
    "df.head(3).values"
   ]
  },
  {
   "cell_type": "code",
   "execution_count": 124,
   "id": "a8a3d0bb",
   "metadata": {},
   "outputs": [],
   "source": [
    "ls=len(df[df['target']==1])\n",
    "lh=len(df[df['target']==0])"
   ]
  },
  {
   "cell_type": "code",
   "execution_count": 125,
   "id": "b51356a7",
   "metadata": {},
   "outputs": [
    {
     "data": {
      "text/plain": [
       "747"
      ]
     },
     "execution_count": 125,
     "metadata": {},
     "output_type": "execute_result"
    }
   ],
   "source": [
    "ls"
   ]
  },
  {
   "cell_type": "code",
   "execution_count": 126,
   "id": "189f0c9a",
   "metadata": {},
   "outputs": [
    {
     "data": {
      "text/plain": [
       "4825"
      ]
     },
     "execution_count": 126,
     "metadata": {},
     "output_type": "execute_result"
    }
   ],
   "source": [
    "lh"
   ]
  },
  {
   "cell_type": "code",
   "execution_count": 127,
   "id": "35a4bd83",
   "metadata": {},
   "outputs": [],
   "source": [
    "spam_sum_digit=df[df['target']==1]['digit'].sum()"
   ]
  },
  {
   "cell_type": "code",
   "execution_count": 128,
   "id": "917e3feb",
   "metadata": {},
   "outputs": [],
   "source": [
    "ham_sum_digit=df[df['target']==0]['digit'].sum()"
   ]
  },
  {
   "cell_type": "code",
   "execution_count": 130,
   "id": "82cc66a1",
   "metadata": {},
   "outputs": [
    {
     "data": {
      "text/plain": [
       "15.759036144578314"
      ]
     },
     "execution_count": 130,
     "metadata": {},
     "output_type": "execute_result"
    }
   ],
   "source": [
    "spam_sum_digit/ls"
   ]
  },
  {
   "cell_type": "code",
   "execution_count": 131,
   "id": "78260049",
   "metadata": {},
   "outputs": [
    {
     "data": {
      "text/plain": [
       "0.2992746113989637"
      ]
     },
     "execution_count": 131,
     "metadata": {},
     "output_type": "execute_result"
    }
   ],
   "source": [
    "ham_sum_digit/lh"
   ]
  },
  {
   "cell_type": "code",
   "execution_count": 132,
   "id": "471ea493",
   "metadata": {},
   "outputs": [
    {
     "data": {
      "text/html": [
       "<div>\n",
       "<style scoped>\n",
       "    .dataframe tbody tr th:only-of-type {\n",
       "        vertical-align: middle;\n",
       "    }\n",
       "\n",
       "    .dataframe tbody tr th {\n",
       "        vertical-align: top;\n",
       "    }\n",
       "\n",
       "    .dataframe thead th {\n",
       "        text-align: right;\n",
       "    }\n",
       "</style>\n",
       "<table border=\"1\" class=\"dataframe\">\n",
       "  <thead>\n",
       "    <tr style=\"text-align: right;\">\n",
       "      <th></th>\n",
       "      <th>text</th>\n",
       "      <th>target</th>\n",
       "      <th>len</th>\n",
       "      <th>digit</th>\n",
       "    </tr>\n",
       "  </thead>\n",
       "  <tbody>\n",
       "    <tr>\n",
       "      <th>0</th>\n",
       "      <td>Go until jurong point, crazy.. Available only ...</td>\n",
       "      <td>0</td>\n",
       "      <td>24</td>\n",
       "      <td>0</td>\n",
       "    </tr>\n",
       "    <tr>\n",
       "      <th>1</th>\n",
       "      <td>Ok lar... Joking wif u oni...</td>\n",
       "      <td>0</td>\n",
       "      <td>8</td>\n",
       "      <td>0</td>\n",
       "    </tr>\n",
       "    <tr>\n",
       "      <th>2</th>\n",
       "      <td>Free entry in 2 a wkly comp to win FA Cup fina...</td>\n",
       "      <td>1</td>\n",
       "      <td>37</td>\n",
       "      <td>25</td>\n",
       "    </tr>\n",
       "    <tr>\n",
       "      <th>3</th>\n",
       "      <td>U dun say so early hor... U c already then say...</td>\n",
       "      <td>0</td>\n",
       "      <td>13</td>\n",
       "      <td>0</td>\n",
       "    </tr>\n",
       "    <tr>\n",
       "      <th>4</th>\n",
       "      <td>Nah I don't think he goes to usf, he lives aro...</td>\n",
       "      <td>0</td>\n",
       "      <td>15</td>\n",
       "      <td>0</td>\n",
       "    </tr>\n",
       "    <tr>\n",
       "      <th>...</th>\n",
       "      <td>...</td>\n",
       "      <td>...</td>\n",
       "      <td>...</td>\n",
       "      <td>...</td>\n",
       "    </tr>\n",
       "    <tr>\n",
       "      <th>5567</th>\n",
       "      <td>This is the 2nd time we have tried 2 contact u...</td>\n",
       "      <td>1</td>\n",
       "      <td>35</td>\n",
       "      <td>21</td>\n",
       "    </tr>\n",
       "    <tr>\n",
       "      <th>5568</th>\n",
       "      <td>Will Ì_ b going to esplanade fr home?</td>\n",
       "      <td>0</td>\n",
       "      <td>9</td>\n",
       "      <td>0</td>\n",
       "    </tr>\n",
       "    <tr>\n",
       "      <th>5569</th>\n",
       "      <td>Pity, * was in mood for that. So...any other s...</td>\n",
       "      <td>0</td>\n",
       "      <td>15</td>\n",
       "      <td>0</td>\n",
       "    </tr>\n",
       "    <tr>\n",
       "      <th>5570</th>\n",
       "      <td>The guy did some bitching but I acted like i'd...</td>\n",
       "      <td>0</td>\n",
       "      <td>27</td>\n",
       "      <td>0</td>\n",
       "    </tr>\n",
       "    <tr>\n",
       "      <th>5571</th>\n",
       "      <td>Rofl. Its true to its name</td>\n",
       "      <td>0</td>\n",
       "      <td>7</td>\n",
       "      <td>0</td>\n",
       "    </tr>\n",
       "  </tbody>\n",
       "</table>\n",
       "<p>5572 rows × 4 columns</p>\n",
       "</div>"
      ],
      "text/plain": [
       "                                                   text  target  len  digit\n",
       "0     Go until jurong point, crazy.. Available only ...       0   24      0\n",
       "1                         Ok lar... Joking wif u oni...       0    8      0\n",
       "2     Free entry in 2 a wkly comp to win FA Cup fina...       1   37     25\n",
       "3     U dun say so early hor... U c already then say...       0   13      0\n",
       "4     Nah I don't think he goes to usf, he lives aro...       0   15      0\n",
       "...                                                 ...     ...  ...    ...\n",
       "5567  This is the 2nd time we have tried 2 contact u...       1   35     21\n",
       "5568              Will Ì_ b going to esplanade fr home?       0    9      0\n",
       "5569  Pity, * was in mood for that. So...any other s...       0   15      0\n",
       "5570  The guy did some bitching but I acted like i'd...       0   27      0\n",
       "5571                         Rofl. Its true to its name       0    7      0\n",
       "\n",
       "[5572 rows x 4 columns]"
      ]
     },
     "execution_count": 132,
     "metadata": {},
     "output_type": "execute_result"
    }
   ],
   "source": [
    "df"
   ]
  },
  {
   "cell_type": "code",
   "execution_count": 136,
   "id": "c62db536",
   "metadata": {},
   "outputs": [],
   "source": [
    "tf=TfidfVectorizer(min_df=5,ngram_range=(1,3))"
   ]
  },
  {
   "cell_type": "code",
   "execution_count": 137,
   "id": "f38dc39a",
   "metadata": {},
   "outputs": [
    {
     "data": {
      "text/html": [
       "<style>#sk-container-id-8 {color: black;background-color: white;}#sk-container-id-8 pre{padding: 0;}#sk-container-id-8 div.sk-toggleable {background-color: white;}#sk-container-id-8 label.sk-toggleable__label {cursor: pointer;display: block;width: 100%;margin-bottom: 0;padding: 0.3em;box-sizing: border-box;text-align: center;}#sk-container-id-8 label.sk-toggleable__label-arrow:before {content: \"▸\";float: left;margin-right: 0.25em;color: #696969;}#sk-container-id-8 label.sk-toggleable__label-arrow:hover:before {color: black;}#sk-container-id-8 div.sk-estimator:hover label.sk-toggleable__label-arrow:before {color: black;}#sk-container-id-8 div.sk-toggleable__content {max-height: 0;max-width: 0;overflow: hidden;text-align: left;background-color: #f0f8ff;}#sk-container-id-8 div.sk-toggleable__content pre {margin: 0.2em;color: black;border-radius: 0.25em;background-color: #f0f8ff;}#sk-container-id-8 input.sk-toggleable__control:checked~div.sk-toggleable__content {max-height: 200px;max-width: 100%;overflow: auto;}#sk-container-id-8 input.sk-toggleable__control:checked~label.sk-toggleable__label-arrow:before {content: \"▾\";}#sk-container-id-8 div.sk-estimator input.sk-toggleable__control:checked~label.sk-toggleable__label {background-color: #d4ebff;}#sk-container-id-8 div.sk-label input.sk-toggleable__control:checked~label.sk-toggleable__label {background-color: #d4ebff;}#sk-container-id-8 input.sk-hidden--visually {border: 0;clip: rect(1px 1px 1px 1px);clip: rect(1px, 1px, 1px, 1px);height: 1px;margin: -1px;overflow: hidden;padding: 0;position: absolute;width: 1px;}#sk-container-id-8 div.sk-estimator {font-family: monospace;background-color: #f0f8ff;border: 1px dotted black;border-radius: 0.25em;box-sizing: border-box;margin-bottom: 0.5em;}#sk-container-id-8 div.sk-estimator:hover {background-color: #d4ebff;}#sk-container-id-8 div.sk-parallel-item::after {content: \"\";width: 100%;border-bottom: 1px solid gray;flex-grow: 1;}#sk-container-id-8 div.sk-label:hover label.sk-toggleable__label {background-color: #d4ebff;}#sk-container-id-8 div.sk-serial::before {content: \"\";position: absolute;border-left: 1px solid gray;box-sizing: border-box;top: 0;bottom: 0;left: 50%;z-index: 0;}#sk-container-id-8 div.sk-serial {display: flex;flex-direction: column;align-items: center;background-color: white;padding-right: 0.2em;padding-left: 0.2em;position: relative;}#sk-container-id-8 div.sk-item {position: relative;z-index: 1;}#sk-container-id-8 div.sk-parallel {display: flex;align-items: stretch;justify-content: center;background-color: white;position: relative;}#sk-container-id-8 div.sk-item::before, #sk-container-id-8 div.sk-parallel-item::before {content: \"\";position: absolute;border-left: 1px solid gray;box-sizing: border-box;top: 0;bottom: 0;left: 50%;z-index: -1;}#sk-container-id-8 div.sk-parallel-item {display: flex;flex-direction: column;z-index: 1;position: relative;background-color: white;}#sk-container-id-8 div.sk-parallel-item:first-child::after {align-self: flex-end;width: 50%;}#sk-container-id-8 div.sk-parallel-item:last-child::after {align-self: flex-start;width: 50%;}#sk-container-id-8 div.sk-parallel-item:only-child::after {width: 0;}#sk-container-id-8 div.sk-dashed-wrapped {border: 1px dashed gray;margin: 0 0.4em 0.5em 0.4em;box-sizing: border-box;padding-bottom: 0.4em;background-color: white;}#sk-container-id-8 div.sk-label label {font-family: monospace;font-weight: bold;display: inline-block;line-height: 1.2em;}#sk-container-id-8 div.sk-label-container {text-align: center;}#sk-container-id-8 div.sk-container {/* jupyter's `normalize.less` sets `[hidden] { display: none; }` but bootstrap.min.css set `[hidden] { display: none !important; }` so we also need the `!important` here to be able to override the default hidden behavior on the sphinx rendered scikit-learn.org. See: https://github.com/scikit-learn/scikit-learn/issues/21755 */display: inline-block !important;position: relative;}#sk-container-id-8 div.sk-text-repr-fallback {display: none;}</style><div id=\"sk-container-id-8\" class=\"sk-top-container\"><div class=\"sk-text-repr-fallback\"><pre>TfidfVectorizer(min_df=5, ngram_range=(1, 3))</pre><b>In a Jupyter environment, please rerun this cell to show the HTML representation or trust the notebook. <br />On GitHub, the HTML representation is unable to render, please try loading this page with nbviewer.org.</b></div><div class=\"sk-container\" hidden><div class=\"sk-item\"><div class=\"sk-estimator sk-toggleable\"><input class=\"sk-toggleable__control sk-hidden--visually\" id=\"sk-estimator-id-8\" type=\"checkbox\" checked><label for=\"sk-estimator-id-8\" class=\"sk-toggleable__label sk-toggleable__label-arrow\">TfidfVectorizer</label><div class=\"sk-toggleable__content\"><pre>TfidfVectorizer(min_df=5, ngram_range=(1, 3))</pre></div></div></div></div></div>"
      ],
      "text/plain": [
       "TfidfVectorizer(min_df=5, ngram_range=(1, 3))"
      ]
     },
     "execution_count": 137,
     "metadata": {},
     "output_type": "execute_result"
    }
   ],
   "source": [
    "tf"
   ]
  },
  {
   "cell_type": "code",
   "execution_count": 143,
   "id": "e2f71376",
   "metadata": {},
   "outputs": [],
   "source": [
    "X=tf.fit_transform(df['text'])"
   ]
  },
  {
   "cell_type": "code",
   "execution_count": 146,
   "id": "b22a5162",
   "metadata": {},
   "outputs": [
    {
     "data": {
      "text/plain": [
       "(5572, 4708)"
      ]
     },
     "execution_count": 146,
     "metadata": {},
     "output_type": "execute_result"
    }
   ],
   "source": [
    "X.shape"
   ]
  },
  {
   "cell_type": "code",
   "execution_count": 147,
   "id": "30e34954",
   "metadata": {},
   "outputs": [],
   "source": [
    "extra=np.array(df[['len','digit']])"
   ]
  },
  {
   "cell_type": "code",
   "execution_count": 148,
   "id": "45f06527",
   "metadata": {},
   "outputs": [
    {
     "data": {
      "text/plain": [
       "array([[24,  0],\n",
       "       [ 8,  0],\n",
       "       [37, 25],\n",
       "       ...,\n",
       "       [15,  0],\n",
       "       [27,  0],\n",
       "       [ 7,  0]], dtype=int64)"
      ]
     },
     "execution_count": 148,
     "metadata": {},
     "output_type": "execute_result"
    }
   ],
   "source": [
    "extra"
   ]
  },
  {
   "cell_type": "code",
   "execution_count": 149,
   "id": "c39da397",
   "metadata": {},
   "outputs": [
    {
     "data": {
      "text/plain": [
       "(5572, 2)"
      ]
     },
     "execution_count": 149,
     "metadata": {},
     "output_type": "execute_result"
    }
   ],
   "source": [
    "extra.shape"
   ]
  },
  {
   "cell_type": "code",
   "execution_count": 152,
   "id": "5189d300",
   "metadata": {},
   "outputs": [],
   "source": [
    "extra=np.array(extra)"
   ]
  },
  {
   "cell_type": "code",
   "execution_count": 153,
   "id": "b7c68ad3",
   "metadata": {},
   "outputs": [
    {
     "data": {
      "text/plain": [
       "array([[24,  0],\n",
       "       [ 8,  0],\n",
       "       [37, 25],\n",
       "       ...,\n",
       "       [15,  0],\n",
       "       [27,  0],\n",
       "       [ 7,  0]], dtype=int64)"
      ]
     },
     "execution_count": 153,
     "metadata": {},
     "output_type": "execute_result"
    }
   ],
   "source": [
    "extra"
   ]
  },
  {
   "cell_type": "code",
   "execution_count": 154,
   "id": "79225ec8",
   "metadata": {},
   "outputs": [],
   "source": [
    "X=np.array(X)"
   ]
  },
  {
   "cell_type": "code",
   "execution_count": 155,
   "id": "5386a8ed",
   "metadata": {},
   "outputs": [
    {
     "data": {
      "text/plain": [
       "array(<5572x4708 sparse matrix of type '<class 'numpy.float64'>'\n",
       "\twith 90581 stored elements in Compressed Sparse Row format>, dtype=object)"
      ]
     },
     "execution_count": 155,
     "metadata": {},
     "output_type": "execute_result"
    }
   ],
   "source": [
    "X"
   ]
  },
  {
   "cell_type": "code",
   "execution_count": 158,
   "id": "26c7615a",
   "metadata": {},
   "outputs": [],
   "source": [
    "from scipy.sparse import csr_matrix"
   ]
  },
  {
   "cell_type": "code",
   "execution_count": 160,
   "id": "f385451d",
   "metadata": {},
   "outputs": [],
   "source": [
    "from scipy.sparse import hstack"
   ]
  },
  {
   "cell_type": "code",
   "execution_count": 163,
   "id": "2a7f622e",
   "metadata": {},
   "outputs": [],
   "source": [
    "df['vect']=X"
   ]
  },
  {
   "cell_type": "code",
   "execution_count": 164,
   "id": "f5c27360",
   "metadata": {},
   "outputs": [
    {
     "data": {
      "text/html": [
       "<div>\n",
       "<style scoped>\n",
       "    .dataframe tbody tr th:only-of-type {\n",
       "        vertical-align: middle;\n",
       "    }\n",
       "\n",
       "    .dataframe tbody tr th {\n",
       "        vertical-align: top;\n",
       "    }\n",
       "\n",
       "    .dataframe thead th {\n",
       "        text-align: right;\n",
       "    }\n",
       "</style>\n",
       "<table border=\"1\" class=\"dataframe\">\n",
       "  <thead>\n",
       "    <tr style=\"text-align: right;\">\n",
       "      <th></th>\n",
       "      <th>text</th>\n",
       "      <th>target</th>\n",
       "      <th>len</th>\n",
       "      <th>digit</th>\n",
       "      <th>vect</th>\n",
       "    </tr>\n",
       "  </thead>\n",
       "  <tbody>\n",
       "    <tr>\n",
       "      <th>0</th>\n",
       "      <td>Go until jurong point, crazy.. Available only ...</td>\n",
       "      <td>0</td>\n",
       "      <td>24</td>\n",
       "      <td>0</td>\n",
       "      <td>(0, 4214)\\t0.21960049471061488\\n  (0, 1523)\\...</td>\n",
       "    </tr>\n",
       "    <tr>\n",
       "      <th>1</th>\n",
       "      <td>Ok lar... Joking wif u oni...</td>\n",
       "      <td>0</td>\n",
       "      <td>8</td>\n",
       "      <td>0</td>\n",
       "      <td>(0, 4365)\\t0.5154051022937712\\n  (0, 2004)\\t...</td>\n",
       "    </tr>\n",
       "    <tr>\n",
       "      <th>2</th>\n",
       "      <td>Free entry in 2 a wkly comp to win FA Cup fina...</td>\n",
       "      <td>1</td>\n",
       "      <td>37</td>\n",
       "      <td>25</td>\n",
       "      <td>(0, 4014)\\t0.22191820277677554\\n  (0, 3473)\\...</td>\n",
       "    </tr>\n",
       "    <tr>\n",
       "      <th>3</th>\n",
       "      <td>U dun say so early hor... U c already then say...</td>\n",
       "      <td>0</td>\n",
       "      <td>13</td>\n",
       "      <td>0</td>\n",
       "      <td>(0, 3382)\\t0.4439065405796152\\n  (0, 3705)\\t...</td>\n",
       "    </tr>\n",
       "    <tr>\n",
       "      <th>4</th>\n",
       "      <td>Nah I don't think he goes to usf, he lives aro...</td>\n",
       "      <td>0</td>\n",
       "      <td>15</td>\n",
       "      <td>0</td>\n",
       "      <td>(0, 1118)\\t0.35290046535436986\\n  (0, 3771)\\...</td>\n",
       "    </tr>\n",
       "    <tr>\n",
       "      <th>...</th>\n",
       "      <td>...</td>\n",
       "      <td>...</td>\n",
       "      <td>...</td>\n",
       "      <td>...</td>\n",
       "      <td>...</td>\n",
       "    </tr>\n",
       "    <tr>\n",
       "      <th>5567</th>\n",
       "      <td>This is the 2nd time we have tried 2 contact u...</td>\n",
       "      <td>1</td>\n",
       "      <td>35</td>\n",
       "      <td>21</td>\n",
       "      <td>(0, 2409)\\t0.15638903613605062\\n  (0, 2914)\\...</td>\n",
       "    </tr>\n",
       "    <tr>\n",
       "      <th>5568</th>\n",
       "      <td>Will Ì_ b going to esplanade fr home?</td>\n",
       "      <td>0</td>\n",
       "      <td>9</td>\n",
       "      <td>0</td>\n",
       "      <td>(0, 4703)\\t0.5255677210683445\\n  (0, 1353)\\t...</td>\n",
       "    </tr>\n",
       "    <tr>\n",
       "      <th>5569</th>\n",
       "      <td>Pity, * was in mood for that. So...any other s...</td>\n",
       "      <td>0</td>\n",
       "      <td>15</td>\n",
       "      <td>0</td>\n",
       "      <td>(0, 2469)\\t0.4026088439129392\\n  (0, 4207)\\t...</td>\n",
       "    </tr>\n",
       "    <tr>\n",
       "      <th>5570</th>\n",
       "      <td>The guy did some bitching but I acted like i'd...</td>\n",
       "      <td>0</td>\n",
       "      <td>27</td>\n",
       "      <td>0</td>\n",
       "      <td>(0, 2598)\\t0.256049330168673\\n  (0, 1872)\\t0...</td>\n",
       "    </tr>\n",
       "    <tr>\n",
       "      <th>5571</th>\n",
       "      <td>Rofl. Its true to its name</td>\n",
       "      <td>0</td>\n",
       "      <td>7</td>\n",
       "      <td>0</td>\n",
       "      <td>(0, 3986)\\t0.5145710682017812\\n  (0, 1979)\\t...</td>\n",
       "    </tr>\n",
       "  </tbody>\n",
       "</table>\n",
       "<p>5572 rows × 5 columns</p>\n",
       "</div>"
      ],
      "text/plain": [
       "                                                   text  target  len  digit  \\\n",
       "0     Go until jurong point, crazy.. Available only ...       0   24      0   \n",
       "1                         Ok lar... Joking wif u oni...       0    8      0   \n",
       "2     Free entry in 2 a wkly comp to win FA Cup fina...       1   37     25   \n",
       "3     U dun say so early hor... U c already then say...       0   13      0   \n",
       "4     Nah I don't think he goes to usf, he lives aro...       0   15      0   \n",
       "...                                                 ...     ...  ...    ...   \n",
       "5567  This is the 2nd time we have tried 2 contact u...       1   35     21   \n",
       "5568              Will Ì_ b going to esplanade fr home?       0    9      0   \n",
       "5569  Pity, * was in mood for that. So...any other s...       0   15      0   \n",
       "5570  The guy did some bitching but I acted like i'd...       0   27      0   \n",
       "5571                         Rofl. Its true to its name       0    7      0   \n",
       "\n",
       "                                                   vect  \n",
       "0       (0, 4214)\\t0.21960049471061488\\n  (0, 1523)\\...  \n",
       "1       (0, 4365)\\t0.5154051022937712\\n  (0, 2004)\\t...  \n",
       "2       (0, 4014)\\t0.22191820277677554\\n  (0, 3473)\\...  \n",
       "3       (0, 3382)\\t0.4439065405796152\\n  (0, 3705)\\t...  \n",
       "4       (0, 1118)\\t0.35290046535436986\\n  (0, 3771)\\...  \n",
       "...                                                 ...  \n",
       "5567    (0, 2409)\\t0.15638903613605062\\n  (0, 2914)\\...  \n",
       "5568    (0, 4703)\\t0.5255677210683445\\n  (0, 1353)\\t...  \n",
       "5569    (0, 2469)\\t0.4026088439129392\\n  (0, 4207)\\t...  \n",
       "5570    (0, 2598)\\t0.256049330168673\\n  (0, 1872)\\t0...  \n",
       "5571    (0, 3986)\\t0.5145710682017812\\n  (0, 1979)\\t...  \n",
       "\n",
       "[5572 rows x 5 columns]"
      ]
     },
     "execution_count": 164,
     "metadata": {},
     "output_type": "execute_result"
    }
   ],
   "source": [
    "df"
   ]
  },
  {
   "cell_type": "code",
   "execution_count": 167,
   "id": "10a1e990",
   "metadata": {},
   "outputs": [],
   "source": [
    "from sklearn.linear_model import LogisticRegression"
   ]
  },
  {
   "cell_type": "code",
   "execution_count": 168,
   "id": "9bd08c83",
   "metadata": {},
   "outputs": [],
   "source": [
    "lr=LogisticRegression(C=100,max_iter=1000)"
   ]
  },
  {
   "cell_type": "code",
   "execution_count": 171,
   "id": "fd619722",
   "metadata": {},
   "outputs": [],
   "source": [
    "def add_feature(X, feature_to_add):\n",
    "    from scipy.sparse import csr_matrix, hstack\n",
    "    return hstack([X, csr_matrix(feature_to_add).T], 'csr')"
   ]
  },
  {
   "cell_type": "code",
   "execution_count": 172,
   "id": "9fc6f9ca",
   "metadata": {},
   "outputs": [
    {
     "data": {
      "text/plain": [
       "array(<5572x4708 sparse matrix of type '<class 'numpy.float64'>'\n",
       "\twith 90581 stored elements in Compressed Sparse Row format>, dtype=object)"
      ]
     },
     "execution_count": 172,
     "metadata": {},
     "output_type": "execute_result"
    }
   ],
   "source": [
    "X"
   ]
  },
  {
   "cell_type": "code",
   "execution_count": 178,
   "id": "49eb4d6e",
   "metadata": {},
   "outputs": [],
   "source": [
    "df.drop(columns='vect',inplace=True)"
   ]
  },
  {
   "cell_type": "code",
   "execution_count": 179,
   "id": "1d035300",
   "metadata": {},
   "outputs": [
    {
     "data": {
      "text/html": [
       "<div>\n",
       "<style scoped>\n",
       "    .dataframe tbody tr th:only-of-type {\n",
       "        vertical-align: middle;\n",
       "    }\n",
       "\n",
       "    .dataframe tbody tr th {\n",
       "        vertical-align: top;\n",
       "    }\n",
       "\n",
       "    .dataframe thead th {\n",
       "        text-align: right;\n",
       "    }\n",
       "</style>\n",
       "<table border=\"1\" class=\"dataframe\">\n",
       "  <thead>\n",
       "    <tr style=\"text-align: right;\">\n",
       "      <th></th>\n",
       "      <th>text</th>\n",
       "      <th>target</th>\n",
       "      <th>len</th>\n",
       "      <th>digit</th>\n",
       "    </tr>\n",
       "  </thead>\n",
       "  <tbody>\n",
       "    <tr>\n",
       "      <th>0</th>\n",
       "      <td>Go until jurong point, crazy.. Available only ...</td>\n",
       "      <td>0</td>\n",
       "      <td>24</td>\n",
       "      <td>0</td>\n",
       "    </tr>\n",
       "    <tr>\n",
       "      <th>1</th>\n",
       "      <td>Ok lar... Joking wif u oni...</td>\n",
       "      <td>0</td>\n",
       "      <td>8</td>\n",
       "      <td>0</td>\n",
       "    </tr>\n",
       "    <tr>\n",
       "      <th>2</th>\n",
       "      <td>Free entry in 2 a wkly comp to win FA Cup fina...</td>\n",
       "      <td>1</td>\n",
       "      <td>37</td>\n",
       "      <td>25</td>\n",
       "    </tr>\n",
       "    <tr>\n",
       "      <th>3</th>\n",
       "      <td>U dun say so early hor... U c already then say...</td>\n",
       "      <td>0</td>\n",
       "      <td>13</td>\n",
       "      <td>0</td>\n",
       "    </tr>\n",
       "    <tr>\n",
       "      <th>4</th>\n",
       "      <td>Nah I don't think he goes to usf, he lives aro...</td>\n",
       "      <td>0</td>\n",
       "      <td>15</td>\n",
       "      <td>0</td>\n",
       "    </tr>\n",
       "    <tr>\n",
       "      <th>...</th>\n",
       "      <td>...</td>\n",
       "      <td>...</td>\n",
       "      <td>...</td>\n",
       "      <td>...</td>\n",
       "    </tr>\n",
       "    <tr>\n",
       "      <th>5567</th>\n",
       "      <td>This is the 2nd time we have tried 2 contact u...</td>\n",
       "      <td>1</td>\n",
       "      <td>35</td>\n",
       "      <td>21</td>\n",
       "    </tr>\n",
       "    <tr>\n",
       "      <th>5568</th>\n",
       "      <td>Will Ì_ b going to esplanade fr home?</td>\n",
       "      <td>0</td>\n",
       "      <td>9</td>\n",
       "      <td>0</td>\n",
       "    </tr>\n",
       "    <tr>\n",
       "      <th>5569</th>\n",
       "      <td>Pity, * was in mood for that. So...any other s...</td>\n",
       "      <td>0</td>\n",
       "      <td>15</td>\n",
       "      <td>0</td>\n",
       "    </tr>\n",
       "    <tr>\n",
       "      <th>5570</th>\n",
       "      <td>The guy did some bitching but I acted like i'd...</td>\n",
       "      <td>0</td>\n",
       "      <td>27</td>\n",
       "      <td>0</td>\n",
       "    </tr>\n",
       "    <tr>\n",
       "      <th>5571</th>\n",
       "      <td>Rofl. Its true to its name</td>\n",
       "      <td>0</td>\n",
       "      <td>7</td>\n",
       "      <td>0</td>\n",
       "    </tr>\n",
       "  </tbody>\n",
       "</table>\n",
       "<p>5572 rows × 4 columns</p>\n",
       "</div>"
      ],
      "text/plain": [
       "                                                   text  target  len  digit\n",
       "0     Go until jurong point, crazy.. Available only ...       0   24      0\n",
       "1                         Ok lar... Joking wif u oni...       0    8      0\n",
       "2     Free entry in 2 a wkly comp to win FA Cup fina...       1   37     25\n",
       "3     U dun say so early hor... U c already then say...       0   13      0\n",
       "4     Nah I don't think he goes to usf, he lives aro...       0   15      0\n",
       "...                                                 ...     ...  ...    ...\n",
       "5567  This is the 2nd time we have tried 2 contact u...       1   35     21\n",
       "5568              Will Ì_ b going to esplanade fr home?       0    9      0\n",
       "5569  Pity, * was in mood for that. So...any other s...       0   15      0\n",
       "5570  The guy did some bitching but I acted like i'd...       0   27      0\n",
       "5571                         Rofl. Its true to its name       0    7      0\n",
       "\n",
       "[5572 rows x 4 columns]"
      ]
     },
     "execution_count": 179,
     "metadata": {},
     "output_type": "execute_result"
    }
   ],
   "source": [
    "df"
   ]
  },
  {
   "cell_type": "code",
   "execution_count": 180,
   "id": "c4b3a74c",
   "metadata": {},
   "outputs": [],
   "source": [
    "vec=TfidfVectorizer(min_df=5,ngram_range=(1,3))"
   ]
  },
  {
   "cell_type": "code",
   "execution_count": 181,
   "id": "cca6ad6a",
   "metadata": {},
   "outputs": [
    {
     "data": {
      "text/html": [
       "<style>#sk-container-id-9 {color: black;background-color: white;}#sk-container-id-9 pre{padding: 0;}#sk-container-id-9 div.sk-toggleable {background-color: white;}#sk-container-id-9 label.sk-toggleable__label {cursor: pointer;display: block;width: 100%;margin-bottom: 0;padding: 0.3em;box-sizing: border-box;text-align: center;}#sk-container-id-9 label.sk-toggleable__label-arrow:before {content: \"▸\";float: left;margin-right: 0.25em;color: #696969;}#sk-container-id-9 label.sk-toggleable__label-arrow:hover:before {color: black;}#sk-container-id-9 div.sk-estimator:hover label.sk-toggleable__label-arrow:before {color: black;}#sk-container-id-9 div.sk-toggleable__content {max-height: 0;max-width: 0;overflow: hidden;text-align: left;background-color: #f0f8ff;}#sk-container-id-9 div.sk-toggleable__content pre {margin: 0.2em;color: black;border-radius: 0.25em;background-color: #f0f8ff;}#sk-container-id-9 input.sk-toggleable__control:checked~div.sk-toggleable__content {max-height: 200px;max-width: 100%;overflow: auto;}#sk-container-id-9 input.sk-toggleable__control:checked~label.sk-toggleable__label-arrow:before {content: \"▾\";}#sk-container-id-9 div.sk-estimator input.sk-toggleable__control:checked~label.sk-toggleable__label {background-color: #d4ebff;}#sk-container-id-9 div.sk-label input.sk-toggleable__control:checked~label.sk-toggleable__label {background-color: #d4ebff;}#sk-container-id-9 input.sk-hidden--visually {border: 0;clip: rect(1px 1px 1px 1px);clip: rect(1px, 1px, 1px, 1px);height: 1px;margin: -1px;overflow: hidden;padding: 0;position: absolute;width: 1px;}#sk-container-id-9 div.sk-estimator {font-family: monospace;background-color: #f0f8ff;border: 1px dotted black;border-radius: 0.25em;box-sizing: border-box;margin-bottom: 0.5em;}#sk-container-id-9 div.sk-estimator:hover {background-color: #d4ebff;}#sk-container-id-9 div.sk-parallel-item::after {content: \"\";width: 100%;border-bottom: 1px solid gray;flex-grow: 1;}#sk-container-id-9 div.sk-label:hover label.sk-toggleable__label {background-color: #d4ebff;}#sk-container-id-9 div.sk-serial::before {content: \"\";position: absolute;border-left: 1px solid gray;box-sizing: border-box;top: 0;bottom: 0;left: 50%;z-index: 0;}#sk-container-id-9 div.sk-serial {display: flex;flex-direction: column;align-items: center;background-color: white;padding-right: 0.2em;padding-left: 0.2em;position: relative;}#sk-container-id-9 div.sk-item {position: relative;z-index: 1;}#sk-container-id-9 div.sk-parallel {display: flex;align-items: stretch;justify-content: center;background-color: white;position: relative;}#sk-container-id-9 div.sk-item::before, #sk-container-id-9 div.sk-parallel-item::before {content: \"\";position: absolute;border-left: 1px solid gray;box-sizing: border-box;top: 0;bottom: 0;left: 50%;z-index: -1;}#sk-container-id-9 div.sk-parallel-item {display: flex;flex-direction: column;z-index: 1;position: relative;background-color: white;}#sk-container-id-9 div.sk-parallel-item:first-child::after {align-self: flex-end;width: 50%;}#sk-container-id-9 div.sk-parallel-item:last-child::after {align-self: flex-start;width: 50%;}#sk-container-id-9 div.sk-parallel-item:only-child::after {width: 0;}#sk-container-id-9 div.sk-dashed-wrapped {border: 1px dashed gray;margin: 0 0.4em 0.5em 0.4em;box-sizing: border-box;padding-bottom: 0.4em;background-color: white;}#sk-container-id-9 div.sk-label label {font-family: monospace;font-weight: bold;display: inline-block;line-height: 1.2em;}#sk-container-id-9 div.sk-label-container {text-align: center;}#sk-container-id-9 div.sk-container {/* jupyter's `normalize.less` sets `[hidden] { display: none; }` but bootstrap.min.css set `[hidden] { display: none !important; }` so we also need the `!important` here to be able to override the default hidden behavior on the sphinx rendered scikit-learn.org. See: https://github.com/scikit-learn/scikit-learn/issues/21755 */display: inline-block !important;position: relative;}#sk-container-id-9 div.sk-text-repr-fallback {display: none;}</style><div id=\"sk-container-id-9\" class=\"sk-top-container\"><div class=\"sk-text-repr-fallback\"><pre>TfidfVectorizer(min_df=5, ngram_range=(1, 3))</pre><b>In a Jupyter environment, please rerun this cell to show the HTML representation or trust the notebook. <br />On GitHub, the HTML representation is unable to render, please try loading this page with nbviewer.org.</b></div><div class=\"sk-container\" hidden><div class=\"sk-item\"><div class=\"sk-estimator sk-toggleable\"><input class=\"sk-toggleable__control sk-hidden--visually\" id=\"sk-estimator-id-9\" type=\"checkbox\" checked><label for=\"sk-estimator-id-9\" class=\"sk-toggleable__label sk-toggleable__label-arrow\">TfidfVectorizer</label><div class=\"sk-toggleable__content\"><pre>TfidfVectorizer(min_df=5, ngram_range=(1, 3))</pre></div></div></div></div></div>"
      ],
      "text/plain": [
       "TfidfVectorizer(min_df=5, ngram_range=(1, 3))"
      ]
     },
     "execution_count": 181,
     "metadata": {},
     "output_type": "execute_result"
    }
   ],
   "source": [
    "vec"
   ]
  },
  {
   "cell_type": "code",
   "execution_count": 184,
   "id": "2f989b1c",
   "metadata": {},
   "outputs": [],
   "source": [
    "X=df.drop(columns='target')"
   ]
  },
  {
   "cell_type": "code",
   "execution_count": 185,
   "id": "f34c89ce",
   "metadata": {},
   "outputs": [],
   "source": [
    "y=df['target']"
   ]
  },
  {
   "cell_type": "code",
   "execution_count": 186,
   "id": "3ea7a08f",
   "metadata": {},
   "outputs": [
    {
     "data": {
      "text/html": [
       "<div>\n",
       "<style scoped>\n",
       "    .dataframe tbody tr th:only-of-type {\n",
       "        vertical-align: middle;\n",
       "    }\n",
       "\n",
       "    .dataframe tbody tr th {\n",
       "        vertical-align: top;\n",
       "    }\n",
       "\n",
       "    .dataframe thead th {\n",
       "        text-align: right;\n",
       "    }\n",
       "</style>\n",
       "<table border=\"1\" class=\"dataframe\">\n",
       "  <thead>\n",
       "    <tr style=\"text-align: right;\">\n",
       "      <th></th>\n",
       "      <th>text</th>\n",
       "      <th>len</th>\n",
       "      <th>digit</th>\n",
       "    </tr>\n",
       "  </thead>\n",
       "  <tbody>\n",
       "    <tr>\n",
       "      <th>0</th>\n",
       "      <td>Go until jurong point, crazy.. Available only ...</td>\n",
       "      <td>24</td>\n",
       "      <td>0</td>\n",
       "    </tr>\n",
       "    <tr>\n",
       "      <th>1</th>\n",
       "      <td>Ok lar... Joking wif u oni...</td>\n",
       "      <td>8</td>\n",
       "      <td>0</td>\n",
       "    </tr>\n",
       "    <tr>\n",
       "      <th>2</th>\n",
       "      <td>Free entry in 2 a wkly comp to win FA Cup fina...</td>\n",
       "      <td>37</td>\n",
       "      <td>25</td>\n",
       "    </tr>\n",
       "    <tr>\n",
       "      <th>3</th>\n",
       "      <td>U dun say so early hor... U c already then say...</td>\n",
       "      <td>13</td>\n",
       "      <td>0</td>\n",
       "    </tr>\n",
       "    <tr>\n",
       "      <th>4</th>\n",
       "      <td>Nah I don't think he goes to usf, he lives aro...</td>\n",
       "      <td>15</td>\n",
       "      <td>0</td>\n",
       "    </tr>\n",
       "    <tr>\n",
       "      <th>...</th>\n",
       "      <td>...</td>\n",
       "      <td>...</td>\n",
       "      <td>...</td>\n",
       "    </tr>\n",
       "    <tr>\n",
       "      <th>5567</th>\n",
       "      <td>This is the 2nd time we have tried 2 contact u...</td>\n",
       "      <td>35</td>\n",
       "      <td>21</td>\n",
       "    </tr>\n",
       "    <tr>\n",
       "      <th>5568</th>\n",
       "      <td>Will Ì_ b going to esplanade fr home?</td>\n",
       "      <td>9</td>\n",
       "      <td>0</td>\n",
       "    </tr>\n",
       "    <tr>\n",
       "      <th>5569</th>\n",
       "      <td>Pity, * was in mood for that. So...any other s...</td>\n",
       "      <td>15</td>\n",
       "      <td>0</td>\n",
       "    </tr>\n",
       "    <tr>\n",
       "      <th>5570</th>\n",
       "      <td>The guy did some bitching but I acted like i'd...</td>\n",
       "      <td>27</td>\n",
       "      <td>0</td>\n",
       "    </tr>\n",
       "    <tr>\n",
       "      <th>5571</th>\n",
       "      <td>Rofl. Its true to its name</td>\n",
       "      <td>7</td>\n",
       "      <td>0</td>\n",
       "    </tr>\n",
       "  </tbody>\n",
       "</table>\n",
       "<p>5572 rows × 3 columns</p>\n",
       "</div>"
      ],
      "text/plain": [
       "                                                   text  len  digit\n",
       "0     Go until jurong point, crazy.. Available only ...   24      0\n",
       "1                         Ok lar... Joking wif u oni...    8      0\n",
       "2     Free entry in 2 a wkly comp to win FA Cup fina...   37     25\n",
       "3     U dun say so early hor... U c already then say...   13      0\n",
       "4     Nah I don't think he goes to usf, he lives aro...   15      0\n",
       "...                                                 ...  ...    ...\n",
       "5567  This is the 2nd time we have tried 2 contact u...   35     21\n",
       "5568              Will Ì_ b going to esplanade fr home?    9      0\n",
       "5569  Pity, * was in mood for that. So...any other s...   15      0\n",
       "5570  The guy did some bitching but I acted like i'd...   27      0\n",
       "5571                         Rofl. Its true to its name    7      0\n",
       "\n",
       "[5572 rows x 3 columns]"
      ]
     },
     "execution_count": 186,
     "metadata": {},
     "output_type": "execute_result"
    }
   ],
   "source": [
    "X"
   ]
  },
  {
   "cell_type": "code",
   "execution_count": 197,
   "id": "c1d78d74",
   "metadata": {},
   "outputs": [],
   "source": [
    "xtrain,xtest,train,ytest=train_test_split(df.drop(columns=['len','digit','target']),df['target'],test_size=0.2,random_state=0)"
   ]
  },
  {
   "cell_type": "code",
   "execution_count": 198,
   "id": "1bb22f3b",
   "metadata": {},
   "outputs": [
    {
     "data": {
      "text/html": [
       "<div>\n",
       "<style scoped>\n",
       "    .dataframe tbody tr th:only-of-type {\n",
       "        vertical-align: middle;\n",
       "    }\n",
       "\n",
       "    .dataframe tbody tr th {\n",
       "        vertical-align: top;\n",
       "    }\n",
       "\n",
       "    .dataframe thead th {\n",
       "        text-align: right;\n",
       "    }\n",
       "</style>\n",
       "<table border=\"1\" class=\"dataframe\">\n",
       "  <thead>\n",
       "    <tr style=\"text-align: right;\">\n",
       "      <th></th>\n",
       "      <th>text</th>\n",
       "    </tr>\n",
       "  </thead>\n",
       "  <tbody>\n",
       "    <tr>\n",
       "      <th>1114</th>\n",
       "      <td>No no:)this is kallis home ground.amla home to...</td>\n",
       "    </tr>\n",
       "    <tr>\n",
       "      <th>3589</th>\n",
       "      <td>I am in escape theatre now. . Going to watch K...</td>\n",
       "    </tr>\n",
       "    <tr>\n",
       "      <th>3095</th>\n",
       "      <td>We walked from my moms. Right on stagwood pass...</td>\n",
       "    </tr>\n",
       "    <tr>\n",
       "      <th>1012</th>\n",
       "      <td>I dunno they close oredi not... ÌÏ v ma fan...</td>\n",
       "    </tr>\n",
       "    <tr>\n",
       "      <th>3320</th>\n",
       "      <td>Yo im right by yo work</td>\n",
       "    </tr>\n",
       "    <tr>\n",
       "      <th>...</th>\n",
       "      <td>...</td>\n",
       "    </tr>\n",
       "    <tr>\n",
       "      <th>4931</th>\n",
       "      <td>Match started.india  &amp;lt;#&amp;gt;  for 2</td>\n",
       "    </tr>\n",
       "    <tr>\n",
       "      <th>3264</th>\n",
       "      <td>44 7732584351, Do you want a New Nokia 3510i c...</td>\n",
       "    </tr>\n",
       "    <tr>\n",
       "      <th>1653</th>\n",
       "      <td>I was at bugis juz now wat... But now i'm walk...</td>\n",
       "    </tr>\n",
       "    <tr>\n",
       "      <th>2607</th>\n",
       "      <td>:-) yeah! Lol. Luckily i didn't have a starrin...</td>\n",
       "    </tr>\n",
       "    <tr>\n",
       "      <th>2732</th>\n",
       "      <td>How dare you stupid. I wont tell anything to y...</td>\n",
       "    </tr>\n",
       "  </tbody>\n",
       "</table>\n",
       "<p>4457 rows × 1 columns</p>\n",
       "</div>"
      ],
      "text/plain": [
       "                                                   text\n",
       "1114  No no:)this is kallis home ground.amla home to...\n",
       "3589  I am in escape theatre now. . Going to watch K...\n",
       "3095  We walked from my moms. Right on stagwood pass...\n",
       "1012     I dunno they close oredi not... ÌÏ v ma fan...\n",
       "3320                             Yo im right by yo work\n",
       "...                                                 ...\n",
       "4931              Match started.india  &lt;#&gt;  for 2\n",
       "3264  44 7732584351, Do you want a New Nokia 3510i c...\n",
       "1653  I was at bugis juz now wat... But now i'm walk...\n",
       "2607  :-) yeah! Lol. Luckily i didn't have a starrin...\n",
       "2732  How dare you stupid. I wont tell anything to y...\n",
       "\n",
       "[4457 rows x 1 columns]"
      ]
     },
     "execution_count": 198,
     "metadata": {},
     "output_type": "execute_result"
    }
   ],
   "source": [
    "xtrain"
   ]
  },
  {
   "cell_type": "code",
   "execution_count": 202,
   "id": "3097eca4",
   "metadata": {},
   "outputs": [],
   "source": [
    "pattern2=re.compile(r'[^_\\w]')\n",
    "df['non-word']=df['text'].apply(lambda x: len(re.findall(pattern2,x)))"
   ]
  },
  {
   "cell_type": "code",
   "execution_count": 203,
   "id": "1577aab6",
   "metadata": {},
   "outputs": [
    {
     "data": {
      "text/html": [
       "<div>\n",
       "<style scoped>\n",
       "    .dataframe tbody tr th:only-of-type {\n",
       "        vertical-align: middle;\n",
       "    }\n",
       "\n",
       "    .dataframe tbody tr th {\n",
       "        vertical-align: top;\n",
       "    }\n",
       "\n",
       "    .dataframe thead th {\n",
       "        text-align: right;\n",
       "    }\n",
       "</style>\n",
       "<table border=\"1\" class=\"dataframe\">\n",
       "  <thead>\n",
       "    <tr style=\"text-align: right;\">\n",
       "      <th></th>\n",
       "      <th>text</th>\n",
       "      <th>target</th>\n",
       "      <th>len</th>\n",
       "      <th>digit</th>\n",
       "      <th>non-word</th>\n",
       "    </tr>\n",
       "  </thead>\n",
       "  <tbody>\n",
       "    <tr>\n",
       "      <th>0</th>\n",
       "      <td>Go until jurong point, crazy.. Available only ...</td>\n",
       "      <td>0</td>\n",
       "      <td>24</td>\n",
       "      <td>0</td>\n",
       "      <td>28</td>\n",
       "    </tr>\n",
       "    <tr>\n",
       "      <th>1</th>\n",
       "      <td>Ok lar... Joking wif u oni...</td>\n",
       "      <td>0</td>\n",
       "      <td>8</td>\n",
       "      <td>0</td>\n",
       "      <td>11</td>\n",
       "    </tr>\n",
       "    <tr>\n",
       "      <th>2</th>\n",
       "      <td>Free entry in 2 a wkly comp to win FA Cup fina...</td>\n",
       "      <td>1</td>\n",
       "      <td>37</td>\n",
       "      <td>25</td>\n",
       "      <td>33</td>\n",
       "    </tr>\n",
       "    <tr>\n",
       "      <th>3</th>\n",
       "      <td>U dun say so early hor... U c already then say...</td>\n",
       "      <td>0</td>\n",
       "      <td>13</td>\n",
       "      <td>0</td>\n",
       "      <td>16</td>\n",
       "    </tr>\n",
       "    <tr>\n",
       "      <th>4</th>\n",
       "      <td>Nah I don't think he goes to usf, he lives aro...</td>\n",
       "      <td>0</td>\n",
       "      <td>15</td>\n",
       "      <td>0</td>\n",
       "      <td>14</td>\n",
       "    </tr>\n",
       "    <tr>\n",
       "      <th>...</th>\n",
       "      <td>...</td>\n",
       "      <td>...</td>\n",
       "      <td>...</td>\n",
       "      <td>...</td>\n",
       "      <td>...</td>\n",
       "    </tr>\n",
       "    <tr>\n",
       "      <th>5567</th>\n",
       "      <td>This is the 2nd time we have tried 2 contact u...</td>\n",
       "      <td>1</td>\n",
       "      <td>35</td>\n",
       "      <td>21</td>\n",
       "      <td>38</td>\n",
       "    </tr>\n",
       "    <tr>\n",
       "      <th>5568</th>\n",
       "      <td>Will Ì_ b going to esplanade fr home?</td>\n",
       "      <td>0</td>\n",
       "      <td>9</td>\n",
       "      <td>0</td>\n",
       "      <td>8</td>\n",
       "    </tr>\n",
       "    <tr>\n",
       "      <th>5569</th>\n",
       "      <td>Pity, * was in mood for that. So...any other s...</td>\n",
       "      <td>0</td>\n",
       "      <td>15</td>\n",
       "      <td>0</td>\n",
       "      <td>16</td>\n",
       "    </tr>\n",
       "    <tr>\n",
       "      <th>5570</th>\n",
       "      <td>The guy did some bitching but I acted like i'd...</td>\n",
       "      <td>0</td>\n",
       "      <td>27</td>\n",
       "      <td>0</td>\n",
       "      <td>26</td>\n",
       "    </tr>\n",
       "    <tr>\n",
       "      <th>5571</th>\n",
       "      <td>Rofl. Its true to its name</td>\n",
       "      <td>0</td>\n",
       "      <td>7</td>\n",
       "      <td>0</td>\n",
       "      <td>6</td>\n",
       "    </tr>\n",
       "  </tbody>\n",
       "</table>\n",
       "<p>5572 rows × 5 columns</p>\n",
       "</div>"
      ],
      "text/plain": [
       "                                                   text  target  len  digit  \\\n",
       "0     Go until jurong point, crazy.. Available only ...       0   24      0   \n",
       "1                         Ok lar... Joking wif u oni...       0    8      0   \n",
       "2     Free entry in 2 a wkly comp to win FA Cup fina...       1   37     25   \n",
       "3     U dun say so early hor... U c already then say...       0   13      0   \n",
       "4     Nah I don't think he goes to usf, he lives aro...       0   15      0   \n",
       "...                                                 ...     ...  ...    ...   \n",
       "5567  This is the 2nd time we have tried 2 contact u...       1   35     21   \n",
       "5568              Will Ì_ b going to esplanade fr home?       0    9      0   \n",
       "5569  Pity, * was in mood for that. So...any other s...       0   15      0   \n",
       "5570  The guy did some bitching but I acted like i'd...       0   27      0   \n",
       "5571                         Rofl. Its true to its name       0    7      0   \n",
       "\n",
       "      non-word  \n",
       "0           28  \n",
       "1           11  \n",
       "2           33  \n",
       "3           16  \n",
       "4           14  \n",
       "...        ...  \n",
       "5567        38  \n",
       "5568         8  \n",
       "5569        16  \n",
       "5570        26  \n",
       "5571         6  \n",
       "\n",
       "[5572 rows x 5 columns]"
      ]
     },
     "execution_count": 203,
     "metadata": {},
     "output_type": "execute_result"
    }
   ],
   "source": [
    "df"
   ]
  },
  {
   "cell_type": "code",
   "execution_count": 204,
   "id": "4388e1da",
   "metadata": {},
   "outputs": [],
   "source": [
    "spam_sum=df[df['target']==1]['non-word'].sum()"
   ]
  },
  {
   "cell_type": "code",
   "execution_count": 205,
   "id": "b7cfe367",
   "metadata": {},
   "outputs": [
    {
     "data": {
      "text/plain": [
       "21694"
      ]
     },
     "execution_count": 205,
     "metadata": {},
     "output_type": "execute_result"
    }
   ],
   "source": [
    "spam_sum"
   ]
  },
  {
   "cell_type": "code",
   "execution_count": 206,
   "id": "17cf9b24",
   "metadata": {},
   "outputs": [],
   "source": [
    "ham_sum=df[df['target']==0]['non-word'].sum()"
   ]
  },
  {
   "cell_type": "code",
   "execution_count": 207,
   "id": "7f1f8c32",
   "metadata": {},
   "outputs": [
    {
     "data": {
      "text/plain": [
       "83433"
      ]
     },
     "execution_count": 207,
     "metadata": {},
     "output_type": "execute_result"
    }
   ],
   "source": [
    "ham_sum"
   ]
  },
  {
   "cell_type": "code",
   "execution_count": 208,
   "id": "dfa85e58",
   "metadata": {},
   "outputs": [
    {
     "data": {
      "text/plain": [
       "29.041499330655956"
      ]
     },
     "execution_count": 208,
     "metadata": {},
     "output_type": "execute_result"
    }
   ],
   "source": [
    "spam_sum/ls"
   ]
  },
  {
   "cell_type": "code",
   "execution_count": 209,
   "id": "b02651d7",
   "metadata": {},
   "outputs": [
    {
     "data": {
      "text/plain": [
       "17.29181347150259"
      ]
     },
     "execution_count": 209,
     "metadata": {},
     "output_type": "execute_result"
    }
   ],
   "source": [
    "ham_sum/lh"
   ]
  },
  {
   "cell_type": "code",
   "execution_count": 210,
   "id": "60367fd6",
   "metadata": {},
   "outputs": [
    {
     "data": {
      "text/plain": [
       "1114    No no:)this is kallis home ground.amla home to...\n",
       "3589    I am in escape theatre now. . Going to watch K...\n",
       "3095    We walked from my moms. Right on stagwood pass...\n",
       "1012       I dunno they close oredi not... ÌÏ v ma fan...\n",
       "3320                               Yo im right by yo work\n",
       "                              ...                        \n",
       "4931                Match started.india  &lt;#&gt;  for 2\n",
       "3264    44 7732584351, Do you want a New Nokia 3510i c...\n",
       "1653    I was at bugis juz now wat... But now i'm walk...\n",
       "2607    :-) yeah! Lol. Luckily i didn't have a starrin...\n",
       "2732    How dare you stupid. I wont tell anything to y...\n",
       "Name: text, Length: 4457, dtype: object"
      ]
     },
     "execution_count": 210,
     "metadata": {},
     "output_type": "execute_result"
    }
   ],
   "source": [
    "X_train"
   ]
  },
  {
   "cell_type": "code",
   "execution_count": 211,
   "id": "d272db2a",
   "metadata": {},
   "outputs": [
    {
     "data": {
      "text/plain": [
       "1114    0\n",
       "3589    0\n",
       "3095    0\n",
       "1012    0\n",
       "3320    0\n",
       "       ..\n",
       "4931    0\n",
       "3264    1\n",
       "1653    0\n",
       "2607    0\n",
       "2732    0\n",
       "Name: target, Length: 4457, dtype: int32"
      ]
     },
     "execution_count": 211,
     "metadata": {},
     "output_type": "execute_result"
    }
   ],
   "source": [
    "y_train"
   ]
  },
  {
   "cell_type": "code",
   "execution_count": 214,
   "id": "bbaa8705",
   "metadata": {},
   "outputs": [],
   "source": [
    "CV=CountVectorizer(min_df=5,ngram_range=(2,5),analyzer='char_wb')"
   ]
  },
  {
   "cell_type": "code",
   "execution_count": 215,
   "id": "67ff9e5b",
   "metadata": {},
   "outputs": [
    {
     "data": {
      "text/html": [
       "<style>#sk-container-id-12 {color: black;background-color: white;}#sk-container-id-12 pre{padding: 0;}#sk-container-id-12 div.sk-toggleable {background-color: white;}#sk-container-id-12 label.sk-toggleable__label {cursor: pointer;display: block;width: 100%;margin-bottom: 0;padding: 0.3em;box-sizing: border-box;text-align: center;}#sk-container-id-12 label.sk-toggleable__label-arrow:before {content: \"▸\";float: left;margin-right: 0.25em;color: #696969;}#sk-container-id-12 label.sk-toggleable__label-arrow:hover:before {color: black;}#sk-container-id-12 div.sk-estimator:hover label.sk-toggleable__label-arrow:before {color: black;}#sk-container-id-12 div.sk-toggleable__content {max-height: 0;max-width: 0;overflow: hidden;text-align: left;background-color: #f0f8ff;}#sk-container-id-12 div.sk-toggleable__content pre {margin: 0.2em;color: black;border-radius: 0.25em;background-color: #f0f8ff;}#sk-container-id-12 input.sk-toggleable__control:checked~div.sk-toggleable__content {max-height: 200px;max-width: 100%;overflow: auto;}#sk-container-id-12 input.sk-toggleable__control:checked~label.sk-toggleable__label-arrow:before {content: \"▾\";}#sk-container-id-12 div.sk-estimator input.sk-toggleable__control:checked~label.sk-toggleable__label {background-color: #d4ebff;}#sk-container-id-12 div.sk-label input.sk-toggleable__control:checked~label.sk-toggleable__label {background-color: #d4ebff;}#sk-container-id-12 input.sk-hidden--visually {border: 0;clip: rect(1px 1px 1px 1px);clip: rect(1px, 1px, 1px, 1px);height: 1px;margin: -1px;overflow: hidden;padding: 0;position: absolute;width: 1px;}#sk-container-id-12 div.sk-estimator {font-family: monospace;background-color: #f0f8ff;border: 1px dotted black;border-radius: 0.25em;box-sizing: border-box;margin-bottom: 0.5em;}#sk-container-id-12 div.sk-estimator:hover {background-color: #d4ebff;}#sk-container-id-12 div.sk-parallel-item::after {content: \"\";width: 100%;border-bottom: 1px solid gray;flex-grow: 1;}#sk-container-id-12 div.sk-label:hover label.sk-toggleable__label {background-color: #d4ebff;}#sk-container-id-12 div.sk-serial::before {content: \"\";position: absolute;border-left: 1px solid gray;box-sizing: border-box;top: 0;bottom: 0;left: 50%;z-index: 0;}#sk-container-id-12 div.sk-serial {display: flex;flex-direction: column;align-items: center;background-color: white;padding-right: 0.2em;padding-left: 0.2em;position: relative;}#sk-container-id-12 div.sk-item {position: relative;z-index: 1;}#sk-container-id-12 div.sk-parallel {display: flex;align-items: stretch;justify-content: center;background-color: white;position: relative;}#sk-container-id-12 div.sk-item::before, #sk-container-id-12 div.sk-parallel-item::before {content: \"\";position: absolute;border-left: 1px solid gray;box-sizing: border-box;top: 0;bottom: 0;left: 50%;z-index: -1;}#sk-container-id-12 div.sk-parallel-item {display: flex;flex-direction: column;z-index: 1;position: relative;background-color: white;}#sk-container-id-12 div.sk-parallel-item:first-child::after {align-self: flex-end;width: 50%;}#sk-container-id-12 div.sk-parallel-item:last-child::after {align-self: flex-start;width: 50%;}#sk-container-id-12 div.sk-parallel-item:only-child::after {width: 0;}#sk-container-id-12 div.sk-dashed-wrapped {border: 1px dashed gray;margin: 0 0.4em 0.5em 0.4em;box-sizing: border-box;padding-bottom: 0.4em;background-color: white;}#sk-container-id-12 div.sk-label label {font-family: monospace;font-weight: bold;display: inline-block;line-height: 1.2em;}#sk-container-id-12 div.sk-label-container {text-align: center;}#sk-container-id-12 div.sk-container {/* jupyter's `normalize.less` sets `[hidden] { display: none; }` but bootstrap.min.css set `[hidden] { display: none !important; }` so we also need the `!important` here to be able to override the default hidden behavior on the sphinx rendered scikit-learn.org. See: https://github.com/scikit-learn/scikit-learn/issues/21755 */display: inline-block !important;position: relative;}#sk-container-id-12 div.sk-text-repr-fallback {display: none;}</style><div id=\"sk-container-id-12\" class=\"sk-top-container\"><div class=\"sk-text-repr-fallback\"><pre>CountVectorizer(analyzer=&#x27;char_wb&#x27;, min_df=5, ngram_range=(2, 5))</pre><b>In a Jupyter environment, please rerun this cell to show the HTML representation or trust the notebook. <br />On GitHub, the HTML representation is unable to render, please try loading this page with nbviewer.org.</b></div><div class=\"sk-container\" hidden><div class=\"sk-item\"><div class=\"sk-estimator sk-toggleable\"><input class=\"sk-toggleable__control sk-hidden--visually\" id=\"sk-estimator-id-12\" type=\"checkbox\" checked><label for=\"sk-estimator-id-12\" class=\"sk-toggleable__label sk-toggleable__label-arrow\">CountVectorizer</label><div class=\"sk-toggleable__content\"><pre>CountVectorizer(analyzer=&#x27;char_wb&#x27;, min_df=5, ngram_range=(2, 5))</pre></div></div></div></div></div>"
      ],
      "text/plain": [
       "CountVectorizer(analyzer='char_wb', min_df=5, ngram_range=(2, 5))"
      ]
     },
     "execution_count": 215,
     "metadata": {},
     "output_type": "execute_result"
    }
   ],
   "source": [
    "CV"
   ]
  },
  {
   "cell_type": "code",
   "execution_count": 216,
   "id": "6ec337af",
   "metadata": {},
   "outputs": [],
   "source": [
    "l=LogisticRegression(C=100,max_iter=1000)"
   ]
  },
  {
   "cell_type": "code",
   "execution_count": 217,
   "id": "6591db65",
   "metadata": {},
   "outputs": [],
   "source": [
    "X_train=CV.fit_transform(X_train)\n",
    "X_test=CV.transform(X_test)"
   ]
  },
  {
   "cell_type": "code",
   "execution_count": 218,
   "id": "9b54cb76",
   "metadata": {},
   "outputs": [
    {
     "data": {
      "text/plain": [
       "<4457x17045 sparse matrix of type '<class 'numpy.int64'>'\n",
       "\twith 793683 stored elements in Compressed Sparse Row format>"
      ]
     },
     "execution_count": 218,
     "metadata": {},
     "output_type": "execute_result"
    }
   ],
   "source": [
    "X_train"
   ]
  },
  {
   "cell_type": "code",
   "execution_count": 220,
   "id": "102c4aa1",
   "metadata": {},
   "outputs": [],
   "source": [
    "from sklearn.metrics import roc_auc_score"
   ]
  },
  {
   "cell_type": "code",
   "execution_count": 221,
   "id": "3c258d29",
   "metadata": {},
   "outputs": [
    {
     "data": {
      "text/html": [
       "<style>#sk-container-id-13 {color: black;background-color: white;}#sk-container-id-13 pre{padding: 0;}#sk-container-id-13 div.sk-toggleable {background-color: white;}#sk-container-id-13 label.sk-toggleable__label {cursor: pointer;display: block;width: 100%;margin-bottom: 0;padding: 0.3em;box-sizing: border-box;text-align: center;}#sk-container-id-13 label.sk-toggleable__label-arrow:before {content: \"▸\";float: left;margin-right: 0.25em;color: #696969;}#sk-container-id-13 label.sk-toggleable__label-arrow:hover:before {color: black;}#sk-container-id-13 div.sk-estimator:hover label.sk-toggleable__label-arrow:before {color: black;}#sk-container-id-13 div.sk-toggleable__content {max-height: 0;max-width: 0;overflow: hidden;text-align: left;background-color: #f0f8ff;}#sk-container-id-13 div.sk-toggleable__content pre {margin: 0.2em;color: black;border-radius: 0.25em;background-color: #f0f8ff;}#sk-container-id-13 input.sk-toggleable__control:checked~div.sk-toggleable__content {max-height: 200px;max-width: 100%;overflow: auto;}#sk-container-id-13 input.sk-toggleable__control:checked~label.sk-toggleable__label-arrow:before {content: \"▾\";}#sk-container-id-13 div.sk-estimator input.sk-toggleable__control:checked~label.sk-toggleable__label {background-color: #d4ebff;}#sk-container-id-13 div.sk-label input.sk-toggleable__control:checked~label.sk-toggleable__label {background-color: #d4ebff;}#sk-container-id-13 input.sk-hidden--visually {border: 0;clip: rect(1px 1px 1px 1px);clip: rect(1px, 1px, 1px, 1px);height: 1px;margin: -1px;overflow: hidden;padding: 0;position: absolute;width: 1px;}#sk-container-id-13 div.sk-estimator {font-family: monospace;background-color: #f0f8ff;border: 1px dotted black;border-radius: 0.25em;box-sizing: border-box;margin-bottom: 0.5em;}#sk-container-id-13 div.sk-estimator:hover {background-color: #d4ebff;}#sk-container-id-13 div.sk-parallel-item::after {content: \"\";width: 100%;border-bottom: 1px solid gray;flex-grow: 1;}#sk-container-id-13 div.sk-label:hover label.sk-toggleable__label {background-color: #d4ebff;}#sk-container-id-13 div.sk-serial::before {content: \"\";position: absolute;border-left: 1px solid gray;box-sizing: border-box;top: 0;bottom: 0;left: 50%;z-index: 0;}#sk-container-id-13 div.sk-serial {display: flex;flex-direction: column;align-items: center;background-color: white;padding-right: 0.2em;padding-left: 0.2em;position: relative;}#sk-container-id-13 div.sk-item {position: relative;z-index: 1;}#sk-container-id-13 div.sk-parallel {display: flex;align-items: stretch;justify-content: center;background-color: white;position: relative;}#sk-container-id-13 div.sk-item::before, #sk-container-id-13 div.sk-parallel-item::before {content: \"\";position: absolute;border-left: 1px solid gray;box-sizing: border-box;top: 0;bottom: 0;left: 50%;z-index: -1;}#sk-container-id-13 div.sk-parallel-item {display: flex;flex-direction: column;z-index: 1;position: relative;background-color: white;}#sk-container-id-13 div.sk-parallel-item:first-child::after {align-self: flex-end;width: 50%;}#sk-container-id-13 div.sk-parallel-item:last-child::after {align-self: flex-start;width: 50%;}#sk-container-id-13 div.sk-parallel-item:only-child::after {width: 0;}#sk-container-id-13 div.sk-dashed-wrapped {border: 1px dashed gray;margin: 0 0.4em 0.5em 0.4em;box-sizing: border-box;padding-bottom: 0.4em;background-color: white;}#sk-container-id-13 div.sk-label label {font-family: monospace;font-weight: bold;display: inline-block;line-height: 1.2em;}#sk-container-id-13 div.sk-label-container {text-align: center;}#sk-container-id-13 div.sk-container {/* jupyter's `normalize.less` sets `[hidden] { display: none; }` but bootstrap.min.css set `[hidden] { display: none !important; }` so we also need the `!important` here to be able to override the default hidden behavior on the sphinx rendered scikit-learn.org. See: https://github.com/scikit-learn/scikit-learn/issues/21755 */display: inline-block !important;position: relative;}#sk-container-id-13 div.sk-text-repr-fallback {display: none;}</style><div id=\"sk-container-id-13\" class=\"sk-top-container\"><div class=\"sk-text-repr-fallback\"><pre>LogisticRegression(C=100, max_iter=1000)</pre><b>In a Jupyter environment, please rerun this cell to show the HTML representation or trust the notebook. <br />On GitHub, the HTML representation is unable to render, please try loading this page with nbviewer.org.</b></div><div class=\"sk-container\" hidden><div class=\"sk-item\"><div class=\"sk-estimator sk-toggleable\"><input class=\"sk-toggleable__control sk-hidden--visually\" id=\"sk-estimator-id-13\" type=\"checkbox\" checked><label for=\"sk-estimator-id-13\" class=\"sk-toggleable__label sk-toggleable__label-arrow\">LogisticRegression</label><div class=\"sk-toggleable__content\"><pre>LogisticRegression(C=100, max_iter=1000)</pre></div></div></div></div></div>"
      ],
      "text/plain": [
       "LogisticRegression(C=100, max_iter=1000)"
      ]
     },
     "execution_count": 221,
     "metadata": {},
     "output_type": "execute_result"
    }
   ],
   "source": [
    "l.fit(X_train,y_train)"
   ]
  },
  {
   "cell_type": "code",
   "execution_count": 222,
   "id": "dbb8c794",
   "metadata": {},
   "outputs": [
    {
     "data": {
      "text/plain": [
       "0.9753767440679473"
      ]
     },
     "execution_count": 222,
     "metadata": {},
     "output_type": "execute_result"
    }
   ],
   "source": [
    "roc_auc_score(y_test,l.predict(X_test))"
   ]
  },
  {
   "cell_type": "code",
   "execution_count": 224,
   "id": "fe5e27a6",
   "metadata": {},
   "outputs": [],
   "source": [
    "feature_names=CV.get_feature_names_out()"
   ]
  },
  {
   "cell_type": "code",
   "execution_count": 226,
   "id": "f754fae6",
   "metadata": {},
   "outputs": [
    {
     "data": {
      "text/plain": [
       "array([' !', ' ! ', ' !!', ..., 'û÷s ', 'û÷t', 'û÷t '], dtype=object)"
      ]
     },
     "execution_count": 226,
     "metadata": {},
     "output_type": "execute_result"
    }
   ],
   "source": [
    "feature_names"
   ]
  },
  {
   "cell_type": "code",
   "execution_count": 229,
   "id": "5a999c63",
   "metadata": {},
   "outputs": [],
   "source": [
    "m=l.coef_[0].argsort()"
   ]
  },
  {
   "cell_type": "code",
   "execution_count": 230,
   "id": "4c7746f7",
   "metadata": {},
   "outputs": [],
   "source": [
    "smallest=feature_names[m[:10]]"
   ]
  },
  {
   "cell_type": "code",
   "execution_count": 233,
   "id": "6b8e5be2",
   "metadata": {},
   "outputs": [],
   "source": [
    "largest=feature_names[m[:-11:-1]]"
   ]
  },
  {
   "cell_type": "code",
   "execution_count": 234,
   "id": "12e60ca4",
   "metadata": {},
   "outputs": [
    {
     "data": {
      "text/plain": [
       "array(['..', ' i', ' m', ' wor', 'pe', ' go', 'go', 'so', ':)', 'is'],\n",
       "      dtype=object)"
      ]
     },
     "execution_count": 234,
     "metadata": {},
     "output_type": "execute_result"
    }
   ],
   "source": [
    "smallest"
   ]
  },
  {
   "cell_type": "code",
   "execution_count": 235,
   "id": "13567159",
   "metadata": {},
   "outputs": [
    {
     "data": {
      "text/plain": [
       "array([' 0', ' 1', '50', '46', '08', '0p', '15', '00', '6 ', '80'],\n",
       "      dtype=object)"
      ]
     },
     "execution_count": 235,
     "metadata": {},
     "output_type": "execute_result"
    }
   ],
   "source": [
    "largest"
   ]
  }
 ],
 "metadata": {
  "kernelspec": {
   "display_name": "Python 3 (ipykernel)",
   "language": "python",
   "name": "python3"
  },
  "language_info": {
   "codemirror_mode": {
    "name": "ipython",
    "version": 3
   },
   "file_extension": ".py",
   "mimetype": "text/x-python",
   "name": "python",
   "nbconvert_exporter": "python",
   "pygments_lexer": "ipython3",
   "version": "3.10.9"
  }
 },
 "nbformat": 4,
 "nbformat_minor": 5
}
